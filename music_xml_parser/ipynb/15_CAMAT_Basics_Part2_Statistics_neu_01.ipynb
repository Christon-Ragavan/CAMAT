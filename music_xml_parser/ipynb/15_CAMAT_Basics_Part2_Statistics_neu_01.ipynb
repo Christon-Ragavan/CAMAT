{
 "cells": [
  {
   "cell_type": "markdown",
   "id": "f927a7f5",
   "metadata": {},
   "source": [
    "# Tutorial Basics Noten Part 2: Statistik - 01"
   ]
  },
  {
   "cell_type": "markdown",
   "id": "be93175e",
   "metadata": {},
   "source": [
    "Inhaltsverzeichnis: \n",
    "\n",
    "1. Abfrage von einfachen statistischen Angaben\n",
    "2. Häufigkeiten:\n",
    "            2.1 Tonhöhen\n",
    "            2.2 Tonhöhenklassen\n",
    "            2.3 Intervalle\n",
    "            2.4 Tondauern\n",
    "            2.5 Metrisches Profil\n",
    "3. Zweidimensionale Häufigkeitsverteilungen\n",
    "4. Aufgaben"
   ]
  },
  {
   "cell_type": "markdown",
   "id": "d01bea6f",
   "metadata": {},
   "source": [
    "Dieses Tutorial führt anhand von Notenbeispielen in die computergestützten Möglichkeiten einfacher statistischer Abfragen auf der Grundlage von CAMAT (Computer-Assisted Music Analysis Tool) ein. \n",
    "\n",
    "Das Durcharbeiten und Nachvollziehen des Tutoriums soll es Ihnen ermöglichen, mit den vorgestellten computergestützten Methoden eigene Musikbeispiele (Notendateien) zu untersuchen und Vergleiche zwischen verschiedenen Musikstücken durchzuführen. "
   ]
  },
  {
   "cell_type": "markdown",
   "id": "977b0416",
   "metadata": {},
   "source": [
    "Jeder Start eines Jupyter Notebooks beginnt mit dem Import einer Reihe von Python-Bibliotheken, die für die Analyse erforderlich sind:  "
   ]
  },
  {
   "cell_type": "code",
   "execution_count": 1,
   "id": "80714c6a",
   "metadata": {},
   "outputs": [],
   "source": [
    "import sys\n",
    "import os\n",
    "sys.path.append(os.getcwd().replace(os.path.join('music_xml_parser', 'ipynb'), ''))\n",
    "import music_xml_parser as mp\n",
    "from music21 import * \n",
    "import csv\n",
    "from IPython.display import HTML, display\n",
    "import numpy as np\n",
    "import pandas as pd\n",
    "import matplotlib.pyplot as plt\n",
    "\n",
    "# Mit diesen Befehlen wird nicht nur der CAMAT music_xml_parser, \n",
    "# sondern darüber hinaus die Bibliotheken 'numpy' und 'pandas' für statische Auswertungen, \n",
    "# 'music21' sowieund 'matplotlib' für grafische Darstellungen geladen. \n",
    "\n",
    "# Mit den folgenden Befehlen wird die Formtierung für die Tabellen festgelegt, \n",
    "# die weiter unten dargestellt werden - '9999' ist der Maximalwert: \n",
    "\n",
    "pd.set_option('display.max_rows', 9999)\n",
    "pd.set_option('display.max_columns', 9999)\n",
    "pd.set_option('display.width', 9999)\n",
    "    \n",
    "environment.set('autoDownload', 'allow')\n",
    "# Hierdurch wird der Download von xml-Dateien aus dem Internet ermöglicht. "
   ]
  },
  {
   "cell_type": "markdown",
   "id": "2fef3266",
   "metadata": {},
   "source": [
    "Anschließend müssen Sie die Datei laden, die Sie untersuchen wollen (aus dem Internet oder von Ihrer Festplatte bzw. aus dem Notenordner) und den xml-parser aktivieren. Dabei wird aus der xml-Datei ein neuer dataframe ('m_df') erzeugt, der den folgenden statistischen Abfragen zugrunde liegt. \n",
    "\n",
    "Wir wählen für unser Tutorial als Beispiel den ersten Satz aus dem Streichquartett KV. 171 von Wolfgang Amadeus Mozart. "
   ]
  },
  {
   "cell_type": "code",
   "execution_count": 2,
   "id": "82fe1f01",
   "metadata": {
    "scrolled": false
   },
   "outputs": [],
   "source": [
    "xml_file = 'https://analyse.hfm-weimar.de/database/03/MoWo_K171_COM_1-4_StringQuar_003_00867.xml'\n",
    "\n",
    "m_df = mp.parse.with_xml_file(file=xml_file,\n",
    "                                    save_file_name=None,\n",
    "                                    do_save=False)\n",
    "\n",
    "# Mit dem Befehl wird hieraus ein Pandas-Dataframe (mit der Bezeichnung 'm_df') erzeugt.\n",
    "# Zur Einstellung der Parameter vgl. Sie bitte das Tutorial_Part1_Introduction."
   ]
  },
  {
   "cell_type": "markdown",
   "id": "dc8ce4ae",
   "metadata": {},
   "source": [
    "### 1. Abfrage von einfachen statistischen Angaben"
   ]
  },
  {
   "cell_type": "markdown",
   "id": "57664065",
   "metadata": {},
   "source": [
    "Wir beginnen mit einfachen statistischen Abfragen der Anzahl der Stimmen, der Länge in Takten, der Anzahl der Töne (insgesamt und pro Stimmen) und dem Ambitus der einzelnen Stimmen. \n",
    "\n",
    "Bitte öffnen Sie die Notendatei parallel in Ihrem Noteneditor (z.B. MuseScore). \n",
    "\n",
    "Achtung: Da mit dem ersten Auswertungsbefehl die Daten erstmals eingelesen werden, braucht die Ausführung erfahrungsgemäß relativ lange (abhängig von Ihrem Computer und der Dateigröße bis zu mehreren Minuten). Alle späteren Befehle gehen dann aber sehr rasch!!"
   ]
  },
  {
   "cell_type": "code",
   "execution_count": 3,
   "id": "c46bf967",
   "metadata": {},
   "outputs": [
    {
     "data": {
      "text/html": [
       "<table border=\"1\" class=\"dataframe\">\n",
       "  <thead>\n",
       "    <tr style=\"text-align: right;\">\n",
       "      <th>Part ID</th>\n",
       "      <th>Part Name</th>\n",
       "    </tr>\n",
       "  </thead>\n",
       "  <tbody>\n",
       "    <tr>\n",
       "      <td>1</td>\n",
       "      <td>Violino I</td>\n",
       "    </tr>\n",
       "    <tr>\n",
       "      <td>2</td>\n",
       "      <td>Violino II</td>\n",
       "    </tr>\n",
       "    <tr>\n",
       "      <td>3</td>\n",
       "      <td>Viola</td>\n",
       "    </tr>\n",
       "    <tr>\n",
       "      <td>4</td>\n",
       "      <td>Violoncello</td>\n",
       "    </tr>\n",
       "  </tbody>\n",
       "</table>"
      ],
      "text/plain": [
       "<IPython.core.display.HTML object>"
      ]
     },
     "metadata": {},
     "output_type": "display_data"
    }
   ],
   "source": [
    "v = m_df[['PartID','PartName']].drop_duplicates().to_numpy()\n",
    "mp.utils.display_table(data=v, \n",
    "                       columns=['Part ID', 'Part Name'])\n",
    "\n",
    "# In der ersten Befehlszeile werden aus der dataframe-Liste des xml-Parser ('m_df')\n",
    "# die PartIDs und PartNames, # also die IDs und Bezeichnungen der einzelnen Stimmen, abgefragt. \n",
    "# Hierfür wird die Variable 'v' vergeben.\n",
    "# In der zweiten Zeile werden die Spaltenüberschriften der Tabelle festgelegt. \n",
    "\n",
    "# ACHTUNG: Ist in einer MusicXML-Datei keine Stimmbezeichnung festgelegt, \n",
    "# so kann diese hier natürlich auch nicht dargestellt werden ('None')!"
   ]
  },
  {
   "cell_type": "code",
   "execution_count": 4,
   "id": "27e7c47a",
   "metadata": {},
   "outputs": [
    {
     "data": {
      "text/plain": [
       "159"
      ]
     },
     "execution_count": 4,
     "metadata": {},
     "output_type": "execute_result"
    }
   ],
   "source": [
    "m = m_df['Measure'].to_numpy(dtype=int)\n",
    "max(m)\n",
    "# Abfrage der Stückänge in Takten."
   ]
  },
  {
   "cell_type": "code",
   "execution_count": 5,
   "id": "b70ddec4",
   "metadata": {},
   "outputs": [
    {
     "data": {
      "text/html": [
       "<table border=\"1\" class=\"dataframe\">\n",
       "  <thead>\n",
       "    <tr style=\"text-align: right;\">\n",
       "      <th>Part Name</th>\n",
       "      <th>Notenanzahl</th>\n",
       "    </tr>\n",
       "  </thead>\n",
       "  <tbody>\n",
       "    <tr>\n",
       "      <td>Viola</td>\n",
       "      <td>382</td>\n",
       "    </tr>\n",
       "    <tr>\n",
       "      <td>Violino I</td>\n",
       "      <td>576</td>\n",
       "    </tr>\n",
       "    <tr>\n",
       "      <td>Violino II</td>\n",
       "      <td>626</td>\n",
       "    </tr>\n",
       "    <tr>\n",
       "      <td>Violoncello</td>\n",
       "      <td>385</td>\n",
       "    </tr>\n",
       "  </tbody>\n",
       "</table>"
      ],
      "text/plain": [
       "<IPython.core.display.HTML object>"
      ]
     },
     "metadata": {},
     "output_type": "display_data"
    }
   ],
   "source": [
    "n_notes, c_notes = np.unique(m_df['PartName'], return_counts=True)\n",
    "data = [[i, c] for i, c in zip(n_notes, c_notes) ]\n",
    "mp.utils.display_table(data=data, \n",
    "                       columns=['Part Name', 'Notenanzahl'])\n",
    " \n",
    "# Abfrage der Anzahl der Töne per Stimme, \n",
    "# wobei übergebundene Noten jeweils als eine Note gezählt werden. \n",
    "# Falls die Stimmen in der xml-Datei keine Bezeichnungen besitzen, \n",
    "# so muss 'PartName' (und 'Part Name') durch 'PartID' ersetzt werden! "
   ]
  },
  {
   "cell_type": "code",
   "execution_count": 6,
   "id": "543e26be",
   "metadata": {},
   "outputs": [
    {
     "data": {
      "text/html": [
       "<table border=\"1\" class=\"dataframe\">\n",
       "  <thead>\n",
       "    <tr style=\"text-align: right;\">\n",
       "      <th>Part ID</th>\n",
       "      <th>PartName</th>\n",
       "      <th>min</th>\n",
       "      <th>max</th>\n",
       "      <th>Ambitus</th>\n",
       "    </tr>\n",
       "  </thead>\n",
       "  <tbody>\n",
       "    <tr>\n",
       "      <td>1</td>\n",
       "      <td>Violino I</td>\n",
       "      <td>57</td>\n",
       "      <td>87</td>\n",
       "      <td>30</td>\n",
       "    </tr>\n",
       "    <tr>\n",
       "      <td>2</td>\n",
       "      <td>Violino II</td>\n",
       "      <td>55</td>\n",
       "      <td>82</td>\n",
       "      <td>27</td>\n",
       "    </tr>\n",
       "    <tr>\n",
       "      <td>3</td>\n",
       "      <td>Viola</td>\n",
       "      <td>48</td>\n",
       "      <td>75</td>\n",
       "      <td>27</td>\n",
       "    </tr>\n",
       "    <tr>\n",
       "      <td>4</td>\n",
       "      <td>Violoncello</td>\n",
       "      <td>39</td>\n",
       "      <td>67</td>\n",
       "      <td>28</td>\n",
       "    </tr>\n",
       "  </tbody>\n",
       "</table>"
      ],
      "text/plain": [
       "<IPython.core.display.HTML object>"
      ]
     },
     "metadata": {},
     "output_type": "display_data"
    }
   ],
   "source": [
    "ambitus = mp.analyse.ambitus(m_df,\n",
    "                             output_as_midi=True)\n",
    "\n",
    "mp.utils.display_table(data=ambitus, \n",
    "                       columns=['Part ID', 'PartName', 'min', 'max', 'Ambitus'])\n",
    "\n",
    "# Der Ambitus per Stimme wird in Halbtonschritten angegeben. \n",
    "# Er errechnet sich aus der Differenz zwischen \n",
    "# dem niedrigsten (min) und höchsten (max) Ton, \n",
    "# hier angegeben in MIDI-Werten \n",
    "# mit c' = C4 = 60; c'' = C5 = 72 usw. "
   ]
  },
  {
   "cell_type": "code",
   "execution_count": 7,
   "id": "7a1cdc9b",
   "metadata": {},
   "outputs": [
    {
     "data": {
      "text/html": [
       "<table border=\"1\" class=\"dataframe\">\n",
       "  <thead>\n",
       "    <tr style=\"text-align: right;\">\n",
       "      <th>Part ID</th>\n",
       "      <th>PartName</th>\n",
       "      <th>min</th>\n",
       "      <th>max</th>\n",
       "      <th>Semitones Difference</th>\n",
       "    </tr>\n",
       "  </thead>\n",
       "  <tbody>\n",
       "    <tr>\n",
       "      <td>1</td>\n",
       "      <td>Violino I</td>\n",
       "      <td>A3</td>\n",
       "      <td>D#6</td>\n",
       "      <td>30</td>\n",
       "    </tr>\n",
       "    <tr>\n",
       "      <td>2</td>\n",
       "      <td>Violino II</td>\n",
       "      <td>G3</td>\n",
       "      <td>A#5</td>\n",
       "      <td>27</td>\n",
       "    </tr>\n",
       "    <tr>\n",
       "      <td>3</td>\n",
       "      <td>Viola</td>\n",
       "      <td>C3</td>\n",
       "      <td>D#5</td>\n",
       "      <td>27</td>\n",
       "    </tr>\n",
       "    <tr>\n",
       "      <td>4</td>\n",
       "      <td>Violoncello</td>\n",
       "      <td>D#2</td>\n",
       "      <td>G4</td>\n",
       "      <td>28</td>\n",
       "    </tr>\n",
       "  </tbody>\n",
       "</table>"
      ],
      "text/plain": [
       "<IPython.core.display.HTML object>"
      ]
     },
     "metadata": {},
     "output_type": "display_data"
    }
   ],
   "source": [
    "# Durch den Zusatz 'output_as_midi=False' werden die Töne mit Tonnamen angegeben. \n",
    "\n",
    "ambitus = mp.analyse.ambitus(m_df,\n",
    "                             output_as_midi=False)\n",
    "\n",
    "mp.utils.display_table(data=ambitus, \n",
    "                       columns=['Part ID', 'PartName', 'min', 'max', 'Semitones Difference'])\n"
   ]
  },
  {
   "cell_type": "code",
   "execution_count": null,
   "id": "468e632f",
   "metadata": {},
   "outputs": [],
   "source": []
  }
 ],
 "metadata": {
  "kernelspec": {
   "display_name": "Python 3",
   "language": "python",
   "name": "python3"
  },
  "language_info": {
   "codemirror_mode": {
    "name": "ipython",
    "version": 3
   },
   "file_extension": ".py",
   "mimetype": "text/x-python",
   "name": "python",
   "nbconvert_exporter": "python",
   "pygments_lexer": "ipython3",
   "version": "3.9.4"
  }
 },
 "nbformat": 4,
 "nbformat_minor": 5
}
