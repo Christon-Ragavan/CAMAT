{
 "cells": [
  {
   "cell_type": "markdown",
   "id": "1240fdb3",
   "metadata": {},
   "source": [
    "# Tutorial Advanced Noten: Suche von Intervallfolgen"
   ]
  },
  {
   "cell_type": "markdown",
   "id": "394063d5",
   "metadata": {},
   "source": [
    "(version 2022_01_03)"
   ]
  },
  {
   "cell_type": "markdown",
   "id": "5e4ae2b8",
   "metadata": {},
   "source": [
    "Dieses Tutorial führt in die Suche von Intervallfolgen auf der Grundlage von CAMAT (Computer-Assisted Music Analysis Tool) ein.\n",
    "\n",
    "Das Durcharbeiten und Nachvollziehen des Tutoriums soll es Ihnen ermöglichen, selbst Intervallfolgen in eigenen Musikbeispielen (Notendateien) zu suchen."
   ]
  },
  {
   "cell_type": "code",
   "execution_count": 1,
   "id": "81411172",
   "metadata": {},
   "outputs": [],
   "source": [
    "import sys\n",
    "import os\n",
    "sys.path.append(os.getcwd().replace(os.path.join('music_xml_parser', 'ipynb'), ''))\n",
    "import music_xml_parser as mp\n",
    "from music21 import * \n",
    "import csv\n",
    "from IPython.display import HTML, display\n",
    "import numpy as np\n",
    "import pandas as pd\n",
    "import matplotlib.pyplot as plt\n",
    "\n",
    "# Mit diesen Befehlen wird nicht nur der CAMAT music_xml_parser, \n",
    "# sondern darüber hinaus die Bibliotheken 'numpy' und 'pandas' für statische Auswertungen, \n",
    "# 'music21' sowieund 'matplotlib' für grafische Darstellungen geladen. \n",
    "\n",
    "# Mit den folgenden Befehlen wird die Formtierung für die Tabellen festgelegt, \n",
    "# die weiter unten dargestellt werden - '9999' ist der Maximalwert: \n",
    "\n",
    "    \n",
    "environment.set('autoDownload', 'allow')\n",
    "# Hierdurch wird der Download von xml-Dateien aus dem Internet ermöglicht. "
   ]
  },
  {
   "cell_type": "markdown",
   "id": "615a6d62",
   "metadata": {},
   "source": [
    "Zunächst muss eine Datei geladen werden und mit einem Variablennamen (hier: 'xml_files') bezeichnet werden: "
   ]
  },
  {
   "cell_type": "code",
   "execution_count": 2,
   "id": "4313a542",
   "metadata": {},
   "outputs": [],
   "source": [
    "xml_file = 'https://analyse.hfm-weimar.de/database/03/MoWo_K171_COM_1-4_StringQuar_003_00867.xml'"
   ]
  },
  {
   "cell_type": "markdown",
   "id": "4de5f37a",
   "metadata": {},
   "source": [
    "Mit dem folgenden Befehl wird eine Suchanfrage generiert und anschließend eine Ergebnisliste angezeigt. \n",
    "Die gesuchte Intervallfolge wird in Halbtonschritten angegeben; die einzelnen Intervallschritte werden durch ein Komma getrennt:\n",
    "\n",
    "    interval=[2, 2]\n",
    "Dadurch wird nach einer Folge von zwei aufsteigenden großen Sekunden (Ganztönen) gesucht. \n",
    "\n",
    "Will man nach einer kleinen Terz aufwärts gefolgt von kleiner Sekunde (Halbton) abwärts suchen, muss folgendes eingegeben werden: \n",
    "\n",
    "    interval=[3, -1]\n",
    "\n",
    "Die Ergebnisse können durch den Zusatz 'return_details' unterschiedlich detailliert dargestellt werden. Bei 'False' werden nur die Häufigkeiten der gesuchten Intervallfolge bezogen auf verschiedene Anfangstöne angezeigt. Bei 'True' wird das genaue Vorkommen angezeigt: in welcher Stimme, mit welchem Anfangston, in welchem Takt und bei welcher Zählzeit. \n",
    "\n",
    "    return_details=False\n",
    "    return_details=True\n"
   ]
  },
  {
   "cell_type": "code",
   "execution_count": 3,
   "id": "4ef33839",
   "metadata": {},
   "outputs": [
    {
     "name": "stdout",
     "output_type": "stream",
     "text": [
      "File at:  /Users/chris/DocumentLocal/workspace/hfm/scripts_in_progress/xml_parser/music_xml_parser/data/xmls_to_parse/hfm_database/MoWo_K171_COM_1-4_StringQuar_003_00867.xml\n"
     ]
    },
    {
     "data": {
      "text/html": [
       "<div>\n",
       "<style scoped>\n",
       "    .dataframe tbody tr th:only-of-type {\n",
       "        vertical-align: middle;\n",
       "    }\n",
       "\n",
       "    .dataframe tbody tr th {\n",
       "        vertical-align: top;\n",
       "    }\n",
       "\n",
       "    .dataframe thead th {\n",
       "        text-align: right;\n",
       "    }\n",
       "</style>\n",
       "<table border=\"1\" class=\"dataframe\">\n",
       "  <thead>\n",
       "    <tr style=\"text-align: right;\">\n",
       "      <th></th>\n",
       "      <th>Pitch</th>\n",
       "      <th>Occurance</th>\n",
       "    </tr>\n",
       "  </thead>\n",
       "  <tbody>\n",
       "    <tr>\n",
       "      <th>0</th>\n",
       "      <td>F</td>\n",
       "      <td>4</td>\n",
       "    </tr>\n",
       "    <tr>\n",
       "      <th>1</th>\n",
       "      <td>A-1</td>\n",
       "      <td>4</td>\n",
       "    </tr>\n",
       "    <tr>\n",
       "      <th>2</th>\n",
       "      <td>E-1</td>\n",
       "      <td>11</td>\n",
       "    </tr>\n",
       "    <tr>\n",
       "      <th>3</th>\n",
       "      <td>B-1</td>\n",
       "      <td>11</td>\n",
       "    </tr>\n",
       "  </tbody>\n",
       "</table>\n",
       "</div>"
      ],
      "text/plain": [
       "  Pitch Occurance\n",
       "0     F         4\n",
       "1   A-1         4\n",
       "2   E-1        11\n",
       "3   B-1        11"
      ]
     },
     "execution_count": 3,
     "metadata": {},
     "output_type": "execute_result"
    }
   ],
   "source": [
    "results_01 = mp.core.search.simple_interval_search(xml_file,\n",
    "                                                   interval=[2, 2],\n",
    "                                                   return_details=False)\n",
    "\n",
    "results_01  # durch diesen Befehl wird eine einfach Tabelle dargestellt. "
   ]
  },
  {
   "cell_type": "markdown",
   "id": "c935d482",
   "metadata": {},
   "source": [
    "Die Tonhöhen werden hier folgendermaßen benannt: \n",
    "- B entspricht H\n",
    "- 1 = mit #-Vorzeichen\n",
    "- -1 = mit b-Vorzeichen \n",
    "- -2 = mit doppeltem b-Vorzeichen usw.\n",
    "- 0 = mit Auflösungszeichen "
   ]
  },
  {
   "cell_type": "markdown",
   "id": "3bdb1584",
   "metadata": {},
   "source": [
    "Hier eine andere Suchanfrage - diesmal mit detaillierterer Tabelle ('return_details=True'):"
   ]
  },
  {
   "cell_type": "code",
   "execution_count": 4,
   "id": "95703727",
   "metadata": {},
   "outputs": [
    {
     "name": "stdout",
     "output_type": "stream",
     "text": [
      "File at:  /Users/chris/DocumentLocal/workspace/hfm/scripts_in_progress/xml_parser/music_xml_parser/data/xmls_to_parse/hfm_database/MoWo_K171_COM_1-4_StringQuar_003_00867.xml\n"
     ]
    },
    {
     "data": {
      "text/html": [
       "<div>\n",
       "<style scoped>\n",
       "    .dataframe tbody tr th:only-of-type {\n",
       "        vertical-align: middle;\n",
       "    }\n",
       "\n",
       "    .dataframe tbody tr th {\n",
       "        vertical-align: top;\n",
       "    }\n",
       "\n",
       "    .dataframe thead th {\n",
       "        text-align: right;\n",
       "    }\n",
       "</style>\n",
       "<table border=\"1\" class=\"dataframe\">\n",
       "  <thead>\n",
       "    <tr style=\"text-align: right;\">\n",
       "      <th></th>\n",
       "      <th>Pitch</th>\n",
       "      <th>Octave</th>\n",
       "      <th>MIDI</th>\n",
       "      <th>PartName</th>\n",
       "      <th>PartID</th>\n",
       "      <th>Measure</th>\n",
       "      <th>LocalOnset</th>\n",
       "      <th>Onset</th>\n",
       "    </tr>\n",
       "  </thead>\n",
       "  <tbody>\n",
       "    <tr>\n",
       "      <th>0</th>\n",
       "      <td>C</td>\n",
       "      <td>4</td>\n",
       "      <td>60.0</td>\n",
       "      <td>Violino II</td>\n",
       "      <td>2</td>\n",
       "      <td>13</td>\n",
       "      <td>0.5</td>\n",
       "      <td>48.5</td>\n",
       "    </tr>\n",
       "    <tr>\n",
       "      <th>1</th>\n",
       "      <td>F</td>\n",
       "      <td>4</td>\n",
       "      <td>65.0</td>\n",
       "      <td>Violino II</td>\n",
       "      <td>2</td>\n",
       "      <td>154</td>\n",
       "      <td>0.5</td>\n",
       "      <td>484.5</td>\n",
       "    </tr>\n",
       "    <tr>\n",
       "      <th>2</th>\n",
       "      <td>F</td>\n",
       "      <td>3</td>\n",
       "      <td>53.0</td>\n",
       "      <td>Viola</td>\n",
       "      <td>3</td>\n",
       "      <td>141</td>\n",
       "      <td>0.0</td>\n",
       "      <td>434.0</td>\n",
       "    </tr>\n",
       "  </tbody>\n",
       "</table>\n",
       "</div>"
      ],
      "text/plain": [
       "  Pitch Octave  MIDI    PartName PartID Measure LocalOnset  Onset\n",
       "0     C      4  60.0  Violino II      2      13        0.5   48.5\n",
       "1     F      4  65.0  Violino II      2     154        0.5  484.5\n",
       "2     F      3  53.0       Viola      3     141        0.0  434.0"
      ]
     },
     "execution_count": 4,
     "metadata": {},
     "output_type": "execute_result"
    }
   ],
   "source": [
    "results_02 = mp.core.search.simple_interval_search(xml_file, \n",
    "                                                   interval=[3, -1],\n",
    "                                                   return_details=True)\n",
    "results_02"
   ]
  },
  {
   "cell_type": "code",
   "execution_count": 5,
   "id": "a4f2260d",
   "metadata": {},
   "outputs": [
    {
     "name": "stdout",
     "output_type": "stream",
     "text": [
      "File at:  /Users/chris/DocumentLocal/workspace/hfm/scripts_in_progress/xml_parser/music_xml_parser/data/xmls_to_parse/hfm_database/MoWo_K171_COM_1-4_StringQuar_003_00867.xml\n"
     ]
    }
   ],
   "source": [
    "results_02 = mp.core.search.simple_interval_search(xml_file, interval=[2, 2, 1],return_details=True)\n"
   ]
  },
  {
   "cell_type": "markdown",
   "id": "89e3cb20",
   "metadata": {},
   "source": [
    "Durch den Befehl \"columns\" können die Tabellenspalten umbenannt werden: "
   ]
  },
  {
   "cell_type": "code",
   "execution_count": 6,
   "id": "80263eb1",
   "metadata": {},
   "outputs": [
    {
     "data": {
      "text/html": [
       "<table border=\"1\" class=\"dataframe\">\n",
       "  <thead>\n",
       "    <tr style=\"text-align: right;\">\n",
       "      <th>Anfangston</th>\n",
       "      <th>Oktave</th>\n",
       "      <th>Midi</th>\n",
       "      <th>Stimme</th>\n",
       "      <th>PartID</th>\n",
       "      <th>Takt</th>\n",
       "      <th>LokalTon</th>\n",
       "      <th>Ton</th>\n",
       "    </tr>\n",
       "  </thead>\n",
       "  <tbody>\n",
       "    <tr>\n",
       "      <td>E-1</td>\n",
       "      <td>4</td>\n",
       "      <td>63.0</td>\n",
       "      <td>Violino II</td>\n",
       "      <td>2</td>\n",
       "      <td>12</td>\n",
       "      <td>0.75</td>\n",
       "      <td>44.75</td>\n",
       "    </tr>\n",
       "    <tr>\n",
       "      <td>B-1</td>\n",
       "      <td>3</td>\n",
       "      <td>58.0</td>\n",
       "      <td>Violino II</td>\n",
       "      <td>2</td>\n",
       "      <td>44</td>\n",
       "      <td>1.0</td>\n",
       "      <td>144.0</td>\n",
       "    </tr>\n",
       "    <tr>\n",
       "      <td>B-1</td>\n",
       "      <td>3</td>\n",
       "      <td>58.0</td>\n",
       "      <td>Violino II</td>\n",
       "      <td>2</td>\n",
       "      <td>46</td>\n",
       "      <td>1.0</td>\n",
       "      <td>150.0</td>\n",
       "    </tr>\n",
       "    <tr>\n",
       "      <td>E-1</td>\n",
       "      <td>4</td>\n",
       "      <td>63.0</td>\n",
       "      <td>Violino II</td>\n",
       "      <td>2</td>\n",
       "      <td>108</td>\n",
       "      <td>1.0</td>\n",
       "      <td>336.0</td>\n",
       "    </tr>\n",
       "    <tr>\n",
       "      <td>E-1</td>\n",
       "      <td>4</td>\n",
       "      <td>63.0</td>\n",
       "      <td>Violino II</td>\n",
       "      <td>2</td>\n",
       "      <td>110</td>\n",
       "      <td>1.0</td>\n",
       "      <td>342.0</td>\n",
       "    </tr>\n",
       "    <tr>\n",
       "      <td>B-1</td>\n",
       "      <td>3</td>\n",
       "      <td>58.0</td>\n",
       "      <td>Violino II</td>\n",
       "      <td>2</td>\n",
       "      <td>139</td>\n",
       "      <td>2.0</td>\n",
       "      <td>430.0</td>\n",
       "    </tr>\n",
       "    <tr>\n",
       "      <td>E-1</td>\n",
       "      <td>4</td>\n",
       "      <td>63.0</td>\n",
       "      <td>Violino II</td>\n",
       "      <td>2</td>\n",
       "      <td>155</td>\n",
       "      <td>0.75</td>\n",
       "      <td>488.75</td>\n",
       "    </tr>\n",
       "    <tr>\n",
       "      <td>F</td>\n",
       "      <td>3</td>\n",
       "      <td>53.0</td>\n",
       "      <td>Violoncello</td>\n",
       "      <td>4</td>\n",
       "      <td>36</td>\n",
       "      <td>0.0</td>\n",
       "      <td>119.0</td>\n",
       "    </tr>\n",
       "    <tr>\n",
       "      <td>F</td>\n",
       "      <td>3</td>\n",
       "      <td>53.0</td>\n",
       "      <td>Violoncello</td>\n",
       "      <td>4</td>\n",
       "      <td>38</td>\n",
       "      <td>0.0</td>\n",
       "      <td>125.0</td>\n",
       "    </tr>\n",
       "    <tr>\n",
       "      <td>F</td>\n",
       "      <td>2</td>\n",
       "      <td>41.0</td>\n",
       "      <td>Violoncello</td>\n",
       "      <td>4</td>\n",
       "      <td>44</td>\n",
       "      <td>0.0</td>\n",
       "      <td>143.0</td>\n",
       "    </tr>\n",
       "    <tr>\n",
       "      <td>F</td>\n",
       "      <td>2</td>\n",
       "      <td>41.0</td>\n",
       "      <td>Violoncello</td>\n",
       "      <td>4</td>\n",
       "      <td>46</td>\n",
       "      <td>0.0</td>\n",
       "      <td>149.0</td>\n",
       "    </tr>\n",
       "    <tr>\n",
       "      <td>B-1</td>\n",
       "      <td>2</td>\n",
       "      <td>46.0</td>\n",
       "      <td>Violoncello</td>\n",
       "      <td>4</td>\n",
       "      <td>47</td>\n",
       "      <td>0.0</td>\n",
       "      <td>152.0</td>\n",
       "    </tr>\n",
       "    <tr>\n",
       "      <td>B-1</td>\n",
       "      <td>2</td>\n",
       "      <td>46.0</td>\n",
       "      <td>Violoncello</td>\n",
       "      <td>4</td>\n",
       "      <td>100</td>\n",
       "      <td>0.0</td>\n",
       "      <td>311.0</td>\n",
       "    </tr>\n",
       "    <tr>\n",
       "      <td>B-1</td>\n",
       "      <td>2</td>\n",
       "      <td>46.0</td>\n",
       "      <td>Violoncello</td>\n",
       "      <td>4</td>\n",
       "      <td>102</td>\n",
       "      <td>0.0</td>\n",
       "      <td>317.0</td>\n",
       "    </tr>\n",
       "    <tr>\n",
       "      <td>B-1</td>\n",
       "      <td>3</td>\n",
       "      <td>58.0</td>\n",
       "      <td>Violoncello</td>\n",
       "      <td>4</td>\n",
       "      <td>108</td>\n",
       "      <td>0.0</td>\n",
       "      <td>335.0</td>\n",
       "    </tr>\n",
       "    <tr>\n",
       "      <td>B-1</td>\n",
       "      <td>3</td>\n",
       "      <td>58.0</td>\n",
       "      <td>Violoncello</td>\n",
       "      <td>4</td>\n",
       "      <td>110</td>\n",
       "      <td>0.0</td>\n",
       "      <td>341.0</td>\n",
       "    </tr>\n",
       "  </tbody>\n",
       "</table>"
      ],
      "text/plain": [
       "<IPython.core.display.HTML object>"
      ]
     },
     "metadata": {},
     "output_type": "display_data"
    }
   ],
   "source": [
    "mp.utils.display_table(data=results_02, \n",
    "                       columns=['Anfangston', 'Oktave','Midi', 'Stimme', 'PartID', 'Takt', 'LokalTon','Ton'])"
   ]
  }
 ],
 "metadata": {
  "kernelspec": {
   "display_name": "Python 3",
   "language": "python",
   "name": "python3"
  },
  "language_info": {
   "codemirror_mode": {
    "name": "ipython",
    "version": 3
   },
   "file_extension": ".py",
   "mimetype": "text/x-python",
   "name": "python",
   "nbconvert_exporter": "python",
   "pygments_lexer": "ipython3",
   "version": "3.9.4"
  }
 },
 "nbformat": 4,
 "nbformat_minor": 5
}
