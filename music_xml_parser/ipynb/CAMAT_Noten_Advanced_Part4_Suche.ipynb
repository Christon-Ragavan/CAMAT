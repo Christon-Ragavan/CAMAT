{
 "cells": [
  {
   "cell_type": "markdown",
   "id": "1240fdb3",
   "metadata": {},
   "source": [
    "# Tutorial Advanced Noten: Suche von Intervallfolgen"
   ]
  },
  {
   "cell_type": "markdown",
   "id": "394063d5",
   "metadata": {},
   "source": [
    "(version 2022_01_03)"
   ]
  },
  {
   "cell_type": "markdown",
   "id": "5e4ae2b8",
   "metadata": {},
   "source": [
    "Dieses Tutorial führt in die Suche von Intervallfolgen auf der Grundlage von CAMAT (Computer-Assisted Music Analysis Tool) ein.\n",
    "\n",
    "Das Durcharbeiten und Nachvollziehen des Tutoriums soll es Ihnen ermöglichen, selbst Intervallfolgen in eigenen Musikbeispielen (Notendateien) zu suchen."
   ]
  },
  {
   "cell_type": "code",
   "execution_count": 4,
   "id": "81411172",
   "metadata": {},
   "outputs": [],
   "source": [
    "import sys\n",
    "import os\n",
    "sys.path.append(os.getcwd().replace(os.path.join('music_xml_parser', 'ipynb'), ''))\n",
    "import music_xml_parser as mp\n",
    "from music21 import * \n",
    "import csv\n",
    "from IPython.display import HTML, display\n",
    "import numpy as np\n",
    "import pandas as pd\n",
    "import matplotlib.pyplot as plt\n",
    "\n",
    "# Mit diesen Befehlen wird nicht nur der CAMAT music_xml_parser, \n",
    "# sondern darüber hinaus die Bibliotheken 'numpy' und 'pandas' für statische Auswertungen, \n",
    "# 'music21' sowieund 'matplotlib' für grafische Darstellungen geladen. \n",
    "\n",
    "# Mit den folgenden Befehlen wird die Formtierung für die Tabellen festgelegt, \n",
    "# die weiter unten dargestellt werden - '9999' ist der Maximalwert: \n",
    "\n",
    "    \n",
    "environment.set('autoDownload', 'allow')\n",
    "# Hierdurch wird der Download von xml-Dateien aus dem Internet ermöglicht. "
   ]
  },
  {
   "cell_type": "markdown",
   "id": "615a6d62",
   "metadata": {},
   "source": [
    "Zunächst muss eine Datei geladen werden und mit einem Variablennamen (hier: 'xml_files') bezeichnet werden: "
   ]
  },
  {
   "cell_type": "code",
   "execution_count": 5,
   "id": "4313a542",
   "metadata": {},
   "outputs": [],
   "source": [
    "xml_file = 'https://analyse.hfm-weimar.de/database/03/MoWo_K171_COM_1-4_StringQuar_003_00867.xml'"
   ]
  },
  {
   "cell_type": "markdown",
   "id": "4de5f37a",
   "metadata": {},
   "source": [
    "Mit dem folgenden Befehl wird eine Suchanfrage generiert und anschließend eine Ergebnisliste angezeigt. \n",
    "Die gesuchte Intervallfolge wird in Halbtonschritten angegeben; die einzelnen Intervallschritte werden durch ein Komma getrennt:\n",
    "\n",
    "    interval=[2, 2]\n",
    "Dadurch wird nach einer Folge von zwei aufsteigenden großen Sekunden (Ganztönen) gesucht. \n",
    "\n",
    "Will man nach einer kleinen Terz aufwärts gefolgt von kleiner Sekunde (Halbton) abwärts suchen, muss folgendes eingegeben werden: \n",
    "\n",
    "    interval=[3, -1]\n",
    "\n",
    "Die Ergebnisse können durch den Zusatz 'return_details' unterschiedlich detailliert dargestellt werden. Bei 'False' werden nur die Häufigkeiten der gesuchten Intervallfolge bezogen auf verschiedene Anfangstöne angezeigt. Bei 'True' wird das genaue Vorkommen angezeigt: in welcher Stimme, mit welchem Anfangston, in welchem Takt und bei welcher Zählzeit. \n",
    "\n",
    "    return_details=False\n",
    "    return_details=True\n"
   ]
  },
  {
   "cell_type": "code",
   "execution_count": 10,
   "id": "4ef33839",
   "metadata": {},
   "outputs": [
    {
     "name": "stdout",
     "output_type": "stream",
     "text": [
      "File at:  C:\\Users\\sugo9869\\Fellowship\\music_xml_parser\\data\\xmls_to_parse\\hfm_database\\MoWo_K171_COM_1-4_StringQuar_003_00867.xml\n"
     ]
    },
    {
     "data": {
      "text/html": [
       "<div>\n",
       "<style scoped>\n",
       "    .dataframe tbody tr th:only-of-type {\n",
       "        vertical-align: middle;\n",
       "    }\n",
       "\n",
       "    .dataframe tbody tr th {\n",
       "        vertical-align: top;\n",
       "    }\n",
       "\n",
       "    .dataframe thead th {\n",
       "        text-align: right;\n",
       "    }\n",
       "</style>\n",
       "<table border=\"1\" class=\"dataframe\">\n",
       "  <thead>\n",
       "    <tr style=\"text-align: right;\">\n",
       "      <th></th>\n",
       "      <th>Pitch</th>\n",
       "      <th>Occurance</th>\n",
       "    </tr>\n",
       "  </thead>\n",
       "  <tbody>\n",
       "    <tr>\n",
       "      <th>0</th>\n",
       "      <td>G</td>\n",
       "      <td>4</td>\n",
       "    </tr>\n",
       "    <tr>\n",
       "      <th>1</th>\n",
       "      <td>B-1</td>\n",
       "      <td>4</td>\n",
       "    </tr>\n",
       "    <tr>\n",
       "      <th>2</th>\n",
       "      <td>F</td>\n",
       "      <td>11</td>\n",
       "    </tr>\n",
       "    <tr>\n",
       "      <th>3</th>\n",
       "      <td>C</td>\n",
       "      <td>11</td>\n",
       "    </tr>\n",
       "  </tbody>\n",
       "</table>\n",
       "</div>"
      ],
      "text/plain": [
       "  Pitch Occurance\n",
       "0     G         4\n",
       "1   B-1         4\n",
       "2     F        11\n",
       "3     C        11"
      ]
     },
     "execution_count": 10,
     "metadata": {},
     "output_type": "execute_result"
    }
   ],
   "source": [
    "results_01 = mp.core.search.simple_interval_search(xml_file,\n",
    "                                                   interval=[2, 2],\n",
    "                                                   return_details=False)\n",
    "\n",
    "results_01  # durch diesen Befehl wird eine einfach Tabelle dargestellt. "
   ]
  },
  {
   "cell_type": "markdown",
   "id": "c935d482",
   "metadata": {},
   "source": [
    "Die Tonhöhen werden hier folgendermaßen benannt: \n",
    "- B entspricht H\n",
    "- 1 = mit #-Vorzeichen\n",
    "- -1 = mit b-Vorzeichen \n",
    "- -2 = mit doppeltem b-Vorzeichen usw.\n",
    "- 0 = mit Auflösungszeichen "
   ]
  },
  {
   "cell_type": "markdown",
   "id": "3bdb1584",
   "metadata": {},
   "source": [
    "Hier eine andere Suchanfrage - diesmal mit detaillierterer Tabelle ('return_details=True'):"
   ]
  },
  {
   "cell_type": "code",
   "execution_count": 9,
   "id": "95703727",
   "metadata": {},
   "outputs": [
    {
     "name": "stdout",
     "output_type": "stream",
     "text": [
      "File at:  C:\\Users\\sugo9869\\Fellowship\\music_xml_parser\\data\\xmls_to_parse\\hfm_database\\MoWo_K171_COM_1-4_StringQuar_003_00867.xml\n"
     ]
    },
    {
     "data": {
      "text/html": [
       "<div>\n",
       "<style scoped>\n",
       "    .dataframe tbody tr th:only-of-type {\n",
       "        vertical-align: middle;\n",
       "    }\n",
       "\n",
       "    .dataframe tbody tr th {\n",
       "        vertical-align: top;\n",
       "    }\n",
       "\n",
       "    .dataframe thead th {\n",
       "        text-align: right;\n",
       "    }\n",
       "</style>\n",
       "<table border=\"1\" class=\"dataframe\">\n",
       "  <thead>\n",
       "    <tr style=\"text-align: right;\">\n",
       "      <th></th>\n",
       "      <th>Pitch</th>\n",
       "      <th>MIDI</th>\n",
       "      <th>PartName</th>\n",
       "      <th>PartID</th>\n",
       "      <th>Measure</th>\n",
       "      <th>Onset</th>\n",
       "    </tr>\n",
       "  </thead>\n",
       "  <tbody>\n",
       "    <tr>\n",
       "      <th>0</th>\n",
       "      <td>E-1</td>\n",
       "      <td>63.0</td>\n",
       "      <td>Violino II</td>\n",
       "      <td>2</td>\n",
       "      <td>13</td>\n",
       "      <td>48.75</td>\n",
       "    </tr>\n",
       "    <tr>\n",
       "      <th>1</th>\n",
       "      <td>A-1</td>\n",
       "      <td>68.0</td>\n",
       "      <td>Violino II</td>\n",
       "      <td>2</td>\n",
       "      <td>154</td>\n",
       "      <td>484.75</td>\n",
       "    </tr>\n",
       "    <tr>\n",
       "      <th>2</th>\n",
       "      <td>A-1</td>\n",
       "      <td>56.0</td>\n",
       "      <td>Viola</td>\n",
       "      <td>3</td>\n",
       "      <td>141</td>\n",
       "      <td>435.0</td>\n",
       "    </tr>\n",
       "  </tbody>\n",
       "</table>\n",
       "</div>"
      ],
      "text/plain": [
       "  Pitch  MIDI    PartName PartID Measure   Onset\n",
       "0   E-1  63.0  Violino II      2      13   48.75\n",
       "1   A-1  68.0  Violino II      2     154  484.75\n",
       "2   A-1  56.0       Viola      3     141   435.0"
      ]
     },
     "execution_count": 9,
     "metadata": {},
     "output_type": "execute_result"
    }
   ],
   "source": [
    "results_02 = mp.core.search.simple_interval_search(xml_file, \n",
    "                                                   interval=[3, -1],\n",
    "                                                   return_details=True)\n",
    "results_02"
   ]
  },
  {
   "cell_type": "code",
   "execution_count": 5,
   "id": "a4f2260d",
   "metadata": {},
   "outputs": [
    {
     "name": "stdout",
     "output_type": "stream",
     "text": [
      "File at:  /Users/chris/DocumentLocal/workspace/hfm/scripts_in_progress/xml_parser/music_xml_parser/data/xmls_to_parse/hfm_database/MoWo_K310_COM_1-3_PianoSonat_003_00953.xml\n"
     ]
    }
   ],
   "source": [
    "results_02 = mp.core.search.simple_interval_search(xml_file, interval=[2, 2, 1],return_details=True)\n"
   ]
  },
  {
   "cell_type": "markdown",
   "id": "89e3cb20",
   "metadata": {},
   "source": [
    "Durch den Befehl \"columns\" können die Tabellenspalten umbenannt werden: "
   ]
  },
  {
   "cell_type": "code",
   "execution_count": 8,
   "id": "80263eb1",
   "metadata": {},
   "outputs": [
    {
     "data": {
      "text/html": [
       "<table border=\"1\" class=\"dataframe\">\n",
       "  <thead>\n",
       "    <tr style=\"text-align: right;\">\n",
       "      <th>Anfangston</th>\n",
       "      <th>Midi</th>\n",
       "      <th>Stimme</th>\n",
       "      <th>PartID</th>\n",
       "      <th>Takt</th>\n",
       "      <th>Ton</th>\n",
       "    </tr>\n",
       "  </thead>\n",
       "  <tbody>\n",
       "    <tr>\n",
       "      <td>E-1</td>\n",
       "      <td>63.0</td>\n",
       "      <td>Violino II</td>\n",
       "      <td>2</td>\n",
       "      <td>13</td>\n",
       "      <td>48.75</td>\n",
       "    </tr>\n",
       "    <tr>\n",
       "      <td>A-1</td>\n",
       "      <td>68.0</td>\n",
       "      <td>Violino II</td>\n",
       "      <td>2</td>\n",
       "      <td>154</td>\n",
       "      <td>484.75</td>\n",
       "    </tr>\n",
       "    <tr>\n",
       "      <td>A-1</td>\n",
       "      <td>56.0</td>\n",
       "      <td>Viola</td>\n",
       "      <td>3</td>\n",
       "      <td>141</td>\n",
       "      <td>435.0</td>\n",
       "    </tr>\n",
       "  </tbody>\n",
       "</table>"
      ],
      "text/plain": [
       "<IPython.core.display.HTML object>"
      ]
     },
     "metadata": {},
     "output_type": "display_data"
    }
   ],
   "source": [
    "mp.utils.display_table(data=results_02, \n",
    "                       columns=['Anfangston', 'Midi', 'Stimme', 'PartID', 'Takt', 'Ton'])"
   ]
  }
 ],
 "metadata": {
  "kernelspec": {
   "display_name": "Python 3",
   "language": "python",
   "name": "python3"
  },
  "language_info": {
   "codemirror_mode": {
    "name": "ipython",
    "version": 3
   },
   "file_extension": ".py",
   "mimetype": "text/x-python",
   "name": "python",
   "nbconvert_exporter": "python",
   "pygments_lexer": "ipython3",
   "version": "3.9.4"
  }
 },
 "nbformat": 4,
 "nbformat_minor": 5
}
