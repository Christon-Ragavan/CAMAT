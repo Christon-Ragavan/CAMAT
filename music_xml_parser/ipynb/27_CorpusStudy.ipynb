{
 "cells": [
  {
   "cell_type": "code",
   "execution_count": 1,
   "id": "debebfe2",
   "metadata": {},
   "outputs": [],
   "source": [
    "import sys\n",
    "import os\n",
    "sys.path.append(os.getcwd().replace(os.path.join('music_xml_parser', 'ipynb'), ''))\n",
    "\n",
    "import music_xml_parser as mp\n",
    "import csv\n",
    "from IPython.display import HTML, display\n",
    "import numpy as np\n",
    "import pandas as pd\n",
    "pd.set_option('display.max_rows', 9999)\n",
    "pd.set_option('display.max_columns', 9999)\n",
    "pd.set_option('display.width', 2)"
   ]
  },
  {
   "cell_type": "code",
   "execution_count": 2,
   "id": "0b2644ae",
   "metadata": {},
   "outputs": [],
   "source": [
    "xml_files = ['PrJode_Jos1102_COM_1-5_MissaLasol_002_00137.xml', 'BaJoSe_BWV18_COM_5-5_CantataGle_004_00110.xml']\n",
    "    "
   ]
  },
  {
   "cell_type": "code",
   "execution_count": 8,
   "id": "af8006c9",
   "metadata": {},
   "outputs": [],
   "source": [
    "df = analyse_interval(xml_files, interval_range=[6, 6],\n",
    "                      include_basic_stats=False,\n",
    "                      include_pitchclass=False,get_full_axis=False)\n"
   ]
  },
  {
   "cell_type": "code",
   "execution_count": null,
   "id": "ea69dcbd",
   "metadata": {},
   "outputs": [],
   "source": [
    "df.to_csv(\"/Users/chris/Downloads/corpus_study_full_example.csv\", sep=';')\n",
    "print(df)"
   ]
  },
  {
   "cell_type": "code",
   "execution_count": null,
   "id": "3540403d",
   "metadata": {},
   "outputs": [],
   "source": [
    "df = analyse_interval(xml_files, interval_range=None,\n",
    "                      include_basic_stats=False,\n",
    "                      include_pitchclass=False,get_full_axis=True)\n",
    "\n"
   ]
  }
 ],
 "metadata": {
  "kernelspec": {
   "display_name": "Python 3",
   "language": "python",
   "name": "python3"
  },
  "language_info": {
   "codemirror_mode": {
    "name": "ipython",
    "version": 3
   },
   "file_extension": ".py",
   "mimetype": "text/x-python",
   "name": "python",
   "nbconvert_exporter": "python",
   "pygments_lexer": "ipython3",
   "version": "3.9.4"
  }
 },
 "nbformat": 4,
 "nbformat_minor": 5
}
