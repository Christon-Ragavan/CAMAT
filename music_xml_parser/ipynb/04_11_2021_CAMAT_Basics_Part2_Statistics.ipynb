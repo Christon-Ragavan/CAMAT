{
 "cells": [
  {
   "cell_type": "markdown",
   "id": "f927a7f5",
   "metadata": {},
   "source": [
    "# Tutorial Basics Noten Part 2: Statistik"
   ]
  },
  {
   "cell_type": "markdown",
   "id": "be93175e",
   "metadata": {},
   "source": [
    "Inhaltsverzeichnis: \n",
    "\n",
    "1. Abfrage von einfachen statistischen Angaben\n",
    "2. Häufigkeiten:\n",
    "            2.1 Tonhöhen\n",
    "            2.2 Tonhöhenklassen\n",
    "            2.3 Intervalle\n",
    "            2.4 Tondauern\n",
    "            2.5 Metrisches Profil\n",
    "3. Zweidimensionale Häufigkeitsverteilungen\n",
    "4. Aufgaben"
   ]
  },
  {
   "cell_type": "markdown",
   "id": "d01bea6f",
   "metadata": {},
   "source": [
    "Dieses Tutorial führt anhand von Notenbeispielen in die computergestützten Möglichkeiten einfacher statistischer Abfragen auf der Grundlage von CAMAT (Computer-Assisted Music Analysis Tool) ein. \n",
    "\n",
    "Das Durcharbeiten und Nachvollziehen des Tutoriums soll es Ihnen ermöglichen, mit den vorgestellten computergestützten Methoden eigene Musikbeispiele (Notendateien) zu untersuchen und Vergleiche zwischen verschiedenen Musikstücken durchzuführen. "
   ]
  },
  {
   "cell_type": "markdown",
   "id": "977b0416",
   "metadata": {},
   "source": [
    "Jeder Start eines Jupyter Notebooks beginnt mit dem Import einer Reihe von Python-Bibliotheken, die für die Analyse erforderlich sind:  "
   ]
  },
  {
   "cell_type": "code",
   "execution_count": 1,
   "id": "80714c6a",
   "metadata": {},
   "outputs": [],
   "source": [
    "import sys\n",
    "import os\n",
    "sys.path.append(os.getcwd().replace(os.path.join('music_xml_parser', 'ipynb'), ''))\n",
    "import music_xml_parser as mp\n",
    "from music21 import * \n",
    "import csv\n",
    "from IPython.display import HTML, display\n",
    "import numpy as np\n",
    "import pandas as pd\n",
    "import matplotlib.pyplot as plt\n",
    "\n",
    "# Mit diesen Befehlen wird nicht nur der CAMAT music_xml_parser, \n",
    "# sondern darüber hinaus die Bibliotheken 'numpy' und 'pandas' für statische Auswertungen, \n",
    "# 'music21' sowieund 'matplotlib' für grafische Darstellungen geladen. \n",
    "\n",
    "# Mit den folgenden Befehlen wird die Formtierung für die Tabellen festgelegt, \n",
    "# die weiter unten dargestellt werden - '9999' ist der Maximalwert: \n",
    "\n",
    "pd.set_option('display.max_rows', 10)\n",
    "pd.set_option('display.max_columns', 9999)\n",
    "pd.set_option('display.width', 9999)\n",
    "    \n",
    "environment.set('autoDownload', 'allow')\n",
    "# Hierdurch wird der Download von xml-Dateien aus dem Internet ermöglicht. "
   ]
  },
  {
   "cell_type": "markdown",
   "id": "2fef3266",
   "metadata": {},
   "source": [
    "Anschließend müssen Sie die Datei laden, die Sie untersuchen wollen (aus dem Internet oder von Ihrer Festplatte bzw. aus dem Notenordner) und den xml-parser aktivieren. Dabei wird aus der xml-Datei ein neuer dataframe ('m_df') erzeugt, der den folgenden statistischen Abfragen zugrunde liegt. \n",
    "\n",
    "Wir wählen für unser Tutorial als Beispiel den ersten Satz aus dem Streichquartett KV. 171 von Wolfgang Amadeus Mozart (vgl. Basics Part 1). "
   ]
  },
  {
   "cell_type": "code",
   "execution_count": 2,
   "id": "82fe1f01",
   "metadata": {
    "scrolled": false
   },
   "outputs": [
    {
     "name": "stdout",
     "output_type": "stream",
     "text": [
      "File at:  /Users/chris/DocumentLocal/workspace/hfm/scripts_in_progress/xml_parser/music_xml_parser/data/xmls_to_parse/hfm_database/MoWo_K171_COM_1-4_StringQuar_003_00867.xml\n"
     ]
    }
   ],
   "source": [
    "xml_file = 'https://analyse.hfm-weimar.de/database/03/MoWo_K171_COM_1-4_StringQuar_003_00867.xml'\n",
    "\n",
    "m_df = mp.parse.with_xml_file(file=xml_file,\n",
    "                                    save_file_name=None,\n",
    "                                    do_save=False)\n",
    "\n",
    "# Mit dem Befehl wird hieraus ein Pandas-Dataframe (mit der Bezeichnung 'm_df') erzeugt.\n",
    "# Zur Einstellung der Parameter vgl. Sie bitte das Tutorial_Part1_Introduction."
   ]
  },
  {
   "cell_type": "code",
   "execution_count": 3,
   "id": "aafceb18",
   "metadata": {},
   "outputs": [],
   "source": [
    "# m_df\n",
    "# Wenn Sie die Dataframe-Tabelle in Ausschnitten im Browser (und nicht in der externen csv-Datei) anschauen wollen,\n",
    "# so aktivieren Sie den Befehl 'm_df' durch Löschen der Raute-Taste. \n",
    "\n",
    "# Für eine komplette Ansicht nutzen Sie den folgenden Befehl: \n",
    "# mp.utils.print_full_df(m_df)\n",
    "# ACHTUNG: Dies kann sehr rechenintensiv sein!!"
   ]
  },
  {
   "cell_type": "markdown",
   "id": "dc8ce4ae",
   "metadata": {},
   "source": [
    "### 1. Abfrage von einfachen statistischen Angaben"
   ]
  },
  {
   "cell_type": "markdown",
   "id": "57664065",
   "metadata": {},
   "source": [
    "Wir beginnen mit einfachen statistischen Abfragen der Anzahl: der Stimmen, der Länge in Takten, der Anzahl der Töne (insgesamt und pro Stimmen) und dem Ambitus der einzelnen Stimmen. \n",
    "\n",
    "Bitte öffnen Sie die Notendatei parallel in Ihrem Noteneditor (z.B. MuseScore). \n",
    "\n",
    "Achtung: Da mit dem ersten Auswertungsbefehl die Daten erstmals eingelesen werden, braucht die Ausführung erfahrungsgemäß relativ lange (abhängig von Ihrem Computer und der Dateigröße bis zu mehreren Minuten). Alle späteren Befehle gehen dann aber sehr rasch!!"
   ]
  },
  {
   "cell_type": "code",
   "execution_count": 4,
   "id": "c46bf967",
   "metadata": {},
   "outputs": [
    {
     "data": {
      "text/html": [
       "<table border=\"1\" class=\"dataframe\">\n",
       "  <thead>\n",
       "    <tr style=\"text-align: right;\">\n",
       "      <th>Part ID</th>\n",
       "      <th>Part Name</th>\n",
       "    </tr>\n",
       "  </thead>\n",
       "  <tbody>\n",
       "    <tr>\n",
       "      <td>1</td>\n",
       "      <td>Violino I</td>\n",
       "    </tr>\n",
       "    <tr>\n",
       "      <td>2</td>\n",
       "      <td>Violino II</td>\n",
       "    </tr>\n",
       "    <tr>\n",
       "      <td>3</td>\n",
       "      <td>Viola</td>\n",
       "    </tr>\n",
       "    <tr>\n",
       "      <td>4</td>\n",
       "      <td>Violoncello</td>\n",
       "    </tr>\n",
       "  </tbody>\n",
       "</table>"
      ],
      "text/plain": [
       "<IPython.core.display.HTML object>"
      ]
     },
     "metadata": {},
     "output_type": "display_data"
    }
   ],
   "source": [
    "v = m_df[['PartID','PartName']].drop_duplicates().to_numpy()\n",
    "mp.utils.display_table(data=v, \n",
    "                       columns=['Part ID', 'Part Name'])\n",
    "\n",
    "# In der ersten Befehlszeile werden aus der dataframe-Liste des xml-Parser ('m_df')\n",
    "# die PartIDs und PartNames, # also die IDs und Bezeichnungen der einzelnen Stimmen, abgefragt. \n",
    "# Hierfür wird die Variable 'v' vergeben.\n",
    "# In der zweiten Zeile werden die Spaltenüberschriften der Tabelle festgelegt. \n",
    "\n",
    "# ACHTUNG: Ist in einer MusicXML-Datei keine Stimmbezeichnung festgelegt, \n",
    "# so kann diese hier natürlich auch nicht dargestellt werden ('None')!"
   ]
  },
  {
   "cell_type": "code",
   "execution_count": 5,
   "id": "27e7c47a",
   "metadata": {},
   "outputs": [
    {
     "data": {
      "text/plain": [
       "159"
      ]
     },
     "execution_count": 5,
     "metadata": {},
     "output_type": "execute_result"
    }
   ],
   "source": [
    "m = m_df['Measure'].to_numpy(dtype=int)\n",
    "max(m)\n",
    "# Abfrage der Stückänge in Takten."
   ]
  },
  {
   "cell_type": "code",
   "execution_count": 6,
   "id": "b70ddec4",
   "metadata": {},
   "outputs": [
    {
     "data": {
      "text/html": [
       "<table border=\"1\" class=\"dataframe\">\n",
       "  <thead>\n",
       "    <tr style=\"text-align: right;\">\n",
       "      <th>Part Name</th>\n",
       "      <th>Notenanzahl</th>\n",
       "    </tr>\n",
       "  </thead>\n",
       "  <tbody>\n",
       "    <tr>\n",
       "      <td>Viola</td>\n",
       "      <td>382</td>\n",
       "    </tr>\n",
       "    <tr>\n",
       "      <td>Violino I</td>\n",
       "      <td>576</td>\n",
       "    </tr>\n",
       "    <tr>\n",
       "      <td>Violino II</td>\n",
       "      <td>626</td>\n",
       "    </tr>\n",
       "    <tr>\n",
       "      <td>Violoncello</td>\n",
       "      <td>385</td>\n",
       "    </tr>\n",
       "  </tbody>\n",
       "</table>"
      ],
      "text/plain": [
       "<IPython.core.display.HTML object>"
      ]
     },
     "metadata": {},
     "output_type": "display_data"
    }
   ],
   "source": [
    "n_notes, c_notes = np.unique(m_df['PartName'], return_counts=True)\n",
    "data = [[i, c] for i, c in zip(n_notes, c_notes) ]\n",
    "mp.utils.display_table(data=data, \n",
    "                       columns=['Part Name', 'Notenanzahl'])\n",
    " \n",
    "# Abfrage der Anzahl der Töne per Stimme, \n",
    "# wobei übergebundene Noten jeweils als eine Note gezählt werden. \n",
    "# Falls die Stimmen in der xml-Datei keine Bezeichnungen besitzen, \n",
    "# so muss 'PartName' (und 'Part Name') durch 'PartID' ersetzt werden! "
   ]
  },
  {
   "cell_type": "code",
   "execution_count": 7,
   "id": "543e26be",
   "metadata": {},
   "outputs": [
    {
     "data": {
      "text/html": [
       "<table border=\"1\" class=\"dataframe\">\n",
       "  <thead>\n",
       "    <tr style=\"text-align: right;\">\n",
       "      <th>Part ID</th>\n",
       "      <th>PartName</th>\n",
       "      <th>min</th>\n",
       "      <th>max</th>\n",
       "      <th>Ambitus</th>\n",
       "    </tr>\n",
       "  </thead>\n",
       "  <tbody>\n",
       "    <tr>\n",
       "      <td>1</td>\n",
       "      <td>Violino I</td>\n",
       "      <td>57</td>\n",
       "      <td>87</td>\n",
       "      <td>30</td>\n",
       "    </tr>\n",
       "    <tr>\n",
       "      <td>2</td>\n",
       "      <td>Violino II</td>\n",
       "      <td>55</td>\n",
       "      <td>82</td>\n",
       "      <td>27</td>\n",
       "    </tr>\n",
       "    <tr>\n",
       "      <td>3</td>\n",
       "      <td>Viola</td>\n",
       "      <td>48</td>\n",
       "      <td>75</td>\n",
       "      <td>27</td>\n",
       "    </tr>\n",
       "    <tr>\n",
       "      <td>4</td>\n",
       "      <td>Violoncello</td>\n",
       "      <td>39</td>\n",
       "      <td>67</td>\n",
       "      <td>28</td>\n",
       "    </tr>\n",
       "  </tbody>\n",
       "</table>"
      ],
      "text/plain": [
       "<IPython.core.display.HTML object>"
      ]
     },
     "metadata": {},
     "output_type": "display_data"
    }
   ],
   "source": [
    "ambitus = mp.analyse.ambitus(m_df,\n",
    "                             output_as_midi=True)\n",
    "\n",
    "mp.utils.display_table(data=ambitus, \n",
    "                       columns=['Part ID', 'PartName', 'min', 'max', 'Ambitus'])\n",
    "\n",
    "# Der Ambitus per Stimme wird in Halbtonschritten angegeben. \n",
    "# Er errechnet sich aus der Differenz zwischen \n",
    "# dem niedrigsten (min) und höchsten (max) Ton, \n",
    "# hier angegeben in MIDI-Werten \n",
    "# mit c' = C4 = 60; c'' = C5 = 72 usw. "
   ]
  },
  {
   "cell_type": "code",
   "execution_count": 8,
   "id": "7a1cdc9b",
   "metadata": {},
   "outputs": [
    {
     "data": {
      "text/html": [
       "<table border=\"1\" class=\"dataframe\">\n",
       "  <thead>\n",
       "    <tr style=\"text-align: right;\">\n",
       "      <th>Part ID</th>\n",
       "      <th>PartName</th>\n",
       "      <th>min</th>\n",
       "      <th>max</th>\n",
       "      <th>Semitones Difference</th>\n",
       "    </tr>\n",
       "  </thead>\n",
       "  <tbody>\n",
       "    <tr>\n",
       "      <td>1</td>\n",
       "      <td>Violino I</td>\n",
       "      <td>A3</td>\n",
       "      <td>D#6</td>\n",
       "      <td>30</td>\n",
       "    </tr>\n",
       "    <tr>\n",
       "      <td>2</td>\n",
       "      <td>Violino II</td>\n",
       "      <td>G3</td>\n",
       "      <td>A#5</td>\n",
       "      <td>27</td>\n",
       "    </tr>\n",
       "    <tr>\n",
       "      <td>3</td>\n",
       "      <td>Viola</td>\n",
       "      <td>C3</td>\n",
       "      <td>D#5</td>\n",
       "      <td>27</td>\n",
       "    </tr>\n",
       "    <tr>\n",
       "      <td>4</td>\n",
       "      <td>Violoncello</td>\n",
       "      <td>D#2</td>\n",
       "      <td>G4</td>\n",
       "      <td>28</td>\n",
       "    </tr>\n",
       "  </tbody>\n",
       "</table>"
      ],
      "text/plain": [
       "<IPython.core.display.HTML object>"
      ]
     },
     "metadata": {},
     "output_type": "display_data"
    }
   ],
   "source": [
    "# Durch den Zusatz 'output_as_midi=False' werden die Töne mit Tonnamen angegeben. \n",
    "\n",
    "ambitus = mp.analyse.ambitus(m_df,\n",
    "                             output_as_midi=False)\n",
    "\n",
    "mp.utils.display_table(data=ambitus, \n",
    "                       columns=['Part ID', 'PartName', 'min', 'max', 'Semitones Difference'])\n"
   ]
  },
  {
   "cell_type": "markdown",
   "id": "595a6d86",
   "metadata": {},
   "source": [
    "### 2. Häufigkeiten"
   ]
  },
  {
   "cell_type": "markdown",
   "id": "1408c885",
   "metadata": {},
   "source": [
    "Zur Charakterisierung einzelner Musikstücke und zum Vergleich zwischen verschiedenen Musikstücken kann es sinnvoll sein, die Häufigkeit bestimmter Elemente (Tonhöhen, Notendauern etc.) zu bestimmen. Für solche Fragen lassen sich Häufigkeitstabellen und grafische Darstellungen, sog. Histogramme, erstellen. "
   ]
  },
  {
   "cell_type": "markdown",
   "id": "f3b846f5",
   "metadata": {},
   "source": [
    "### 2.1 Tonhöhen"
   ]
  },
  {
   "cell_type": "markdown",
   "id": "531359ea",
   "metadata": {},
   "source": [
    "Welche Töne tauchen wie häufig auf? Wie diatonisch ist der Tonraum der Komposition, wie viele zusätzliche chromatische Töne tauchen auf?"
   ]
  },
  {
   "cell_type": "code",
   "execution_count": 9,
   "id": "3a68f363",
   "metadata": {
    "scrolled": true
   },
   "outputs": [
    {
     "data": {
      "image/png": "[encoded data removed]",
      "text/plain": [
       "<Figure size 864x288 with 1 Axes>"
      ]
     },
     "metadata": {
      "image/png": {
       "height": 261,
       "width": 728
      },
      "needs_background": "light"
     },
     "output_type": "display_data"
    }
   ],
   "source": [
    "pitch_hist = mp.analyse.pitch_histogram(m_df, \n",
    "                                        do_plot=True, \n",
    "                                        visulize_midi_range=None)\n",
    "\n",
    "# Mit der ersten Zeile wird aus 'm_df' eine Histogrammdarstellung mit dem Namen 'pitch_hist' erzeugt. \n",
    "# Durch den Parameter 'do_plot=True' wird die Grafik dargestellt. \n",
    "# Durch 'visulize_midi_range=None' wird eine Tabellendarstellung (s. unten) verhindert. "
   ]
  },
  {
   "cell_type": "markdown",
   "id": "f315302d",
   "metadata": {},
   "source": [
    "Was können wir erkennen?\n",
    "\n",
    "Mozart verwendet in der Komposition anscheinend hauptsächlich Töne der Es-Dur-Tonleiter (es=D#, as=G#, b=a# usw.) und kaum chromatische Töne. "
   ]
  },
  {
   "cell_type": "markdown",
   "id": "a04f5f21",
   "metadata": {},
   "source": [
    "Tipp: Die Grafik lässt sich auch in einem externen Pop-Up-Fenster des Programms Matplotlib darstellen und dort weiterverarbeiten, vergrößern, umformatieren und speichern etc. Dazu muss dem Code der Befehl '%matplotlib' vorangestellt werden. \n",
    "Anschließend muss Matplotlib durch den Befehl '%matplotlib inline' wieder ausgeschaltet werden. Ansonsten werden alle folgenden Grafiken ebenfalls extern dargestellt.  "
   ]
  },
  {
   "cell_type": "markdown",
   "id": "36781e4e",
   "metadata": {},
   "source": [
    "Wir wollen nun genau wissen, wie häufig die einzelnen Töne auftauchen! "
   ]
  },
  {
   "cell_type": "code",
   "execution_count": 12,
   "id": "e7b9021b",
   "metadata": {
    "scrolled": false
   },
   "outputs": [
    {
     "data": {
      "image/png": "[encoded data removed]",
      "text/plain": [
       "<Figure size 864x288 with 1 Axes>"
      ]
     },
     "metadata": {
      "image/png": {
       "height": 261,
       "width": 728
      },
      "needs_background": "light"
     },
     "output_type": "display_data"
    },
    {
     "data": {
      "text/html": [
       "<table border=\"1\" class=\"dataframe\">\n",
       "  <thead>\n",
       "    <tr style=\"text-align: right;\">\n",
       "      <th>MIDI</th>\n",
       "      <th>Pitch</th>\n",
       "      <th>Octave</th>\n",
       "      <th>Occurences</th>\n",
       "    </tr>\n",
       "  </thead>\n",
       "  <tbody>\n",
       "    <tr>\n",
       "      <td>39</td>\n",
       "      <td>E-1</td>\n",
       "      <td>2</td>\n",
       "      <td>7</td>\n",
       "    </tr>\n",
       "    <tr>\n",
       "      <td>41</td>\n",
       "      <td>F</td>\n",
       "      <td>2</td>\n",
       "      <td>7</td>\n",
       "    </tr>\n",
       "    <tr>\n",
       "      <td>43</td>\n",
       "      <td>G</td>\n",
       "      <td>2</td>\n",
       "      <td>9</td>\n",
       "    </tr>\n",
       "    <tr>\n",
       "      <td>44</td>\n",
       "      <td>A-1</td>\n",
       "      <td>2</td>\n",
       "      <td>13</td>\n",
       "    </tr>\n",
       "    <tr>\n",
       "      <td>45</td>\n",
       "      <td>A0</td>\n",
       "      <td>2</td>\n",
       "      <td>6</td>\n",
       "    </tr>\n",
       "    <tr>\n",
       "      <td>46</td>\n",
       "      <td>B-1</td>\n",
       "      <td>2</td>\n",
       "      <td>51</td>\n",
       "    </tr>\n",
       "    <tr>\n",
       "      <td>47</td>\n",
       "      <td>B0</td>\n",
       "      <td>2</td>\n",
       "      <td>4</td>\n",
       "    </tr>\n",
       "    <tr>\n",
       "      <td>48</td>\n",
       "      <td>C</td>\n",
       "      <td>3</td>\n",
       "      <td>22</td>\n",
       "    </tr>\n",
       "    <tr>\n",
       "      <td>49</td>\n",
       "      <td>D-1</td>\n",
       "      <td>3</td>\n",
       "      <td>2</td>\n",
       "    </tr>\n",
       "    <tr>\n",
       "      <td>50</td>\n",
       "      <td>D</td>\n",
       "      <td>3</td>\n",
       "      <td>25</td>\n",
       "    </tr>\n",
       "    <tr>\n",
       "      <td>51</td>\n",
       "      <td>E-1</td>\n",
       "      <td>3</td>\n",
       "      <td>59</td>\n",
       "    </tr>\n",
       "    <tr>\n",
       "      <td>53</td>\n",
       "      <td>F</td>\n",
       "      <td>3</td>\n",
       "      <td>46</td>\n",
       "    </tr>\n",
       "    <tr>\n",
       "      <td>55</td>\n",
       "      <td>G</td>\n",
       "      <td>3</td>\n",
       "      <td>45</td>\n",
       "    </tr>\n",
       "    <tr>\n",
       "      <td>56</td>\n",
       "      <td>A-1</td>\n",
       "      <td>3</td>\n",
       "      <td>39</td>\n",
       "    </tr>\n",
       "    <tr>\n",
       "      <td>57</td>\n",
       "      <td>A0</td>\n",
       "      <td>3</td>\n",
       "      <td>35</td>\n",
       "    </tr>\n",
       "    <tr>\n",
       "      <td>57</td>\n",
       "      <td>A</td>\n",
       "      <td>3</td>\n",
       "      <td>2</td>\n",
       "    </tr>\n",
       "    <tr>\n",
       "      <td>58</td>\n",
       "      <td>B-1</td>\n",
       "      <td>3</td>\n",
       "      <td>121</td>\n",
       "    </tr>\n",
       "    <tr>\n",
       "      <td>59</td>\n",
       "      <td>B0</td>\n",
       "      <td>3</td>\n",
       "      <td>11</td>\n",
       "    </tr>\n",
       "    <tr>\n",
       "      <td>60</td>\n",
       "      <td>C</td>\n",
       "      <td>4</td>\n",
       "      <td>70</td>\n",
       "    </tr>\n",
       "    <tr>\n",
       "      <td>62</td>\n",
       "      <td>D</td>\n",
       "      <td>4</td>\n",
       "      <td>98</td>\n",
       "    </tr>\n",
       "    <tr>\n",
       "      <td>63</td>\n",
       "      <td>E-1</td>\n",
       "      <td>4</td>\n",
       "      <td>174</td>\n",
       "    </tr>\n",
       "    <tr>\n",
       "      <td>65</td>\n",
       "      <td>F</td>\n",
       "      <td>4</td>\n",
       "      <td>119</td>\n",
       "    </tr>\n",
       "    <tr>\n",
       "      <td>66</td>\n",
       "      <td>F1</td>\n",
       "      <td>4</td>\n",
       "      <td>2</td>\n",
       "    </tr>\n",
       "    <tr>\n",
       "      <td>67</td>\n",
       "      <td>G</td>\n",
       "      <td>4</td>\n",
       "      <td>84</td>\n",
       "    </tr>\n",
       "    <tr>\n",
       "      <td>68</td>\n",
       "      <td>A-1</td>\n",
       "      <td>4</td>\n",
       "      <td>73</td>\n",
       "    </tr>\n",
       "    <tr>\n",
       "      <td>69</td>\n",
       "      <td>A0</td>\n",
       "      <td>4</td>\n",
       "      <td>30</td>\n",
       "    </tr>\n",
       "    <tr>\n",
       "      <td>70</td>\n",
       "      <td>B-1</td>\n",
       "      <td>4</td>\n",
       "      <td>101</td>\n",
       "    </tr>\n",
       "    <tr>\n",
       "      <td>71</td>\n",
       "      <td>B0</td>\n",
       "      <td>4</td>\n",
       "      <td>2</td>\n",
       "    </tr>\n",
       "    <tr>\n",
       "      <td>72</td>\n",
       "      <td>C</td>\n",
       "      <td>5</td>\n",
       "      <td>53</td>\n",
       "    </tr>\n",
       "    <tr>\n",
       "      <td>74</td>\n",
       "      <td>D</td>\n",
       "      <td>5</td>\n",
       "      <td>54</td>\n",
       "    </tr>\n",
       "    <tr>\n",
       "      <td>75</td>\n",
       "      <td>E-1</td>\n",
       "      <td>5</td>\n",
       "      <td>88</td>\n",
       "    </tr>\n",
       "    <tr>\n",
       "      <td>76</td>\n",
       "      <td>E0</td>\n",
       "      <td>5</td>\n",
       "      <td>1</td>\n",
       "    </tr>\n",
       "    <tr>\n",
       "      <td>77</td>\n",
       "      <td>F</td>\n",
       "      <td>5</td>\n",
       "      <td>42</td>\n",
       "    </tr>\n",
       "    <tr>\n",
       "      <td>78</td>\n",
       "      <td>F1</td>\n",
       "      <td>5</td>\n",
       "      <td>2</td>\n",
       "    </tr>\n",
       "    <tr>\n",
       "      <td>79</td>\n",
       "      <td>G</td>\n",
       "      <td>5</td>\n",
       "      <td>34</td>\n",
       "    </tr>\n",
       "    <tr>\n",
       "      <td>80</td>\n",
       "      <td>A-1</td>\n",
       "      <td>5</td>\n",
       "      <td>25</td>\n",
       "    </tr>\n",
       "    <tr>\n",
       "      <td>81</td>\n",
       "      <td>A0</td>\n",
       "      <td>5</td>\n",
       "      <td>13</td>\n",
       "    </tr>\n",
       "    <tr>\n",
       "      <td>82</td>\n",
       "      <td>B-1</td>\n",
       "      <td>5</td>\n",
       "      <td>29</td>\n",
       "    </tr>\n",
       "    <tr>\n",
       "      <td>83</td>\n",
       "      <td>B0</td>\n",
       "      <td>5</td>\n",
       "      <td>1</td>\n",
       "    </tr>\n",
       "    <tr>\n",
       "      <td>84</td>\n",
       "      <td>C</td>\n",
       "      <td>6</td>\n",
       "      <td>5</td>\n",
       "    </tr>\n",
       "    <tr>\n",
       "      <td>86</td>\n",
       "      <td>D</td>\n",
       "      <td>6</td>\n",
       "      <td>5</td>\n",
       "    </tr>\n",
       "    <tr>\n",
       "      <td>87</td>\n",
       "      <td>E-1</td>\n",
       "      <td>6</td>\n",
       "      <td>7</td>\n",
       "    </tr>\n",
       "  </tbody>\n",
       "</table>"
      ],
      "text/plain": [
       "<IPython.core.display.HTML object>"
      ]
     },
     "metadata": {},
     "output_type": "display_data"
    }
   ],
   "source": [
    "# Die Häufigkeitstabelle wird erzeugt, wenn wir die Parameter umstellen: \n",
    "# 'do_plot=None' und 'visulize_midi_range=True'.\n",
    "\n",
    "pitch_hist = mp.analyse.pitch_histogram(m_df, \n",
    "                                        do_plot=None,\n",
    "                                        do_plot_full_axis=True,\n",
    "                                        visulize_midi_range=None,\n",
    "                                        filter_dict=None,\n",
    "                                        enharmonic=True)\n",
    "\n",
    "mp.utils.display_table(data=pitch_hist, \n",
    "                       columns=['MIDI', 'Pitch', 'Octave', 'Occurences'])\n",
    "\n",
    "# Mit dem zweiten Befehl wird die Tabelle dargestellt und beschriftet. "
   ]
  },
  {
   "cell_type": "code",
   "execution_count": 14,
   "id": "2f194ae8",
   "metadata": {},
   "outputs": [
    {
     "data": {
      "text/html": [
       "<table border=\"1\" class=\"dataframe\">\n",
       "  <thead>\n",
       "    <tr style=\"text-align: right;\">\n",
       "      <th>MIDI</th>\n",
       "      <th>Pitch</th>\n",
       "      <th>Occurences</th>\n",
       "    </tr>\n",
       "  </thead>\n",
       "  <tbody>\n",
       "    <tr>\n",
       "      <td>39</td>\n",
       "      <td>D#2</td>\n",
       "      <td>7</td>\n",
       "    </tr>\n",
       "    <tr>\n",
       "      <td>41</td>\n",
       "      <td>F2</td>\n",
       "      <td>7</td>\n",
       "    </tr>\n",
       "    <tr>\n",
       "      <td>43</td>\n",
       "      <td>G2</td>\n",
       "      <td>9</td>\n",
       "    </tr>\n",
       "    <tr>\n",
       "      <td>44</td>\n",
       "      <td>G#2</td>\n",
       "      <td>13</td>\n",
       "    </tr>\n",
       "    <tr>\n",
       "      <td>45</td>\n",
       "      <td>A2</td>\n",
       "      <td>6</td>\n",
       "    </tr>\n",
       "    <tr>\n",
       "      <td>46</td>\n",
       "      <td>A#2</td>\n",
       "      <td>51</td>\n",
       "    </tr>\n",
       "    <tr>\n",
       "      <td>47</td>\n",
       "      <td>B2</td>\n",
       "      <td>4</td>\n",
       "    </tr>\n",
       "    <tr>\n",
       "      <td>48</td>\n",
       "      <td>C3</td>\n",
       "      <td>22</td>\n",
       "    </tr>\n",
       "    <tr>\n",
       "      <td>49</td>\n",
       "      <td>C#3</td>\n",
       "      <td>2</td>\n",
       "    </tr>\n",
       "    <tr>\n",
       "      <td>50</td>\n",
       "      <td>D3</td>\n",
       "      <td>25</td>\n",
       "    </tr>\n",
       "    <tr>\n",
       "      <td>51</td>\n",
       "      <td>D#3</td>\n",
       "      <td>59</td>\n",
       "    </tr>\n",
       "    <tr>\n",
       "      <td>53</td>\n",
       "      <td>F3</td>\n",
       "      <td>46</td>\n",
       "    </tr>\n",
       "    <tr>\n",
       "      <td>55</td>\n",
       "      <td>G3</td>\n",
       "      <td>45</td>\n",
       "    </tr>\n",
       "    <tr>\n",
       "      <td>56</td>\n",
       "      <td>G#3</td>\n",
       "      <td>39</td>\n",
       "    </tr>\n",
       "    <tr>\n",
       "      <td>57</td>\n",
       "      <td>A3</td>\n",
       "      <td>37</td>\n",
       "    </tr>\n",
       "    <tr>\n",
       "      <td>58</td>\n",
       "      <td>A#3</td>\n",
       "      <td>121</td>\n",
       "    </tr>\n",
       "    <tr>\n",
       "      <td>59</td>\n",
       "      <td>B3</td>\n",
       "      <td>11</td>\n",
       "    </tr>\n",
       "    <tr>\n",
       "      <td>60</td>\n",
       "      <td>C4</td>\n",
       "      <td>70</td>\n",
       "    </tr>\n",
       "    <tr>\n",
       "      <td>62</td>\n",
       "      <td>D4</td>\n",
       "      <td>98</td>\n",
       "    </tr>\n",
       "    <tr>\n",
       "      <td>63</td>\n",
       "      <td>D#4</td>\n",
       "      <td>174</td>\n",
       "    </tr>\n",
       "    <tr>\n",
       "      <td>65</td>\n",
       "      <td>F4</td>\n",
       "      <td>119</td>\n",
       "    </tr>\n",
       "    <tr>\n",
       "      <td>66</td>\n",
       "      <td>F#4</td>\n",
       "      <td>2</td>\n",
       "    </tr>\n",
       "    <tr>\n",
       "      <td>67</td>\n",
       "      <td>G4</td>\n",
       "      <td>84</td>\n",
       "    </tr>\n",
       "    <tr>\n",
       "      <td>68</td>\n",
       "      <td>G#4</td>\n",
       "      <td>73</td>\n",
       "    </tr>\n",
       "    <tr>\n",
       "      <td>69</td>\n",
       "      <td>A4</td>\n",
       "      <td>30</td>\n",
       "    </tr>\n",
       "    <tr>\n",
       "      <td>70</td>\n",
       "      <td>A#4</td>\n",
       "      <td>101</td>\n",
       "    </tr>\n",
       "    <tr>\n",
       "      <td>71</td>\n",
       "      <td>B4</td>\n",
       "      <td>2</td>\n",
       "    </tr>\n",
       "    <tr>\n",
       "      <td>72</td>\n",
       "      <td>C5</td>\n",
       "      <td>53</td>\n",
       "    </tr>\n",
       "    <tr>\n",
       "      <td>74</td>\n",
       "      <td>D5</td>\n",
       "      <td>54</td>\n",
       "    </tr>\n",
       "    <tr>\n",
       "      <td>75</td>\n",
       "      <td>D#5</td>\n",
       "      <td>88</td>\n",
       "    </tr>\n",
       "    <tr>\n",
       "      <td>76</td>\n",
       "      <td>E5</td>\n",
       "      <td>1</td>\n",
       "    </tr>\n",
       "    <tr>\n",
       "      <td>77</td>\n",
       "      <td>F5</td>\n",
       "      <td>42</td>\n",
       "    </tr>\n",
       "    <tr>\n",
       "      <td>78</td>\n",
       "      <td>F#5</td>\n",
       "      <td>2</td>\n",
       "    </tr>\n",
       "    <tr>\n",
       "      <td>79</td>\n",
       "      <td>G5</td>\n",
       "      <td>34</td>\n",
       "    </tr>\n",
       "    <tr>\n",
       "      <td>80</td>\n",
       "      <td>G#5</td>\n",
       "      <td>25</td>\n",
       "    </tr>\n",
       "    <tr>\n",
       "      <td>81</td>\n",
       "      <td>A5</td>\n",
       "      <td>13</td>\n",
       "    </tr>\n",
       "    <tr>\n",
       "      <td>82</td>\n",
       "      <td>A#5</td>\n",
       "      <td>29</td>\n",
       "    </tr>\n",
       "    <tr>\n",
       "      <td>83</td>\n",
       "      <td>B5</td>\n",
       "      <td>1</td>\n",
       "    </tr>\n",
       "    <tr>\n",
       "      <td>84</td>\n",
       "      <td>C6</td>\n",
       "      <td>5</td>\n",
       "    </tr>\n",
       "    <tr>\n",
       "      <td>86</td>\n",
       "      <td>D6</td>\n",
       "      <td>5</td>\n",
       "    </tr>\n",
       "    <tr>\n",
       "      <td>87</td>\n",
       "      <td>D#6</td>\n",
       "      <td>7</td>\n",
       "    </tr>\n",
       "  </tbody>\n",
       "</table>"
      ],
      "text/plain": [
       "<IPython.core.display.HTML object>"
      ]
     },
     "metadata": {},
     "output_type": "display_data"
    }
   ],
   "source": [
    "# enharmonic=False -> 3 dimnesion output\n",
    "\n",
    "pitch_hist = mp.analyse.pitch_histogram(m_df, \n",
    "                                        do_plot=None,\n",
    "                                        do_plot_full_axis=True,\n",
    "                                        visulize_midi_range=None,\n",
    "                                        filter_dict=None,\n",
    "                                        enharmonic=False)\n",
    "\n",
    "mp.utils.display_table(data=pitch_hist, \n",
    "                       columns=['MIDI', 'Pitch', 'Occurences'])\n",
    "\n",
    "# Mit dem zweiten Befehl wird die Tabelle dargestellt und beschriftet. "
   ]
  },
  {
   "cell_type": "markdown",
   "id": "98757311",
   "metadata": {},
   "source": [
    "Durch den folgenden Befehl wird die Liste der Tonhöhenhäufigkeiten als csv-Datei exportiert (csv = comma separated variables; lesbar und weiterverarbeitbar u.a. in Excel oder im Text-Editor). Durch den Export lassen sich Tabellen zum Stückvergleich und zur Korpusanalyse generieren. Die csv-Datei wird Export-Ordner gespeichert und kann mit einem Texteditor oder einem Tabellenkalkulationsprogramm (z.B. Excel) geöffnet werden. "
   ]
  },
  {
   "cell_type": "code",
   "execution_count": null,
   "id": "d9bae4be",
   "metadata": {},
   "outputs": [],
   "source": [
    "mp.utils.export_as_csv(data=pitch_hist, \n",
    "                       columns=['MIDI','Pitch','Occurrences'],\n",
    "                       save_file_name ='pitch_histogram.csv',  # auch andere Dateinamen sind möglich\n",
    "                       do_save=True,    # Befehl für die Speicherung\n",
    "                       do_print=False,  # bei 'True' wird die Datei nochmals im Browser angezeigt\n",
    "                       sep=';',         # Als Trennzeichen wird ein Semikolon verwendet  \n",
    "                       header=True)     # Die Überschriften ('header') der Spalten werden angezeigt \n",
    "\n",
    "# Die Datei pitch_histogram.csv wird automatisch im Ordner music_xml_parser\\data\\exports\\ gespeichert. \n",
    "# Wenn Sie in einem anderen Ordner abspeichern wollen, \n",
    "# so müssen Sie unter save_file_name einen Pfad eingeben (z.B. 'C:/pitch_histogram.csv')"
   ]
  },
  {
   "cell_type": "markdown",
   "id": "273b18ad",
   "metadata": {},
   "source": [
    "Es gibt zwei Möglichkeiten, die grafische Darstellung ein wenig übersichtlicher zu gestalten: \n",
    "Einerseits kann die Darstellung auf einen bestimmten Tonhöhenbereich eingeschränkt werden. \n",
    "Andererseits können nur jene Tonhöhen ausgewählt werden, die tatsächlich auftreten. "
   ]
  },
  {
   "cell_type": "code",
   "execution_count": null,
   "id": "a5e9f8fc",
   "metadata": {},
   "outputs": [],
   "source": [
    "ph = mp.analyse.pitch_histogram(m_df, \n",
    "                                do_plot=True, \n",
    "                                visulize_midi_range=[50, 90])\n",
    "\n",
    "# Durch den Zusatz 'visulize_midi_range=[50, 90]' wird der dargestellte Ausschnitt\n",
    "# auf den Bereich zwischen MIDI-Pitch 50 (= D3) und 90 (= F6) eingegrenzt."
   ]
  },
  {
   "cell_type": "code",
   "execution_count": null,
   "id": "28b25bb6",
   "metadata": {},
   "outputs": [],
   "source": [
    "ph2 = mp.analyse.pitch_histogram(m_df,\n",
    "                                 do_plot=True,\n",
    "                                 visulize_midi_range=None,\n",
    "                                 do_plot_full_axis=False)\n",
    "\n",
    "# Durch den Zusatz 'do_plot_full_axis=False,' werden bei der Grafik \n",
    "# nur die Häufigkeiten von Tönen angezeigt, die auch tatsächlich auftauchen. \n",
    "# Alle anderen Töne werden auf der x-Achse gelöscht. "
   ]
  },
  {
   "cell_type": "markdown",
   "id": "616a79f6",
   "metadata": {},
   "source": [
    "### 2.2 Tonhöhenklassen "
   ]
  },
  {
   "cell_type": "markdown",
   "id": "037e26b6",
   "metadata": {},
   "source": [
    "Für harmonische Analysen ist es viel übersichtlicher, nicht die einzelnen Tonhöhen, sondern diese zu Tonhöhenklassen ('pitch class') zusammenzufassen. "
   ]
  },
  {
   "cell_type": "code",
   "execution_count": null,
   "id": "cb2007ba",
   "metadata": {},
   "outputs": [],
   "source": [
    "pitchclass_hist = mp.analyse.pitch_class_histogram(m_df, \n",
    "                                                   do_plot=True)"
   ]
  },
  {
   "cell_type": "markdown",
   "id": "ae731fe2",
   "metadata": {},
   "source": [
    "Nun ist klar zu erkennen: Mozart verwendet fast ausschließlich die Töne der Es-Dur Tonleiter - mit einer interessanten Ausnahme: Der Tritonus a taucht relativ häufig auf!\n",
    "\n",
    "Womit könnte dies zusammenhängen? Um diese Frage zu beantworten, müssen Sie natürlich in die Partitur schauen und dort die Verwendungsweisen des Tons a überprüfen. "
   ]
  },
  {
   "cell_type": "code",
   "execution_count": null,
   "id": "885b23f4",
   "metadata": {},
   "outputs": [],
   "source": [
    "# Die Häufigkeitstabelle wird automatisch erzeugt, \n",
    "# sobald wir im Befehl den Plot-Parameter ausstellen: 'do_plot=None'\n",
    "# und einen weiteren Tabellenbefehl hinzufügen:\n",
    "\n",
    "pitchclass_hist = mp.analyse.pitch_class_histogram(m_df, \n",
    "                                                   do_plot=None)\n",
    "\n",
    "mp.utils.display_table(data=pitchclass_hist, \n",
    "                       columns=['Tonhöhenklasse','Häufigkeit'])\n",
    "\n",
    "# Mit dem zweiten Befehl wird die Tabelle dargestellt und beschriftet.\n",
    "# Sie können die Beschriftung selbst festlegen ('rote Ausdrücke')"
   ]
  },
  {
   "cell_type": "code",
   "execution_count": null,
   "id": "0a610752",
   "metadata": {},
   "outputs": [],
   "source": [
    "# Die Häufigkeiten der Tonhöhenklassen werden mit dem folgenden Befehl als csv-Datei exportiert: \n",
    "\n",
    "mp.utils.export_as_csv(data=pitchclass_hist, \n",
    "                       columns=['Pitch Class','Occurrences'],\n",
    "                       save_file_name ='pitch_class_hist.csv', \n",
    "                       do_save=False,\n",
    "                       do_print=None, \n",
    "                       sep=';', \n",
    "                       header=True)\n",
    "\n",
    "# (Zu den Parametern vgl. oben, 2.1)"
   ]
  },
  {
   "cell_type": "markdown",
   "id": "7a85c5af",
   "metadata": {},
   "source": [
    "### 2.3 Intervalle im einstimmigen Verlauf"
   ]
  },
  {
   "cell_type": "markdown",
   "id": "ce4b796f",
   "metadata": {},
   "source": [
    "Wie häufig kommen bestimmte Intervallschritte in den einzelnen Stimmen vor? Haben alle Stimmen einen ähnlichen Intervallverlauf – oder gibt es z.B. in den Unterstimmen mehr Sprünge, in der Melodiestimme mehr Schritte?"
   ]
  },
  {
   "cell_type": "markdown",
   "id": "3549987c",
   "metadata": {},
   "source": [
    "Schauen wir uns zunächst die Intervallverteilung in der ersten Violine an. "
   ]
  },
  {
   "cell_type": "code",
   "execution_count": null,
   "id": "c13d987d",
   "metadata": {
    "scrolled": false
   },
   "outputs": [],
   "source": [
    "v = m_df[['PartID','PartName']].drop_duplicates().to_numpy()\n",
    "print(v)\n",
    "\n",
    "# Durch diesen Befehl werden zunächst die Stimmen und ihre Bezeichnung angezeigt. "
   ]
  },
  {
   "cell_type": "code",
   "execution_count": null,
   "id": "28b4566d",
   "metadata": {},
   "outputs": [],
   "source": [
    "# Nun wählen wir die erste Stimme (mit dem PartID=1) aus: 'part='1' \n",
    "\n",
    "interval_hist = mp.analyse.interval(m_df,\n",
    "                                    part='1',\n",
    "                                    do_plot=True)"
   ]
  },
  {
   "cell_type": "markdown",
   "id": "54c3c22f",
   "metadata": {},
   "source": [
    "Die erste Violine schreitet vorwiegend in Sekunden, Terzen und Quarten voran, wobei absteigende Schritte häufiger sind als aufsteigende. Größere Intervalle kommen auch vor, sind aber viel seltener. "
   ]
  },
  {
   "cell_type": "code",
   "execution_count": null,
   "id": "a3d1d312",
   "metadata": {},
   "outputs": [],
   "source": [
    "# Mit dem folgenden Befehl wird die Verteilung der Intervallhäufigkeiten \n",
    "# als Tabelle angezeigt (nur falls 'do_print=True')\n",
    "# und die Tabelle in die Datei 'interval_1.csv' exportiert (nur falls 'do_save=True').\n",
    "\n",
    "mp.utils.export_as_csv(data=interval_hist, \n",
    "                       columns=['Intervall', 'Häufigkeit'],\n",
    "                       save_file_name ='interval_1.csv', \n",
    "                       do_save=True,\n",
    "                       do_print=False, \n",
    "                       do_return_pd=False,\n",
    "                       sep=';', \n",
    "                       index=False, \n",
    "                       header=True)"
   ]
  },
  {
   "cell_type": "markdown",
   "id": "b0f06251",
   "metadata": {},
   "source": [
    "Wie steht es nun um die Cello-Stimme?  \n",
    "Dazu müssen Sie an der richtigen Stelle einfach die '1' durch eine '4' ersetzen...\n",
    "\n",
    "Kopieren Sie den gesamten Befehl einfach in eine neue Code Cell und passen Sie die Stimmenauswhal an:  "
   ]
  },
  {
   "cell_type": "code",
   "execution_count": null,
   "id": "c19cf98a",
   "metadata": {},
   "outputs": [],
   "source": [
    "# Hier der angepasste Befehl: \n",
    "\n",
    "interval_hist = mp.analyse.interval(m_df,\n",
    "                                    part='4',\n",
    "                                    do_plot=True)"
   ]
  },
  {
   "cell_type": "markdown",
   "id": "a8e8b7ad",
   "metadata": {},
   "source": [
    "### 2.4 Tondauern "
   ]
  },
  {
   "cell_type": "markdown",
   "id": "3cb15b66",
   "metadata": {},
   "source": [
    "Nun wenden wir uns der rhythmischen Gestaltung zu: Welche Dauernwerte werden in der Komposition verwendet und wie häufig kommen diese jeweils vor?\n",
    "\n",
    "In der folgenden Auswertung erhält die Viertelnote den Wert 1. Kürzere und längere Notenwerte werden entsprechend als Vielfache bzw. Teiler von 1 benannt. "
   ]
  },
  {
   "cell_type": "code",
   "execution_count": null,
   "id": "18989765",
   "metadata": {
    "scrolled": false
   },
   "outputs": [],
   "source": [
    "quarter_dur_hist = mp.analyse.quarterlength_duration_histogram(m_df,\n",
    "                                                               do_plot=True)"
   ]
  },
  {
   "cell_type": "markdown",
   "id": "3ca28583",
   "metadata": {},
   "source": [
    "Wie erwartet verwendet Mozart vorwiegend Viertelnoten und kleinere Notenwerte, es kommen aber auch ein paar längere Noten vor. Wenn wir die jeweilige Anzahl genau wissen wollen, müssen wir uns die Häufigkeitstabelle anzeigen lassen: "
   ]
  },
  {
   "cell_type": "code",
   "execution_count": null,
   "id": "07a0620a",
   "metadata": {},
   "outputs": [],
   "source": [
    "quarter_dur_hist = mp.analyse.quarterlength_duration_histogram(m_df,\n",
    "                                                               do_plot=False)\n",
    "# Bei 'do_plot=False' oder 'do_plot=None' wird nur die Tabelle angezeigt. \n",
    "# Die Tabelle wird durch den folgenden Befehl erzeugt und beschriftet:\n",
    "\n",
    "mp.utils.display_table(data=quarter_dur_hist, \n",
    "                       columns=['Dauernklasse','Häufigkeit'])"
   ]
  },
  {
   "cell_type": "code",
   "execution_count": null,
   "id": "59926132",
   "metadata": {},
   "outputs": [],
   "source": [
    "# Hier noch der Befehl zum Abspeichern der Tabelle: \n",
    "\n",
    "mp.utils.export_as_csv(data=quarter_dur_hist, \n",
    "                       columns=['Dauernwerte', 'Häufigkeiten'],\n",
    "                       save_file_name ='quarter_duration_hist.csv', \n",
    "                       do_save=True,         \n",
    "                       do_print=False, \n",
    "                       sep=';', \n",
    "                       index=False, \n",
    "                       header=True)"
   ]
  },
  {
   "cell_type": "markdown",
   "id": "0f1ec6a9",
   "metadata": {},
   "source": [
    "### 2.5 Metrisches Profil "
   ]
  },
  {
   "cell_type": "markdown",
   "id": "d6263317",
   "metadata": {},
   "source": [
    "Wie deutlich wird das Metrum in den einzelnen Stimmen einer Komposition artikuliert – durch die Platzierung der Töne auf Taktanfängen und den metrisch wichtigen Positionen innerhalb des Taktes (z.B. der Taktmitte oder auf den Viertelpositionen)? Hierzu lässt sich in eine Liste der Häufigkeiten von Tönen auf den verschiedenen metrischen Positionen in den einzelnen Stimmen anzeigen. \n",
    "\n",
    "Ein solches Profil hat natürlich zur Voraussetzung, dass das untersuchte Stück in einem einzigen Metrum steht und keine Taktwechsel hat. Das überprüft man mit dem folgenden Befehl: "
   ]
  },
  {
   "cell_type": "code",
   "execution_count": null,
   "id": "63c85a51",
   "metadata": {},
   "outputs": [],
   "source": [
    "ts_hist = mp.analyse.time_signature_histogram(m_df,\n",
    "                                              do_plot=False)\n",
    "\n",
    "mp.utils.display_table(data=ts_hist, \n",
    "                       columns=['Taktart', 'Anzahl'])"
   ]
  },
  {
   "cell_type": "markdown",
   "id": "d9d5c080",
   "metadata": {},
   "source": [
    "Es tauchen also sowohl 4/4-Takte als auch 3/4-Takte in dem Stück auf, wobei der 3/4-Takt sogar überwiegt - obwohl das Stück ja im 4/4-Takt beginnt. Mit dem folgenden Befehl werden daher zwei unterschiedliche metrische Profile erzeugt - einmal für die 4/4-Takte, einmal für die 3/4-Takte. "
   ]
  },
  {
   "cell_type": "code",
   "execution_count": null,
   "id": "b3bb9870",
   "metadata": {},
   "outputs": [],
   "source": [
    "mp_ts_dict_2d = mp.analyse.metric_profile_split_time_signature(m_df, \n",
    "                                                            do_plot=True)"
   ]
  },
  {
   "cell_type": "code",
   "execution_count": null,
   "id": "8a43fc42",
   "metadata": {},
   "outputs": [],
   "source": [
    "# Der Befehl für die Tabellenanzeige (do_print=True) \n",
    "# und den csv-Export (do_save=True) sieht zwar etwas kompliziert aus, \n",
    "# leistet jedoch dasselbe wie immer:\n",
    "\n",
    "\n",
    "for k2 in mp_ts_dict_2d.keys():\n",
    "    print(f\"Time Signature {k2}\")\n",
    "    saveas = 'metric_profile_ts_'+k2.replace('/','-')+'.csv'\n",
    "\n",
    "    mp.utils.export_as_csv(data=mp_ts_dict_2d[k2], \n",
    "                       columns=['Metric Profile','Occurrences'],\n",
    "                       save_file_name ='metric_profile_hist.csv', \n",
    "                       do_save=False,\n",
    "                       do_print=True, \n",
    "                       do_return_pd=False,\n",
    "                       sep=';', \n",
    "                       index=False, \n",
    "                       header=True)"
   ]
  },
  {
   "cell_type": "markdown",
   "id": "829aafd6",
   "metadata": {},
   "source": [
    "### 3. Zweidimensionale Häufigkeitsverteilungen"
   ]
  },
  {
   "cell_type": "markdown",
   "id": "f30628c6",
   "metadata": {},
   "source": [
    "Wir haben uns bereits die Häufigkeiten von Tonhöhen bzw. Tonhöhenklassen angeschaut. Nun könnte man sagen: Längere Töne haben natürlich mehr Gewicht als kurze Töne oder Töne zwischen den Zählzeiten. Diesen Gedanken können wir weiterverfolgen, indem wir uns kombinierte, ‚doppelte‘ oder ‚bivariate‘ Häufigkeitsverteilungen: Also z.B. die Häufigkeiten der Tonhöhen für jeweils  unterschiedliche Dauernwerte oder die Häufigkeiten der Tonhöhenklasse für die verschiedenen metrischen Positionen. Hierum soll es im Folgenden anhand von zwei Beispielen gehen.  \n",
    "\n",
    "Beispiel 1: Dauern pro Tonhöhenklassen.\n",
    "Gibt es Unterschiede bei den Dauernwerten bzgl. der verschiedenen Tonhöhenklassen?\n",
    "\n",
    "Beispiel 2: Tonhöhen auf metrischen Positionen\n",
    "Gibt es Unterschiede bei den Dauernwerten bzgl. der verschiedenen Tonhöhenklassen?"
   ]
  },
  {
   "cell_type": "markdown",
   "id": "de0bd12b",
   "metadata": {},
   "source": [
    "### 3.1 Dauernwerte pro Tonhöhenklassen"
   ]
  },
  {
   "cell_type": "markdown",
   "id": "0ebbcda5",
   "metadata": {},
   "source": [
    "Mit dem folgenden Befehl wird eine sog. 3D-Grafik erzeugt, bei der die Häufigkeiten von Daunerwerte pro Tonhöhenklasse angezeigt wird. Sowohl die Höhe als auch die Farbe der Säulen steht für die jeweilige Häufigkeit (von blau=sehr selten über grün und gelb bis rot=sehr häufig): "
   ]
  },
  {
   "cell_type": "code",
   "execution_count": null,
   "id": "a72b6c70",
   "metadata": {},
   "outputs": [],
   "source": [
    "dur_hist = mp.analyse.quarterlength_duration_histogram(m_df,\n",
    "                                                       plot_with='PitchClass',\n",
    "                                                       do_plot=True)"
   ]
  },
  {
   "cell_type": "markdown",
   "id": "081b2714",
   "metadata": {},
   "source": [
    "Offensichtlich sind Grundton Es (=D#) und Quinte B (=A#) vor allem als Achtelnoten (0.5) und Viertelnoten (1.0) verbreitet. \n",
    "\n",
    "Da die Zuordnung der Balken zu den Notenwerten ein wenig unübersichtlich ist (die Zahlen beziehen sich der Reihe nach auf die Felder), lassen wir uns mit dem folgenden Befehl die entsprechende Häufigkeitstabelle anzeigen: "
   ]
  },
  {
   "cell_type": "code",
   "execution_count": null,
   "id": "bf90b0b9",
   "metadata": {},
   "outputs": [],
   "source": [
    "dur_hist = mp.analyse.quarterlength_duration_histogram(m_df,\n",
    "                                                       plot_with='PitchClass',\n",
    "                                                       do_plot=False)\n",
    "\n",
    "mp.utils.export_as_csv(data=dur_hist,\n",
    "                           columns=['Tonhöhenklasse', 'Dauernwert', 'Anzahl'],\n",
    "                           save_file_name='QuaterLength.csv',\n",
    "                           do_save=False,   # Bei =True wird ein csv-Datei gespeichert. \n",
    "                           do_print=True,   # Bei =True wird die Tabelle angezeigt, bei =False nicht.\n",
    "                           do_return_pd=False,\n",
    "                           sep=';',\n",
    "                           index=False,\n",
    "                           header=True)\n"
   ]
  },
  {
   "cell_type": "markdown",
   "id": "1bdb81e4",
   "metadata": {},
   "source": [
    "Die Darstellung kann von Tonhöhenklassen auf Tonhöhen umgestellt werden, indem beim Parameter plot_with='Pitch' (in einfachen Anführungszeichen) gewählt wird: "
   ]
  },
  {
   "cell_type": "code",
   "execution_count": null,
   "id": "a634b083",
   "metadata": {},
   "outputs": [],
   "source": [
    "dur_pitch_hist = mp.analyse.quarterlength_duration_histogram(m_df,\n",
    "                                                          plot_with='Pitch',\n",
    "                                                          do_plot=True)"
   ]
  },
  {
   "cell_type": "code",
   "execution_count": null,
   "id": "aac9dc7f",
   "metadata": {},
   "outputs": [],
   "source": [
    "# Für die Tabellendarstellung (vgl. oben) muss dann  die Bezeichung (colums=  ) \n",
    "# von 'Tonhöhenklasse' in 'Tonhöhe' geändert werden. \n",
    "\n",
    "dur_pitch_hist = mp.analyse.quarterlength_duration_histogram(m_df,\n",
    "                                                          plot_with='Pitch',\n",
    "                                                          do_plot=False)\n",
    "\n",
    "mp.utils.export_as_csv(data=dur_pitch_hist,\n",
    "                           columns=['Tonhöhe','Dauernwert', 'Anzahl'],\n",
    "                           save_file_name='QuaterLength.csv',\n",
    "                           do_save=False,\n",
    "                           do_print=False,\n",
    "                           do_return_pd=False,\n",
    "                           sep=';',\n",
    "                           index=False,\n",
    "                           header=True)"
   ]
  },
  {
   "cell_type": "code",
   "execution_count": null,
   "id": "e7ea2287",
   "metadata": {},
   "outputs": [],
   "source": [
    "# Bei der externen Darstellung kann die Grafik gedreht und vergrößert werden. \n",
    "# Bitte dazu die # vor dem Befehl löschen: \n",
    "\n",
    "# %matplotlib\n",
    "\n",
    "dur_p_hist = mp.analyse.quarterlength_duration_histogram(m_df,\n",
    "                                                          plot_with='Pitch',\n",
    "                                                          do_plot=True)"
   ]
  },
  {
   "cell_type": "code",
   "execution_count": null,
   "id": "a78fd0cc",
   "metadata": {},
   "outputs": [],
   "source": [
    "# Ausschalten der externen Darstellung über: \n",
    "\n",
    "%matplotlib inline"
   ]
  },
  {
   "cell_type": "markdown",
   "id": "d88d35de",
   "metadata": {},
   "source": [
    "### 3.2 Metrische Positionen der Tonhöhenklassen"
   ]
  },
  {
   "cell_type": "markdown",
   "id": "f11deef5",
   "metadata": {},
   "source": [
    "Nun zur Frage: auf welchen Positionen im Takt stehen welche Tonhöhenklassen? Mit folgendem Befehl erzeugen wird die entsprechende 3D-Grafik. "
   ]
  },
  {
   "cell_type": "code",
   "execution_count": null,
   "id": "11a873af",
   "metadata": {},
   "outputs": [],
   "source": [
    "mp_p_hist = mp.analyse.metric_profile(m_df, \n",
    "                                      plot_with='PitchClass', \n",
    "                                      do_plot=True)"
   ]
  },
  {
   "cell_type": "code",
   "execution_count": null,
   "id": "042f4fa0",
   "metadata": {},
   "outputs": [],
   "source": [
    "# Hier die entsprechende Tabelle mit der üblichen Export-Funktion. \n",
    "\n",
    "mp_p_hist = mp.analyse.metric_profile(m_df, \n",
    "                                      plot_with='PitchClass', \n",
    "                                      do_plot=False)\n",
    "\n",
    "mp.utils.export_as_csv(data=mp_p_hist, \n",
    "                       columns=['Tonhöhenklasse', 'Metrische Position', 'Anzahl'],\n",
    "                       save_file_name ='metric_profile_hist.csv', \n",
    "                       do_save=True,\n",
    "                       do_print=True, \n",
    "                       do_return_pd=False,\n",
    "                       sep=';', \n",
    "                       index=False, \n",
    "                       header=True)"
   ]
  },
  {
   "cell_type": "markdown",
   "id": "3e9fac07",
   "metadata": {},
   "source": [
    "Dasselbe geht auch mit Tonhöhen. Dazu müssen wir einfach beim Parameter plot_with 'PitchClass' durch 'Pitch' ersetzen: "
   ]
  },
  {
   "cell_type": "code",
   "execution_count": null,
   "id": "6a7b5420",
   "metadata": {},
   "outputs": [],
   "source": [
    "mp_pc_hist = mp.analyse.metric_profile(m_df, \n",
    "                                       plot_with='Pitch', \n",
    "                                       do_plot=True)"
   ]
  },
  {
   "cell_type": "code",
   "execution_count": null,
   "id": "5bf9397a",
   "metadata": {},
   "outputs": [],
   "source": [
    "# Tabelle (do_print=True) und csv-Export (do_save=True): \n",
    "\n",
    "mp_pc_hist = mp.analyse.metric_profile(m_df, \n",
    "                                       plot_with='Pitch', \n",
    "                                       do_plot=None)\n",
    "\n",
    "# Bei der Tabellenausgabe gibt es nun vier Spalten, \n",
    "# daher müssen auch vier Bezeichnungen gewählt werden: \n",
    "\n",
    "mp.utils.export_as_csv(data=mp_pc_hist, \n",
    "                       columns=['MIDI-Pitch','Tonhöhe','Metrische Position','Anzahl'],\n",
    "                       save_file_name ='metric_profile_hist.csv', \n",
    "                       do_save=False,\n",
    "                       do_print=False, \n",
    "                       do_return_pd=False,\n",
    "                       sep=';', \n",
    "                       index=False, \n",
    "                       header=True)"
   ]
  },
  {
   "cell_type": "markdown",
   "id": "3791153e",
   "metadata": {},
   "source": [
    "Auch hier kann es sinnvoll sein, sich die Grafik im externen Pop-Up-Fenster von Matplotlib anzuschauen. "
   ]
  },
  {
   "cell_type": "code",
   "execution_count": null,
   "id": "a9fe432f",
   "metadata": {},
   "outputs": [],
   "source": [
    "# %matplotlib \n",
    "# mp_pc_hist = mp.analyse.metric_profile(m_df, plot_with='PitchClass', do_plot=True)"
   ]
  },
  {
   "cell_type": "markdown",
   "id": "035f9d7f",
   "metadata": {},
   "source": [
    "Allerdings haben wir jetzt einen Fehler gemacht: Der Mozart-Satz hat ja einen Taktwechsel!!\n",
    "Wir haben in unserer Auswertung jedoch nicht zwischen 4/4-Takt und 3/4-Takt unterschieden. Daher müssen wir alle Befehle nochmals wiederholen, nachdem wir in die beiden Takttypen unterschieden haben. "
   ]
  },
  {
   "cell_type": "code",
   "execution_count": null,
   "id": "fce5b530",
   "metadata": {},
   "outputs": [],
   "source": [
    "# Hier nochmals der Befehl zur Unterscheidung der Takttypen: \n",
    "# In direktem Anschluss werden die Tonhöhen-Dauern-Profile getrennt dargestellt: \n",
    "\n",
    "mp_ts_dict_2d = mp.analyse.metric_profile_split_time_signature(m_df, \n",
    "                                                               plot_with=None, \n",
    "                                                               do_plot=True)\n",
    "\n",
    "\n"
   ]
  },
  {
   "cell_type": "code",
   "execution_count": null,
   "id": "dc606955",
   "metadata": {},
   "outputs": [],
   "source": [
    "# Hier nun der Befehl für Anzeige \n",
    "# der 3D-Grafiken (do_plot=True)\n",
    "# der Tabelle (do_print=True) \n",
    "# und den csv-Export (do_save=True): \n",
    "\n",
    "mp_ts_dict_p = mp.analyse.metric_profile_split_time_signature(m_df, \n",
    "                                                              plot_with='PitchClass', \n",
    "                                                              do_plot=True)\n",
    "for k2p in mp_ts_dict_p.keys():\n",
    "    print(f\"Time Signature {k2p}\")\n",
    "    saveas = 'metric_profile_ts_p_'+k2p.replace('/','-')+'.csv'\n",
    "\n",
    "    mp.utils.export_as_csv(data=mp_ts_dict_p[k2p], \n",
    "                       columns=['MIDI', 'Metric Profile','Occurrences'],\n",
    "                       save_file_name ='metric_profile_hist.csv', \n",
    "                       do_save=False,\n",
    "                       do_print=False, \n",
    "                       do_return_pd=False,\n",
    "                       sep=';', \n",
    "                       index=False, \n",
    "                       header=True)\n",
    "\n",
    "# Die Tabelle ist sehr lang geworden und muss daher gescrollt werden!"
   ]
  },
  {
   "cell_type": "markdown",
   "id": "648d3b25",
   "metadata": {},
   "source": [
    "### 4. Anwendung von Takt- und Stimmenfilter"
   ]
  },
  {
   "cell_type": "markdown",
   "id": "137fa0fc",
   "metadata": {},
   "source": [
    "Alle statistischen Abfragen lassen sich durch eine einfach zu bedienende Filterfunktion auf beliebige Ausschnitte und Stimmen eingrenzen. Dazu muss man nur die entsprechenden Taktangaben und Stimmenbezeichnungen eingeben. \n",
    "\n",
    "Hier zwei Beispiele: "
   ]
  },
  {
   "cell_type": "markdown",
   "id": "exclusive-excellence",
   "metadata": {},
   "source": [
    "1. Mit den folgenden Befehlen lässt sich eine kombinierte Liste der Intervallhäufigkeiten der beiden Violinenstimmen ('PartID':'1-2') für die ersten fünf Takte ('Measure':'1-5') anzeigen, exportieren bzw. als Histogramm anzeigen.\n",
    "Diese Auswahl lässt sich beliebig verändern! "
   ]
  },
  {
   "cell_type": "code",
   "execution_count": null,
   "id": "protective-abuse",
   "metadata": {},
   "outputs": [],
   "source": [
    "filter_dict_interval ={'PartID':'1-2', 'Measure':'1-5'}\n",
    "interval_hist_example = mp.analyse.interval(m_df,\n",
    "                                    do_plot=True, \n",
    "                                    filter_dict = filter_dict_interval)\n",
    "\n",
    "mp.utils.export_as_csv(data=interval_hist_example, \n",
    "                       columns=['Intervall', 'Häufigkeit'],\n",
    "                       save_file_name ='interval.csv', \n",
    "                       do_save=False,\n",
    "                       do_print=False, \n",
    "                       do_return_pd=False,\n",
    "                       sep=';', \n",
    "                       index=False, \n",
    "                       header=True)"
   ]
  },
  {
   "cell_type": "markdown",
   "id": "7b737c25",
   "metadata": {},
   "source": [
    "2. Mit den folgenden Befehlen lässt sich eine Liste der Tonhöhenklassen der Cellostimme ('PartID':'4') für die ersten zehn Takte ('Measure':'1-10') anzeigen, exportieren bzw. als Histogramm anzeigen.\n",
    "Auch diese Auswahl lässt sich beliebig verändern! "
   ]
  },
  {
   "cell_type": "code",
   "execution_count": null,
   "id": "4059e85f",
   "metadata": {},
   "outputs": [],
   "source": [
    "#filter_dict_cello ={'PartID':'4', 'Measure':'1-10'}\n",
    "\n",
    "filter_dict_cello ={'PartID':'4'}\n",
    "\n",
    "pitchclass_hist_cello = mp.analyse.pitch_class_histogram(m_df, \n",
    "                                                         do_plot=True,\n",
    "                                                         filter_dict = filter_dict_cello)\n",
    "mp.utils.export_as_csv(data=pitchclass_hist_cello, \n",
    "                       columns=['Tonhöhenklasse', 'Häufigkeit'],\n",
    "                       save_file_name ='cello.csv', \n",
    "                       do_save=False,\n",
    "                       do_print=True, \n",
    "                       do_return_pd=False,\n",
    "                       sep=';', \n",
    "                       index=False, \n",
    "                       header=True)"
   ]
  },
  {
   "cell_type": "markdown",
   "id": "a13c1a3c",
   "metadata": {},
   "source": [
    "### 5. Aufgaben"
   ]
  },
  {
   "cell_type": "markdown",
   "id": "36ecae40",
   "metadata": {},
   "source": [
    "Wir haben uns die Ergebnisse bislang nur anhand eines einzigen Stückes angeschaut. Wie stellt sich nun aber die Lage dar, wenn wir mehrere Stücke, z.B. mehrere oder alle Sätze der Komposition, miteinander – und mit anderen Stücken – vergleichen? Gibt es stilistische Regelmäßigkeiten – oder überwiegen die Unterschiede?\n",
    "\n",
    "Wählen Sie Kompositionen Ihrer Wahl (verschiedene Gattungen, Komponisten und Epochen) und vergleichen Sie diese Stücke hinsichtlich der Häufigkeiten von Tonhöhen, Tonhöhenklassen, Notenwerten und Intervallen miteinander. Interpretieren Sie die Ergebnisse jeweils mit Blick auf den Notentex!"
   ]
  }
 ],
 "metadata": {
  "kernelspec": {
   "display_name": "Python 3",
   "language": "python",
   "name": "python3"
  },
  "language_info": {
   "codemirror_mode": {
    "name": "ipython",
    "version": 3
   },
   "file_extension": ".py",
   "mimetype": "text/x-python",
   "name": "python",
   "nbconvert_exporter": "python",
   "pygments_lexer": "ipython3",
   "version": "3.9.4"
  }
 },
 "nbformat": 4,
 "nbformat_minor": 5
}
