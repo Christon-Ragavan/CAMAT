{
 "cells": [
  {
   "cell_type": "code",
   "execution_count": 1,
   "id": "81411172",
   "metadata": {},
   "outputs": [],
   "source": [
    "import sys\n",
    "import os\n",
    "sys.path.append(os.getcwd().replace(os.path.join('music_xml_parser', 'ipynb'), ''))\n",
    "import music_xml_parser as mp\n",
    "from music21 import * \n",
    "import csv\n",
    "from IPython.display import HTML, display\n",
    "import numpy as np\n",
    "import pandas as pd\n",
    "import matplotlib.pyplot as plt\n",
    "\n",
    "# Mit diesen Befehlen wird nicht nur der CAMAT music_xml_parser, \n",
    "# sondern darüber hinaus die Bibliotheken 'numpy' und 'pandas' für statische Auswertungen, \n",
    "# 'music21' sowieund 'matplotlib' für grafische Darstellungen geladen. \n",
    "\n",
    "# Mit den folgenden Befehlen wird die Formtierung für die Tabellen festgelegt, \n",
    "# die weiter unten dargestellt werden - '9999' ist der Maximalwert: \n",
    "\n",
    "pd.set_option('display.max_rows', 9999)\n",
    "pd.set_option('display.max_columns', 9999)\n",
    "pd.set_option('display.width', 9999)\n",
    "    \n",
    "environment.set('autoDownload', 'allow')\n",
    "# Hierdurch wird der Download von xml-Dateien aus dem Internet ermöglicht. "
   ]
  },
  {
   "cell_type": "markdown",
   "id": "615a6d62",
   "metadata": {},
   "source": [
    "### Simple Interval search"
   ]
  },
  {
   "cell_type": "code",
   "execution_count": 2,
   "id": "4ef33839",
   "metadata": {},
   "outputs": [
    {
     "ename": "AssertionError",
     "evalue": "Please enter either the web https link or file name or make sure you have saved it in folder /xml_to_parse",
     "output_type": "error",
     "traceback": [
      "\u001b[0;31m---------------------------------------------------------------------------\u001b[0m",
      "\u001b[0;31mAssertionError\u001b[0m                            Traceback (most recent call last)",
      "\u001b[0;32m<ipython-input-2-a749559cbcd8>\u001b[0m in \u001b[0;36m<module>\u001b[0;34m\u001b[0m\n\u001b[1;32m      2\u001b[0m \u001b[0;34m\u001b[0m\u001b[0m\n\u001b[1;32m      3\u001b[0m \u001b[0;34m\u001b[0m\u001b[0m\n\u001b[0;32m----> 4\u001b[0;31m \u001b[0msearch_out_01\u001b[0m \u001b[0;34m=\u001b[0m \u001b[0mmp\u001b[0m\u001b[0;34m.\u001b[0m\u001b[0mcore\u001b[0m\u001b[0;34m.\u001b[0m\u001b[0msearch\u001b[0m\u001b[0;34m.\u001b[0m\u001b[0msimple_interval_search\u001b[0m\u001b[0;34m(\u001b[0m\u001b[0mxml_files\u001b[0m\u001b[0;34m,\u001b[0m \u001b[0minterval\u001b[0m\u001b[0;34m=\u001b[0m\u001b[0;34m[\u001b[0m\u001b[0;36m2\u001b[0m\u001b[0;34m,\u001b[0m \u001b[0;36m2\u001b[0m\u001b[0;34m]\u001b[0m\u001b[0;34m,\u001b[0m\u001b[0mreturn_details\u001b[0m\u001b[0;34m=\u001b[0m\u001b[0;32mFalse\u001b[0m\u001b[0;34m)\u001b[0m\u001b[0;34m\u001b[0m\u001b[0;34m\u001b[0m\u001b[0m\n\u001b[0m\u001b[1;32m      5\u001b[0m \u001b[0msearch_out_01\u001b[0m\u001b[0;34m\u001b[0m\u001b[0;34m\u001b[0m\u001b[0m\n",
      "\u001b[0;32m~/DocumentLocal/workspace/hfm/scripts_in_progress/xml_parser/music_xml_parser/core/search.py\u001b[0m in \u001b[0;36msimple_interval_search\u001b[0;34m(xml_file, interval, return_details)\u001b[0m\n\u001b[1;32m     50\u001b[0m \u001b[0;32mdef\u001b[0m \u001b[0msimple_interval_search\u001b[0m\u001b[0;34m(\u001b[0m\u001b[0mxml_file\u001b[0m\u001b[0;34m,\u001b[0m \u001b[0minterval\u001b[0m\u001b[0;34m,\u001b[0m \u001b[0mreturn_details\u001b[0m\u001b[0;34m=\u001b[0m\u001b[0;32mFalse\u001b[0m\u001b[0;34m)\u001b[0m\u001b[0;34m:\u001b[0m\u001b[0;34m\u001b[0m\u001b[0;34m\u001b[0m\u001b[0m\n\u001b[1;32m     51\u001b[0m     \u001b[0mi_len\u001b[0m \u001b[0;34m=\u001b[0m \u001b[0mlen\u001b[0m\u001b[0;34m(\u001b[0m\u001b[0minterval\u001b[0m\u001b[0;34m)\u001b[0m\u001b[0;34m\u001b[0m\u001b[0;34m\u001b[0m\u001b[0m\n\u001b[0;32m---> 52\u001b[0;31m     c_df = with_xml_file(file=xml_file,\n\u001b[0m\u001b[1;32m     53\u001b[0m                          \u001b[0mplot_pianoroll\u001b[0m\u001b[0;34m=\u001b[0m\u001b[0;32mFalse\u001b[0m\u001b[0;34m,\u001b[0m\u001b[0;34m\u001b[0m\u001b[0;34m\u001b[0m\u001b[0m\n\u001b[1;32m     54\u001b[0m                          \u001b[0mplot_inline_ipynb\u001b[0m\u001b[0;34m=\u001b[0m\u001b[0;32mFalse\u001b[0m\u001b[0;34m,\u001b[0m\u001b[0;34m\u001b[0m\u001b[0;34m\u001b[0m\u001b[0m\n",
      "\u001b[0;32m~/DocumentLocal/workspace/hfm/scripts_in_progress/xml_parser/music_xml_parser/core/plot.py\u001b[0m in \u001b[0;36mplotting_wrapper_parts\u001b[0;34m(*args, **kwargs)\u001b[0m\n\u001b[1;32m     93\u001b[0m         \u001b[0mmeasure_onset_data\u001b[0m\u001b[0;34m,\u001b[0m\u001b[0;31m \u001b[0m\u001b[0;31m\\\u001b[0m\u001b[0;34m\u001b[0m\u001b[0;34m\u001b[0m\u001b[0m\n\u001b[1;32m     94\u001b[0m         \u001b[0mplot_inline_ipynb\u001b[0m\u001b[0;34m,\u001b[0m \u001b[0mt_pid\u001b[0m\u001b[0;34m,\u001b[0m\u001b[0;31m \u001b[0m\u001b[0;31m\\\u001b[0m\u001b[0;34m\u001b[0m\u001b[0;34m\u001b[0m\u001b[0m\n\u001b[0;32m---> 95\u001b[0;31m         \u001b[0mt_pn\u001b[0m \u001b[0;34m=\u001b[0m \u001b[0mfunc\u001b[0m\u001b[0;34m(\u001b[0m\u001b[0;34m*\u001b[0m\u001b[0margs\u001b[0m\u001b[0;34m,\u001b[0m \u001b[0;34m**\u001b[0m\u001b[0mkwargs\u001b[0m\u001b[0;34m)\u001b[0m\u001b[0;34m\u001b[0m\u001b[0;34m\u001b[0m\u001b[0m\n\u001b[0m\u001b[1;32m     96\u001b[0m \u001b[0;34m\u001b[0m\u001b[0m\n\u001b[1;32m     97\u001b[0m         \u001b[0mmeasure\u001b[0m \u001b[0;34m=\u001b[0m \u001b[0mm_dur_off\u001b[0m\u001b[0;34m(\u001b[0m\u001b[0mmeasure_duration_list\u001b[0m\u001b[0;34m)\u001b[0m\u001b[0;34m\u001b[0m\u001b[0;34m\u001b[0m\u001b[0m\n",
      "\u001b[0;32m~/DocumentLocal/workspace/hfm/scripts_in_progress/xml_parser/music_xml_parser/core/parse.py\u001b[0m in \u001b[0;36mwith_xml_file\u001b[0;34m(file, plot_pianoroll, plot_inline_ipynb, save_at, save_file_name, do_save, x_axis_res, get_measure_onset, get_upbeat_info, filter_dict, *args, **kwargs)\u001b[0m\n\u001b[1;32m     44\u001b[0m         \u001b[0;32mreturn\u001b[0m \u001b[0mpid\u001b[0m\u001b[0;34m,\u001b[0m \u001b[0mpn\u001b[0m\u001b[0;34m\u001b[0m\u001b[0;34m\u001b[0m\u001b[0m\n\u001b[1;32m     45\u001b[0m \u001b[0;34m\u001b[0m\u001b[0m\n\u001b[0;32m---> 46\u001b[0;31m     \u001b[0mfile\u001b[0m \u001b[0;34m=\u001b[0m \u001b[0m_get_file_path\u001b[0m\u001b[0;34m(\u001b[0m\u001b[0mfile\u001b[0m\u001b[0;34m=\u001b[0m\u001b[0mfile\u001b[0m\u001b[0;34m)\u001b[0m\u001b[0;34m\u001b[0m\u001b[0;34m\u001b[0m\u001b[0m\n\u001b[0m\u001b[1;32m     47\u001b[0m \u001b[0;34m\u001b[0m\u001b[0m\n\u001b[1;32m     48\u001b[0m     \u001b[0;32mif\u001b[0m \u001b[0;34m'.xml'\u001b[0m \u001b[0;32mnot\u001b[0m \u001b[0;32min\u001b[0m \u001b[0mbasename\u001b[0m\u001b[0;34m(\u001b[0m\u001b[0mfile\u001b[0m\u001b[0;34m)\u001b[0m\u001b[0;34m:\u001b[0m\u001b[0;34m\u001b[0m\u001b[0;34m\u001b[0m\u001b[0m\n",
      "\u001b[0;32m~/DocumentLocal/workspace/hfm/scripts_in_progress/xml_parser/music_xml_parser/core/parser_utils.py\u001b[0m in \u001b[0;36m_get_file_path\u001b[0;34m(file)\u001b[0m\n\u001b[1;32m     40\u001b[0m             f = join(os.getcwd().replace(basename(os.getcwd()), 'data'),\n\u001b[1;32m     41\u001b[0m                         join('xmls_to_parse', 'hfm_database', file))\n\u001b[0;32m---> 42\u001b[0;31m         \u001b[0;32massert\u001b[0m \u001b[0misfile\u001b[0m\u001b[0;34m(\u001b[0m\u001b[0mf\u001b[0m\u001b[0;34m)\u001b[0m\u001b[0;34m,\u001b[0m \u001b[0;34mf\"Please enter either the web https link or file name or make sure you have saved it in folder /xml_to_parse\"\u001b[0m\u001b[0;34m\u001b[0m\u001b[0;34m\u001b[0m\u001b[0m\n\u001b[0m\u001b[1;32m     43\u001b[0m         \u001b[0;32massert\u001b[0m \u001b[0misfile\u001b[0m\u001b[0;34m(\u001b[0m\u001b[0mf\u001b[0m\u001b[0;34m)\u001b[0m\u001b[0;34m,\u001b[0m \u001b[0;34mf\"File Not Found {f}\"\u001b[0m\u001b[0;34m\u001b[0m\u001b[0;34m\u001b[0m\u001b[0m\n\u001b[1;32m     44\u001b[0m \u001b[0;34m\u001b[0m\u001b[0m\n",
      "\u001b[0;31mAssertionError\u001b[0m: Please enter either the web https link or file name or make sure you have saved it in folder /xml_to_parse"
     ]
    }
   ],
   "source": [
    "xml_files = 'PrJode_Jos1102_COM_1-5_MissaLasol_002_00137.xml'\n",
    "\n",
    "\n",
    "search_out_01 = mp.core.search.simple_interval_search(xml_files, interval=[2, 2],return_details=False)\n",
    "search_out_01"
   ]
  },
  {
   "cell_type": "code",
   "execution_count": null,
   "id": "95703727",
   "metadata": {},
   "outputs": [],
   "source": [
    "\n",
    "search_out_02 = mp.core.search.simple_interval_search(xml_files, interval=[2, 2],return_details=True)\n",
    "search_out_02"
   ]
  }
 ],
 "metadata": {
  "kernelspec": {
   "display_name": "Python 3",
   "language": "python",
   "name": "python3"
  },
  "language_info": {
   "codemirror_mode": {
    "name": "ipython",
    "version": 3
   },
   "file_extension": ".py",
   "mimetype": "text/x-python",
   "name": "python",
   "nbconvert_exporter": "python",
   "pygments_lexer": "ipython3",
   "version": "3.9.4"
  }
 },
 "nbformat": 4,
 "nbformat_minor": 5
}
