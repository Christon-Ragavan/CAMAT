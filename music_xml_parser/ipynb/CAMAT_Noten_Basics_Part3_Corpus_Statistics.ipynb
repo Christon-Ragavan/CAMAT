{
 "cells": [
  {
   "cell_type": "markdown",
   "id": "2f35720f",
   "metadata": {},
   "source": [
    "# Tutorial Basics Noten Part 3: Korpus-Statistik"
   ]
  },
  {
   "cell_type": "markdown",
   "id": "224f6c05",
   "metadata": {},
   "source": [
    "(version 2022_01_03)"
   ]
  },
  {
   "cell_type": "markdown",
   "id": "c8707a6e",
   "metadata": {},
   "source": [
    "Dieses Tutorial führt in die computergestützten Möglichkeiten einfacher statistischer Abfragen auf der Grundlage von CAMAT (Computer-Assisted Music Analysis Tool) ein, wobei nun, anders als in Part 2, vergleichende Abfragen mehrere Stücke durchgeführt werden. Abgefragt werden \n",
    "- einfache statistische Daten \n",
    "- die Verteilungen von Tonhöhenklassen und \n",
    "- die Verteilung von Intervallschritten. \n",
    "\n",
    "Das Durcharbeiten und Nachvollziehen des Tutoriums soll es Ihnen ermöglichen, mit den vorgestellten computergestützten Methoden eigene Musikbeispiele (Notendateien) zu untersuchen und Vergleiche zwischen verschiedenen Musikstücken durchzuführen.\n",
    "\n",
    "Zu Beginn steht wieder das Laden verschiedener Bibliotheken mit folgenden Befehlen: "
   ]
  },
  {
   "cell_type": "code",
   "execution_count": 1,
   "id": "debebfe2",
   "metadata": {},
   "outputs": [],
   "source": [
    "import sys\n",
    "import os\n",
    "sys.path.append(os.getcwd().replace(os.path.join('music_xml_parser', 'ipynb'), ''))\n",
    "\n",
    "import music_xml_parser as mp\n",
    "import csv\n",
    "from IPython.display import HTML, display\n",
    "import numpy as np\n",
    "import pandas as pd"
   ]
  },
  {
   "cell_type": "code",
   "execution_count": 2,
   "id": "9edcebff",
   "metadata": {},
   "outputs": [],
   "source": [
    "# Hier Formatierungsvorgaben für die Tabellenausgabe:\n",
    "\n",
    "pd.set_option('display.max_rows', 9999)     # Festlegung der max. Zahl der Zeilen\n",
    "pd.set_option('display.max_columns', 9999)  # Festlegung der max. Zahl der Spalten\n",
    "pd.set_option('display.width', 100)           # Hiermit mit die Spaltenbreite festgelegt"
   ]
  },
  {
   "cell_type": "markdown",
   "id": "08865a03",
   "metadata": {},
   "source": [
    "Im Statistik-Tutorial (Part 2) haben wir uns den ersten Satz aus dem Streichquartett KV. 171 von Wolfgang Amadeus Mozart angeschaut. Nun wollen wir die vier Sätze des Streichquartetts miteinander vergleichen. Hierzu laden wir alle vier Sätze unter herunter und speichern sie auf der Festplatte unseres COmputers im Ordner: \n",
    "\n",
    "    ... / music_xml_parser / data / xmls_to_parse / hfm_database\n",
    "\n",
    "(Ein direkter Download aus dem Internet ist in der aktuellen Version leider nicht möglich.)\n",
    "\n",
    "Hier die URL's der vier Dateien: \n",
    "- 'https://analyse.hfm-weimar.de/database/03/MoWo_K171_COM_1-4_StringQuar_003_00867.xml', \n",
    "- 'https://analyse.hfm-weimar.de/database/03/MoWo_K171_COM_2-4_StringQuar_003_00868.xml',\n",
    "- 'https://analyse.hfm-weimar.de/database/03/MoWo_K171_COM_3-4_StringQuar_003_00869.xml',\n",
    "- 'https://analyse.hfm-weimar.de/database/03/MoWo_K171_COM_4-4_StringQuar_003_00870.xml']\n",
    "\n",
    "Bitte jeweils speichern mit Rechtsklick, Speichern unter ...\n",
    "\n",
    "Nun können wir die vier Dateien mit dem folgenden Befehl unter der gemeinsamen Bezeichnung 'xml_files' laden: "
   ]
  },
  {
   "cell_type": "code",
   "execution_count": 3,
   "id": "6e0bde62",
   "metadata": {},
   "outputs": [],
   "source": [
    "#xml_files = ['MoWo_K171_COM_1-4_StringQuar_003_00867.xml', \n",
    "#             'MoWo_K171_COM_2-4_StringQuar_003_00868.xml',\n",
    "#             'MoWo_K171_COM_3-4_StringQuar_003_00869.xml',\n",
    "#             'MoWo_K171_COM_4-4_StringQuar_003_00870.xml']\n",
    "xml_files = ['https://analyse.hfm-weimar.de/database/03/MoWo_K171_COM_1-4_StringQuar_003_00867.xml',\n",
    "             'https://analyse.hfm-weimar.de/database/03/MoWo_K171_COM_2-4_StringQuar_003_00868.xml',\n",
    "             'https://analyse.hfm-weimar.de/database/03/MoWo_K171_COM_3-4_StringQuar_003_00869.xml',\n",
    "             'https://analyse.hfm-weimar.de/database/03/MoWo_K171_COM_4-4_StringQuar_003_00870.xml']\n",
    "# Die vier Dateinamen stehen zwischen in einfachen Apostrophen ' ' \n",
    "# und sind durch Kommata voneinander getrennt. "
   ]
  },
  {
   "cell_type": "markdown",
   "id": "5b08e3b3",
   "metadata": {},
   "source": [
    "Mit dem folgenden Befehl ('df = mp.core.corpus.analyse_interval') wird eine Tabelle (oder 'Dataframe' mit der Bezeichnung 'df') erzeugt, die sich anschließend durch den Befehl 'df' als Tabelle anzeigen lässt oder durch den Befehl 'df.to_csv' als csv-Datei speichern lässt.\n",
    "\n",
    "Die Berechnung kann - je nach Anzahl und Größe der Dateien - einige Sekunden bis mehrere Minuten dauern...\n",
    "\n",
    "Zuvor können eine Reihe von Parametern eingestellt werden. "
   ]
  },
  {
   "cell_type": "code",
   "execution_count": null,
   "id": "0ef2d634",
   "metadata": {},
   "outputs": [],
   "source": [
    "df = mp.core.corpus.analyse_interval(xml_files,\n",
    "                          separate_parts=True,                                     \n",
    "                          include_basic_stats=True,\n",
    "                          include_pitchclass=True,\n",
    "                          interval_range=[-5, 5],\n",
    "                          get_full_axis=False, \n",
    "                          get_in_percentage=False) "
   ]
  },
  {
   "cell_type": "markdown",
   "id": "c337a83f",
   "metadata": {},
   "source": [
    "Folgende Parameter können verändert werden: \n",
    "   \n",
    "    xml_files            \n",
    "= Name der geladenen Notendateien (s. oben)\n",
    "   \n",
    "    separate_parts=True  \n",
    "Durch diesen Parameter werden die einzelnen Stimmen isoliert. (Die Angabe 'False' ist hier nicht möglich.) \n",
    "   \n",
    "    include_basic_stats=True  \n",
    "Für alle Stimmen werden die statistischen Angaben dargestellt. \n",
    "\n",
    "    include_pitchclass=True\n",
    "    include_pitchclass=False\n",
    "Für alle Stimmen wird eine Verteilung der Tonhöhenklassen angeszeigt. (Von 0=C bis 11=B (H).)\n",
    "\n",
    "    interval_range=[-6, 6]\n",
    "    interval_range=None\n",
    "Mit diesem Parameter kann man einstellen, welche Intervallfortschreitungen dargestellt werden. Mi [-6, 6] werden z.B. Quinte abwärts (- 6 Halbtöne) bis Quinte aufwärts (+ 6 Halbtöne) dargestellt; alle größeren Intervalle kommen in eine gemeinsame Restklasse. Bei 'None' werden *alle* Intervalle, die auftreten, dargestellt.\n",
    "\n",
    "    get_full_axis=True\n",
    "    get_full_axis=False\n",
    "Duch diesen Parameter werden *alle* Intervalle, die auftreten, dargestellt. \n",
    "\n",
    "    get_in_percentage=True\n",
    "    get_in_percentage=False\n",
    "Hierdurch lässt sich zwischen absoluten Häufigkeiten (also der Anzahl der auftretenden Tonhöhenklassen bzw. Intervalle) bei 'False' und relativen Häufigkeiten (also prozentualer Anteil) bei 'True' umschalten. \n",
    "\n",
    "Wenn Sie alle Parameter eingestellt haben, aktivieren Sie bitte den folgenden einfachen Befehl ('Run'). "
   ]
  },
  {
   "cell_type": "code",
   "execution_count": null,
   "id": "af8006c9",
   "metadata": {},
   "outputs": [],
   "source": [
    "df "
   ]
  },
  {
   "cell_type": "code",
   "execution_count": null,
   "id": "e807085d",
   "metadata": {},
   "outputs": [],
   "source": [
    "# Mit dem folgenden Befehl wird die Tabelle als csv-Datei gespeichert.\n",
    "# Bitte zunächst einen lokalen Pfadnamen sowie den Dateinamen eingeben, \n",
    "# dann # löschen und 'Run'!\n",
    "\n",
    "# df.to_csv(\"/Pfad ... /Tabellenname.csv\", sep=';') \n",
    "\n",
    "# Durch sep=';' wird ein Semikolon als Trennzeichen gewählt. \n",
    "# Dies erleichtert die Darstellung als in externen Tabellen-Software."
   ]
  },
  {
   "cell_type": "markdown",
   "id": "49f6bd76",
   "metadata": {},
   "source": [
    "Bitte variieren Sie bei erneuten Abfragen die Variable für die Tabelle, z.B. 'df2' statt 'df'. Hier das Beispiel einer Abfrage der Intervalle bis zu 12 Halbtönen (aufwärts und abwärts) in Prozenten. "
   ]
  },
  {
   "cell_type": "code",
   "execution_count": null,
   "id": "925c8bb1",
   "metadata": {},
   "outputs": [],
   "source": [
    "df2 = mp.core.corpus.analyse_interval(xml_files,\n",
    "                          separate_parts=True,                                     \n",
    "                          include_basic_stats=False,\n",
    "                          include_pitchclass=False,\n",
    "                          interval_range=[-12, 12],\n",
    "                          get_full_axis=False, \n",
    "                          get_in_percentage=True) \n",
    "df2"
   ]
  }
 ],
 "metadata": {
  "kernelspec": {
   "display_name": "Python 3",
   "language": "python",
   "name": "python3"
  },
  "language_info": {
   "codemirror_mode": {
    "name": "ipython",
    "version": 3
   },
   "file_extension": ".py",
   "mimetype": "text/x-python",
   "name": "python",
   "nbconvert_exporter": "python",
   "pygments_lexer": "ipython3",
   "version": "3.9.4"
  }
 },
 "nbformat": 4,
 "nbformat_minor": 5
}
