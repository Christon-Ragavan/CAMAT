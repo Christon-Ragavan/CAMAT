{
 "cells": [
  {
   "cell_type": "markdown",
   "id": "f927a7f5",
   "metadata": {},
   "source": [
    "# Tutorial Basics Noten Part 2: Statistik"
   ]
  },
  {
   "cell_type": "markdown",
   "id": "be93175e",
   "metadata": {},
   "source": [
    "Inhaltsverzeichnis: \n",
    "1. Abfrage von Metadaten und einfachen statischen Angaben\n",
    "2. Häufigkeiten: Tonhöhen, Tonhöhenklassen, Tondauern, metrische Akzente\n",
    "3. Zweidimensionale Häufigkeitsverteilungen\n",
    "4. Intervalle im einstimmigen Verlauf \n",
    "5. Aufgaben"
   ]
  },
  {
   "cell_type": "markdown",
   "id": "d01bea6f",
   "metadata": {},
   "source": [
    "In diesem Tutorial werden Sie anhand von Musikbeispielen einfache computergestützten Möglichkeiten statistischer Abfragen kennenlernen. \n",
    "\n",
    "Das Durcharbeiten und Nachvollziehen des Tutoriums soll es Ihnen ermöglichen, mit den vorgestellten computergestützten Methoden eigene Musikbeispiele (Notendateien) zu untersuchen und Vergleiche zwischen verschiedenen Musikstücken durchzuführen. \n",
    "Dabei geht es immer auch um die Formulierung bestimmter analytischer Fragestellungen und die Interpretation der jeweiligen Ergebnisse."
   ]
  },
  {
   "cell_type": "code",
   "execution_count": null,
   "id": "80714c6a",
   "metadata": {},
   "outputs": [],
   "source": [
    "import sys\n",
    "import os\n",
    "sys.path.append(os.getcwd().replace(os.path.join('music_xml_parser', 'ipynb'), ''))\n",
    "\n",
    "import music_xml_parser as mp\n",
    "from music21 import * \n",
    "import csv\n",
    "from IPython.display import HTML, display\n",
    "import numpy as np\n",
    "import pandas as pd\n",
    "import matplotlib.pyplot as plt\n",
    "\n",
    "# Mit diesen Befehlen wird nicht nur 'music21', \n",
    "# sondern darüber hinaus die Bibliotheken 'numpy' und 'pandas' für statische Auswertungen \n",
    "# sowie 'matplotlib' für grafische Darstellungen geladen. \n",
    "\n",
    "# mit den folgenden Befehlen wird die Formtierung für die Tabellen festgelegt, \n",
    "# die weiter unten dargestellt werden: \n",
    "\n",
    "pd.set_option('display.max_rows', 9999)\n",
    "pd.set_option('display.max_columns', 9999)\n",
    "pd.set_option('display.width', 9999)\n",
    "\n",
    "environment.set('autoDownload', 'allow')\n",
    "\n",
    "# Und zuletzt Befehle für den Datenexport: \n",
    "\n",
    "\n"
   ]
  },
  {
   "cell_type": "code",
   "execution_count": null,
   "id": "82fe1f01",
   "metadata": {
    "scrolled": false
   },
   "outputs": [],
   "source": [
    "%matplotlib\n",
    "xml_file = 'PrJode_Jos1102_COM_1-5_MissaLasol_002_00137.xml'\n",
    "# xml_file = 'BeLuva_Op59_1-3_1-4_StringQuar_003_00129.xml'\n",
    "m_df, measure_onset_df = mp.parse.with_xml_file(file_name=xml_file,\n",
    "                                                plot_pianoroll=True,\n",
    "                                                plot_inline_ipynb=False,\n",
    "                                                save_at=None,\n",
    "                                                save_file_name=None,\n",
    "                                                do_save=False, \n",
    "                                                x_axis_res=2, \n",
    "                                                get_measure_onset=True)\n",
    "\n",
    "\n"
   ]
  },
  {
   "cell_type": "code",
   "execution_count": null,
   "id": "e167821e",
   "metadata": {
    "scrolled": false
   },
   "outputs": [],
   "source": [
    "%matplotlib\n",
    "##Testing filter\n",
    "xml_file = 'PrJode_Jos1102_COM_1-5_MissaLasol_002_00137.xml'\n",
    "\n",
    "filter_dict_t = { 'Measure':'2-5', 'PartID':'1-4'}\n",
    "\n",
    "\n",
    "m_df_2, measure_onset_df_2 = mp.parse.with_xml_file(file_name=xml_file,\n",
    "                                                    plot_pianoroll=True,\n",
    "                                                    plot_inline_ipynb=False,\n",
    "                                                    save_at=None,\n",
    "                                                    save_file_name=None,\n",
    "                                                    do_save=False, \n",
    "                                                    x_axis_res=2, \n",
    "                                                    get_measure_onset=True,filter_dict=filter_dict_t)\n",
    "\n",
    "\n"
   ]
  },
  {
   "cell_type": "markdown",
   "id": "415d4f1b",
   "metadata": {},
   "source": [
    "m_df_2"
   ]
  },
  {
   "cell_type": "code",
   "execution_count": null,
   "id": "19337db5",
   "metadata": {
    "scrolled": true
   },
   "outputs": [],
   "source": [
    "m_df"
   ]
  },
  {
   "cell_type": "code",
   "execution_count": null,
   "id": "55f12b9b",
   "metadata": {},
   "outputs": [],
   "source": []
  },
  {
   "cell_type": "markdown",
   "id": "8bee265a",
   "metadata": {},
   "source": [
    "Man kann sich das Stück auch anhören - allerdings nur in einer Version mit MIDI-Klängen (und nur in den Browsern Chrome und Firefox): "
   ]
  },
  {
   "cell_type": "markdown",
   "id": "dc8ce4ae",
   "metadata": {},
   "source": [
    "### 1. Abfrage von Metadaten und einfachen statischen Angaben"
   ]
  },
  {
   "cell_type": "markdown",
   "id": "ff97c8ef",
   "metadata": {},
   "source": [
    "Alle in der MusicXML gespeicherte Metadaten zum untersuchten Werk (Komponist, Werktitel, Entstehungsjahr, usw.) können mit dem folgenden Befehl angezeigt werden:"
   ]
  },
  {
   "cell_type": "markdown",
   "id": "57664065",
   "metadata": {},
   "source": [
    "Nun die einfachen statistischen Abfragen aus dem letzten Tutorial: Anzahl der Stimmen, Anzahl der Töne (insgesamt und pro Stimmen), Länge in Takten, Ambitus, die wir bereits im Grundlagen-Tutorial kennengelernt haben:"
   ]
  },
  {
   "cell_type": "code",
   "execution_count": null,
   "id": "c46bf967",
   "metadata": {},
   "outputs": [],
   "source": [
    "v = m_df[['PartID','Part Name']].drop_duplicates().to_numpy()\n",
    "mp.utils.display_table(data=v, \n",
    "                       columns=['Part ID', 'Part Names'])\n",
    "\n",
    "# Anzahl der Stimmen\n",
    "# 'local' wird als Name (Variable) für die geladene ('geparste') Notendatei gewählt"
   ]
  },
  {
   "cell_type": "code",
   "execution_count": null,
   "id": "679aad55",
   "metadata": {},
   "outputs": [],
   "source": [
    "m = m_df['Measure'].to_numpy(dtype=int)\n",
    "max(m)\n",
    "# Länge in Takten"
   ]
  },
  {
   "cell_type": "code",
   "execution_count": null,
   "id": "b70ddec4",
   "metadata": {},
   "outputs": [],
   "source": [
    "n_notes, c_notes = np.unique(m_df['PartID'], return_counts=True)\n",
    "data = [[i, c] for i, c in zip(n_notes, c_notes) ]\n",
    "mp.utils.display_table(data=data, \n",
    "                       columns=['Part ID', '# Notes'])\n",
    "# parser takes tied notes in consideration \n",
    "# Anzahl der Töne per Stimme"
   ]
  },
  {
   "cell_type": "code",
   "execution_count": null,
   "id": "543e26be",
   "metadata": {},
   "outputs": [],
   "source": [
    "ambitus = mp.analyse.ambitus(m_df)\n",
    "mp.utils.display_table(data=ambitus, \n",
    "                       columns=['Part ID', 'min', 'max', 'Semitones Difference'])\n",
    "\n",
    "# Ambitus per Stimme"
   ]
  },
  {
   "cell_type": "markdown",
   "id": "595a6d86",
   "metadata": {},
   "source": [
    "### 2. Häufigkeiten: Tonhöhen, Tonhöhenklassen, Tondauern"
   ]
  },
  {
   "cell_type": "markdown",
   "id": "1408c885",
   "metadata": {},
   "source": [
    "Zur Charakterisierung einzelner Musikstücke und zum Vergleich zwischen verschiedenen Musikstücken kann es sinnvoll sein, die Häufigkeit bestimmter Elemente (Tonhöhen, Dauernwerte, Akkorde etc.) zu bestimmen. Für solche Fragen lassen Häufigkeitstabellen und grafische Darstellungen, sog. Histogramme erstellen. "
   ]
  },
  {
   "cell_type": "markdown",
   "id": "f3b846f5",
   "metadata": {},
   "source": [
    "#### 2.1 Tonhöhen"
   ]
  },
  {
   "cell_type": "markdown",
   "id": "531359ea",
   "metadata": {},
   "source": [
    "Welche Töne tauchen wie häufig auf? Wie diatonisch ist der Tonraum der Missa, wie viele zusätzliche chromatische Töne tauchen auf?"
   ]
  },
  {
   "cell_type": "code",
   "execution_count": null,
   "id": "e7b9021b",
   "metadata": {
    "scrolled": false
   },
   "outputs": [],
   "source": [
    "%matplotlib inline\n",
    "\n",
    "pitch_hist = mp.analyse.pitch_histogram(m_df, do_plot=True, visulize_midi_range=None)\n",
    "mp.utils.display_table(data=pitch_hist, \n",
    "                       columns=['MIDI', 'Pitch','Occurrences'])\n",
    "# ToDo: pitch cols\n"
   ]
  },
  {
   "cell_type": "code",
   "execution_count": null,
   "id": "a5e9f8fc",
   "metadata": {},
   "outputs": [],
   "source": [
    "ph = mp.analyse.pitch_histogram(m_df, do_plot=True, visulize_midi_range=[50, 90])"
   ]
  },
  {
   "cell_type": "code",
   "execution_count": null,
   "id": "28b25bb6",
   "metadata": {},
   "outputs": [],
   "source": [
    "\n",
    "ph2 = mp.analyse.pitch_histogram(m_df, do_plot=True, do_plot_full_axis=False, visulize_midi_range=None)"
   ]
  },
  {
   "cell_type": "markdown",
   "id": "2282bcf2",
   "metadata": {},
   "source": [
    "Was können wir beobachten? Die Musik ist eindeutig diatonisch; die zusätzlichen Töne (F#, G# und Bb) sind dagegen äußerst selten. "
   ]
  },
  {
   "cell_type": "markdown",
   "id": "a44af4d5",
   "metadata": {},
   "source": [
    "Durch den folgenden Befehl wird eine Liste der Tonhöhenhäufigkeiten angezeigt und als csv-Datei exportiert (csv = comma separated variables; lesbar und weiterverarbeitbar u.a. in Excel oder im Text-Editor). Durch den Export lassen sich Tabellen zum Stückvergleich und zur Korpusanalyse generieren. Die csv-Datei wird in dem Ordner gespeichert, den Sie in Ihren Settings als \"settings['directoryScratch']\" festgelegt haben und kann mit einem Texteditor oder einem Tabellenkalkulationsprogramm (z.B. Excel) geöffnet werden. "
   ]
  },
  {
   "cell_type": "markdown",
   "id": "a562513c",
   "metadata": {},
   "source": [
    "#### 2.2 Tonhöhenklassen"
   ]
  },
  {
   "cell_type": "markdown",
   "id": "38228ca7",
   "metadata": {},
   "source": [
    "Die Tönhöhen lassen sich in einem zweiten Schritt zu Tonhöhenklassen zusammenfassen. Dadurch wird das Ergebnis übersichtlicher. "
   ]
  },
  {
   "cell_type": "code",
   "execution_count": null,
   "id": "cb2007ba",
   "metadata": {},
   "outputs": [],
   "source": [
    "\n",
    "pitchclass_hist = mp.analyse.pitch_class_histogram(m_df, do_plot=True)\n",
    "\n",
    "mp.utils.export_as_csv(data=pitchclass_hist, \n",
    "                       columns=['Pitch Class','Occurrences'],\n",
    "                       save_file_name ='pitch_class_hist.csv', \n",
    "                       do_save=False,\n",
    "                       do_print=True, \n",
    "                       do_return_pd=False,\n",
    "                       sep=';', \n",
    "                       index=False, \n",
    "                       header=True)"
   ]
  },
  {
   "cell_type": "markdown",
   "id": "8a96a57e",
   "metadata": {},
   "source": [
    "Durch folgenden Befehlsfolge können die Häufigkeiten der einzelnen Tonhöhenklassen in einer Liste angezeigt und als csv-Datei exportiert werden: "
   ]
  },
  {
   "cell_type": "markdown",
   "id": "a8e8b7ad",
   "metadata": {},
   "source": [
    "#### 2.3 Tondauern "
   ]
  },
  {
   "cell_type": "markdown",
   "id": "3cb15b66",
   "metadata": {},
   "source": [
    "Welche Dauernwerte verwendet Josquin in seiner Missa und wie häufig kommen diese jeweils vor?"
   ]
  },
  {
   "cell_type": "code",
   "execution_count": null,
   "id": "18989765",
   "metadata": {},
   "outputs": [],
   "source": [
    "# Für das Dauernwerte-Histogram muss eine andere Befehlsmethode angewendet werden.\n",
    "# Der graph-Befehl muss mit dem run-Befehl kombiniert werden. \n",
    "\n",
    "quarter_dur_hist = mp.analyse.quarterlength_duration_histogram(m_df,\n",
    "                                                               with_pitch=False, \n",
    "                                                               with_pitchclass=False,\n",
    "                                                               do_plot=True)\n",
    "\n",
    "mp.utils.export_as_csv(data=quarter_dur_hist, \n",
    "                       columns=['Duration', 'Occurrences'],\n",
    "                       save_file_name ='quarter_duration_hist.csv', \n",
    "                       do_save=True,\n",
    "                       do_print=True, \n",
    "                       do_return_pd=False,\n",
    "                       sep=';', \n",
    "                       index=False, \n",
    "                       header=True)"
   ]
  },
  {
   "cell_type": "markdown",
   "id": "5d00ff25",
   "metadata": {},
   "source": [
    "Die Notenwerte werden als Vielfache einer Viertel (Quarter Lenght) gezählt. \n",
    "Der Notentext besteht somit vorwiegend aus Halben (2.0) und Ganzen (4.0); andere Notenwerte sind seltener. "
   ]
  },
  {
   "cell_type": "markdown",
   "id": "0f1ec6a9",
   "metadata": {},
   "source": [
    "#### 2.4 Metrische Akzente: Töne auf unterschiedlichen metrischen Positionen "
   ]
  },
  {
   "cell_type": "markdown",
   "id": "d6263317",
   "metadata": {},
   "source": [
    "Wie deutlich wird das Metrum in den einzelnen Stimmen einer Komposition – durch die Platzierung der Töne auf Taktanfängen und den metrisch wichtigen Positionen innerhalb des Taktes (z.B. der Taktmitte oder auf den Viertelpositionen)? Hierzu lässt sich in eine Liste der Häufigkeiten von Tönen auf den verschiedenen metrischen Positionen in den einzelnen Stimmen anzeigen. \n",
    "\n",
    "Die metrischen Akzente folgen für die gängigen Taktarten folgender Gewichtung (jeweils für eine Folge von Achtelnoten): im 4/4-Takt: 1.0, 0.125, 0.25, 0.125, 0.5, 0.125, 0.25, 0.125; im   3/4-Takt: 1.0, 0.25, 0.5, 0.25, 0.5, 0.25 usw.  \n",
    "Das heißt also: Der Taktanfang erhält mit 1.0 das höchste Gewicht. 0.5 = mittleres Gewicht, 0.25 geringeres Gewicht usw."
   ]
  },
  {
   "cell_type": "markdown",
   "id": "a03004ce",
   "metadata": {},
   "source": []
  },
  {
   "cell_type": "code",
   "execution_count": null,
   "id": "9bbc48c3",
   "metadata": {},
   "outputs": [],
   "source": [
    "metric_profile_hist = mp.analyse.metric_profile(m_df, with_pitch=False,  do_plot=True)\n",
    "\n",
    "mp.utils.export_as_csv(data=metric_profile_hist, \n",
    "                       columns=['Beat Strength','Occurrences'],\n",
    "                       save_file_name ='metric_profile_hist.csv', \n",
    "                       do_save=False,\n",
    "                       do_print=True, \n",
    "                       do_return_pd=False,\n",
    "                       sep=';', \n",
    "                       index=False, \n",
    "                       header=True)"
   ]
  },
  {
   "cell_type": "code",
   "execution_count": null,
   "id": "952ab787",
   "metadata": {},
   "outputs": [],
   "source": [
    "ts_hist = mp.analyse.time_signature_histogram(m_df, do_plot=True,do_adjusted=False)\n",
    "mp.utils.display_table(data=ts_hist, \n",
    "                       columns=['Time Signature', 'Occurrences'])"
   ]
  },
  {
   "cell_type": "code",
   "execution_count": null,
   "id": "220be81c",
   "metadata": {},
   "outputs": [],
   "source": [
    "ts_hist = mp.analyse.time_signature_histogram(m_df,\n",
    "                                              do_plot=False, \n",
    "                                              do_adjusted=True)\n",
    "mp.utils.display_table(data=ts_hist, \n",
    "                       columns=['Time Signature', 'Occurrences'])"
   ]
  },
  {
   "cell_type": "markdown",
   "id": "22689a01",
   "metadata": {},
   "source": []
  },
  {
   "cell_type": "code",
   "execution_count": null,
   "id": "977c80c2",
   "metadata": {
    "scrolled": true
   },
   "outputs": [],
   "source": [
    "metric_profile_p_hist = mp.analyse.metric_profile(m_df, with_pitch=True, do_plot=True)\n",
    "\n",
    "mp.utils.export_as_csv(data=metric_profile_p_hist, \n",
    "                       columns=['MIDI', 'Pitch','Beat Strength','Occurrences'],\n",
    "                       save_file_name ='metric_profile_hist.csv', \n",
    "                       do_save=False,\n",
    "                       do_print=True, \n",
    "                       do_return_pd=False,\n",
    "                       sep=';', \n",
    "                       index=False, \n",
    "                       header=True)"
   ]
  },
  {
   "cell_type": "code",
   "execution_count": null,
   "id": "74bf0592",
   "metadata": {
    "scrolled": false
   },
   "outputs": [],
   "source": [
    "bs_hist_list = mp.analyse.metric_profile_split_time_signature(m_df, with_pitch=False, do_plot=True)\n",
    "# TODO: change beat strength to  metric_profile\n",
    "# TODO: axis start from 1, 2,3,..."
   ]
  },
  {
   "cell_type": "code",
   "execution_count": null,
   "id": "drawn-patrol",
   "metadata": {},
   "outputs": [],
   "source": [
    "\n",
    "mp.utils.display_table(data=bs_hist_list[0], \n",
    "                       columns=['Beat Strength', 'Occurrences'])"
   ]
  },
  {
   "cell_type": "code",
   "execution_count": null,
   "id": "4c9b17dc",
   "metadata": {},
   "outputs": [],
   "source": [
    "\n",
    "mp.utils.display_table(data=bs_hist_list[1], \n",
    "                       columns=['Beat Strength', 'Occurrences'])"
   ]
  },
  {
   "cell_type": "code",
   "execution_count": null,
   "id": "fce5b530",
   "metadata": {},
   "outputs": [],
   "source": [
    "bs_3dhist_list = mp.analyse.metric_profile_split_time_signature(m_df, with_pitch=True, do_plot=True)\n"
   ]
  },
  {
   "cell_type": "code",
   "execution_count": null,
   "id": "d929ff9e",
   "metadata": {},
   "outputs": [],
   "source": [
    "print(f\"Number of unique time signature :{len(bs_3dhist_list)}\")\n"
   ]
  },
  {
   "cell_type": "code",
   "execution_count": null,
   "id": "cbb433b6",
   "metadata": {
    "scrolled": true
   },
   "outputs": [],
   "source": [
    "mp.utils.display_table(data=bs_3dhist_list[0], \n",
    "                       columns=['MIDI', 'Pitch', 'Beat Strength', 'Occurrences'])\n",
    "\n",
    "mp.utils.display_table(data=bs_3dhist_list[1], \n",
    "                       columns=['MIDI', 'Pitch','Beat Strength', 'Occurrences'])"
   ]
  },
  {
   "cell_type": "markdown",
   "id": "876c30cc",
   "metadata": {},
   "source": [
    "Im Falle des \"3/1-Taktes\" entspricht die 1.0 den Taktanfängen, der zweiten und dritten Ganzen-Position im Takt, die 0.25 den verbleibenden Halb-Positionen. "
   ]
  },
  {
   "cell_type": "markdown",
   "id": "dd250592",
   "metadata": {},
   "source": [
    "### 3. Zweidimensionale Häufigkeitsverteilungen"
   ]
  },
  {
   "cell_type": "markdown",
   "id": "4d566070",
   "metadata": {},
   "source": [
    "Wir haben uns bereits die Häufigkeiten von Tonhöhen bzw. Tonhöhenklassen angeschaut. Nun könnte man sagen: Längere Töne haben natürlich mehr Gewicht als kurze Töne oder Töne zwischen den Zählzeiten. Diesen Gedanken können wir weiterverfolgen, indem wir uns kombinierte, ‚doppelte‘ oder ‚bivariate‘ Häufigkeitsverteilungen: Also z.B. die Häufigkeiten der Tonhöhen für jeweils die verschiedenen Dauernwerte oder die Häufigkeiten der Tonhöhenklasse jeweils für die verschiedenen metrischen Positionen. Hierum soll es im Folgenden anhand von zwei Beispielen gehen.  \n",
    "Beispiel 1: Dauern pro Tonhöhenklassen\n",
    "Gibt es Unterschiede bei den Dauernwerten bzgl. der verschiedenen Tonhöhenklassen?\n"
   ]
  },
  {
   "cell_type": "code",
   "execution_count": null,
   "id": "f382a38c",
   "metadata": {
    "scrolled": false
   },
   "outputs": [],
   "source": [
    "dur_pc_hist = mp.analyse.quarterlength_duration_histogram(m_df,\n",
    "                                                          with_pitch=True,\n",
    "                                                          do_plot=True)\n"
   ]
  },
  {
   "cell_type": "markdown",
   "id": "084589fd",
   "metadata": {},
   "source": [
    "Was lässt sich aus der Grafik herauslesen?"
   ]
  },
  {
   "cell_type": "code",
   "execution_count": null,
   "id": "aa8a49f6",
   "metadata": {},
   "outputs": [],
   "source": []
  },
  {
   "cell_type": "markdown",
   "id": "093bfbef",
   "metadata": {},
   "source": [
    "Beispiel 2: Töne auf den unterschiedlich akzentuierten metrischen Positionen (s. oben, 2.4) im Verhältnis zu Tonhöhenklassen. Hierzu ist wieder ein etwas komplexerer Befehl notwendig: "
   ]
  },
  {
   "cell_type": "code",
   "execution_count": null,
   "id": "presidential-turkey",
   "metadata": {
    "scrolled": false
   },
   "outputs": [],
   "source": []
  },
  {
   "cell_type": "markdown",
   "id": "6e53caf6",
   "metadata": {},
   "source": [
    "### 4. Intervalle im einstimmigen Verlauf "
   ]
  },
  {
   "cell_type": "markdown",
   "id": "530eafc5",
   "metadata": {},
   "source": [
    "Gehen wir nun zurück zum Beispiel von Josquin. Wie häufig kommen bestimmte Intervallschritte in den einzelnen Stimmen vor? Sind da alle Stimmen ähnlich gelagert – oder gibt es z.B. im Bass mehr Sprünge, in den Mittelstimmen mehr Schritte? \n",
    "\n",
    "Die Beantwortung dieser Frage kann bei music21 nur in mehreren Schritten erfolgen. "
   ]
  },
  {
   "cell_type": "code",
   "execution_count": null,
   "id": "4b5f2d79",
   "metadata": {
    "scrolled": false
   },
   "outputs": [],
   "source": [
    "# Zunächst muss eine Stimme ausgewählt und mit einer neuen Variablen bezeichnet werden. \n",
    "# Superius = 0, Altus = 1, Tenor = 2, Bassus = 3\n",
    "# Wählen wir die Bassstimme. \n",
    "v = m_df[['PartID','Part Name']].drop_duplicates().to_numpy()\n",
    "print(v)\n",
    "\n",
    "interval_hist = mp.analyse.interval(m_df,\n",
    "                                    part='2',\n",
    "                                    do_plot=True)\n",
    "\n",
    "mp.utils.export_as_csv(data=interval_hist, \n",
    "                       columns=['Interval', 'Occurrences'],\n",
    "                       save_file_name ='interval.csv', \n",
    "                       do_save=False,\n",
    "                       do_print=True, \n",
    "                       do_return_pd=False,\n",
    "                       sep=';', \n",
    "                       index=False, \n",
    "                       header=True)"
   ]
  },
  {
   "cell_type": "code",
   "execution_count": null,
   "id": "61a75622",
   "metadata": {},
   "outputs": [],
   "source": [
    "# Zunächst muss eine Stimme ausgewählt und mit einer neuen Variablen bezeichnet werden. \n",
    "# Superius = 0, Altus = 1, Tenor = 2, Bassus = 3\n",
    "# Wählen wir die Bassstimme. \n"
   ]
  },
  {
   "cell_type": "markdown",
   "id": "648d3b25",
   "metadata": {},
   "source": [
    "# Adding Filters to the dataframe using python dictionary \n",
    "\n",
    "order of the dictionary matters. Every anylyse python methods has the attribute named \"filter_dict\". \n",
    "\n",
    "#### Example :\n",
    "filter_dict = {'Measure':'1',\n",
    "          'Part Name':'Superius'}"
   ]
  },
  {
   "cell_type": "code",
   "execution_count": null,
   "id": "d1a00b6b",
   "metadata": {},
   "outputs": [],
   "source": [
    "filter_dict = {'Measure':'1',\n",
    "          'Part Name':'Superius'}\n",
    "\n",
    "filtered_df = mp.analyse.filter(m_df,filter_dict)\n",
    "\n",
    "filtered_df"
   ]
  },
  {
   "cell_type": "markdown",
   "id": "137fa0fc",
   "metadata": {},
   "source": [
    "Nun der Vergleich mit der Altus-Stimme. Was lässt sich hieraus über die Art der Fortschreitung der beiden Stimmen sagen? Ist sie ähnlich oder unterschiedlich?"
   ]
  },
  {
   "cell_type": "code",
   "execution_count": null,
   "id": "a56d1277",
   "metadata": {},
   "outputs": [],
   "source": [
    "filter_dict_2 = {'Measure':'1-3', 'PartID':'1-2'}\n",
    "filtered_df_2 = mp.analyse.filter(m_df,filter_dict_2)\n",
    "filtered_df_2"
   ]
  },
  {
   "cell_type": "code",
   "execution_count": null,
   "id": "9d1695f1",
   "metadata": {},
   "outputs": [],
   "source": [
    "filter_dict_2 = { 'PartID':'1-2', 'Measure':'1-3'}\n",
    "filtered_df_2 = mp.analyse.filter(m_df,filter_dict_2)\n",
    "filtered_df_2"
   ]
  },
  {
   "cell_type": "code",
   "execution_count": null,
   "id": "58215d4e",
   "metadata": {
    "scrolled": false
   },
   "outputs": [],
   "source": [
    "filter_dict_2 = {'PartID':'2', 'Measure':'1-3'}\n",
    "filtered_df_2 = mp.analyse.filter(m_df,filter_dict_2)\n",
    "filtered_df_2"
   ]
  },
  {
   "cell_type": "markdown",
   "id": "exclusive-excellence",
   "metadata": {},
   "source": [
    "Mit den folgenden Befehlen lässt sich die Liste der Intervallhäufigkeiten anzeigen exportieren bzw. als Histogramm anzeigen."
   ]
  },
  {
   "cell_type": "code",
   "execution_count": null,
   "id": "protective-abuse",
   "metadata": {},
   "outputs": [],
   "source": [
    "v = m_df[['PartID','Part Name']].drop_duplicates().to_numpy()\n",
    "print(v)\n",
    "\n",
    "filter_dict_interval ={'PartID':'1-2', 'Measure':'1-5'}\n",
    "interval_hist_example = mp.analyse.interval(m_df,\n",
    "                                    part='all',\n",
    "                                    do_plot=True, filter_dict = filter_dict_interval)\n",
    "\n",
    "\n",
    "mp.utils.export_as_csv(data=interval_hist_example, \n",
    "                       columns=['Interval', 'Occurrences'],\n",
    "                       save_file_name ='interval.csv', \n",
    "                       do_save=False,\n",
    "                       do_print=True, \n",
    "                       do_return_pd=False,\n",
    "                       sep=';', \n",
    "                       index=False, \n",
    "                       header=True)"
   ]
  },
  {
   "cell_type": "code",
   "execution_count": null,
   "id": "provincial-asthma",
   "metadata": {},
   "outputs": [],
   "source": [
    "v = m_df[['PartID','Part Name']].drop_duplicates().to_numpy()\n",
    "print(v)\n",
    "\n",
    "filter_dict_interval ={'PartID':'1-2', 'Measure':'1-16'}\n",
    "\n",
    "interval_hist_example = mp.analyse.interval(m_df,\n",
    "                                    part='all',filter_dict=filter_dict_interval,\n",
    "                                    do_plot=True)\n",
    "\n",
    "\n",
    "mp.utils.export_as_csv(data=interval_hist_example, \n",
    "                       columns=['Interval', 'Occurrences'],\n",
    "                       save_file_name ='interval.csv', \n",
    "                       do_save=False,\n",
    "                       do_print=True, \n",
    "                       do_return_pd=False,\n",
    "                       sep=';', \n",
    "                       index=False, \n",
    "                       header=True)"
   ]
  },
  {
   "cell_type": "markdown",
   "id": "a13c1a3c",
   "metadata": {},
   "source": [
    "### 5. Aufgaben"
   ]
  },
  {
   "cell_type": "markdown",
   "id": "36ecae40",
   "metadata": {},
   "source": [
    "Vergleichende statistische Abfragen über mehrere Stücke:\n",
    "\n",
    "Wir haben uns die Ergebnisse bislang nur anhand jeweils eines Stückes angeschaut. Wie stellt sich nun aber die Lage dar, wenn wir mehrere Stücke, z.B. mehrere Sätze von Josquin, miteinander – und mit den Stücken eines seiner Zeitgenossen – vergleichen? Gibt es da tatsächlich stilistische Regelmäßigkeiten – oder stilistische Unterschiede?\n",
    "\n",
    "Wählen Sie Kompositionen Ihrer Wahl (verschiedene Gattungen, Komponisten und Epochen) und vergleichen Sie diese Stücke hinsichtlich der Häufigkeiten von Tonhöhen, Tonhöhenklassen, Notenwerten und Intervallen. Beschreiben Sie die Ergebnisse!"
   ]
  },
  {
   "cell_type": "code",
   "execution_count": null,
   "id": "88fa2471",
   "metadata": {},
   "outputs": [],
   "source": []
  },
  {
   "cell_type": "code",
   "execution_count": null,
   "id": "a3199e8b",
   "metadata": {},
   "outputs": [],
   "source": []
  }
 ],
 "metadata": {
  "kernelspec": {
   "display_name": "Python 3",
   "language": "python",
   "name": "python3"
  },
  "language_info": {
   "codemirror_mode": {
    "name": "ipython",
    "version": 3
   },
   "file_extension": ".py",
   "mimetype": "text/x-python",
   "name": "python",
   "nbconvert_exporter": "python",
   "pygments_lexer": "ipython3",
   "version": "3.9.4"
  }
 },
 "nbformat": 4,
 "nbformat_minor": 5
}
