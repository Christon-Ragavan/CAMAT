{
 "cells": [
  {
   "cell_type": "markdown",
   "id": "1240fdb3",
   "metadata": {},
   "source": [
    "# Tutorial Advanced Noten: Suche von Intervallfolgen"
   ]
  },
  {
   "cell_type": "markdown",
   "id": "5e4ae2b8",
   "metadata": {},
   "source": [
    "Dieses Tutorial führt in die Suche von Intervallfolgen auf der Grundlage von CAMAT (Computer-Assisted Music Analysis Tool) ein.\n",
    "\n",
    "Das Durcharbeiten und Nachvollziehen des Tutoriums soll es Ihnen ermöglichen, selbst Intervallfolgen in eigenen Musikbeispielen (Notendateien) zu suchen."
   ]
  },
  {
   "cell_type": "code",
   "execution_count": 1,
   "id": "81411172",
   "metadata": {},
   "outputs": [],
   "source": [
    "import sys\n",
    "import os\n",
    "sys.path.append(os.getcwd().replace(os.path.join('music_xml_parser', 'ipynb'), ''))\n",
    "import music_xml_parser as mp\n",
    "from music21 import * \n",
    "import csv\n",
    "from IPython.display import HTML, display\n",
    "import numpy as np\n",
    "import pandas as pd\n",
    "import matplotlib.pyplot as plt\n",
    "\n",
    "# Mit diesen Befehlen wird nicht nur der CAMAT music_xml_parser, \n",
    "# sondern darüber hinaus die Bibliotheken 'numpy' und 'pandas' für statische Auswertungen, \n",
    "# 'music21' sowieund 'matplotlib' für grafische Darstellungen geladen. \n",
    "\n",
    "# Mit den folgenden Befehlen wird die Formtierung für die Tabellen festgelegt, \n",
    "# die weiter unten dargestellt werden - '9999' ist der Maximalwert: \n",
    "\n",
    "pd.set_option('display.max_rows', 9999)\n",
    "pd.set_option('display.max_columns', 9999)\n",
    "pd.set_option('display.width', 9999)\n",
    "    \n",
    "environment.set('autoDownload', 'allow')\n",
    "# Hierdurch wird der Download von xml-Dateien aus dem Internet ermöglicht. "
   ]
  },
  {
   "cell_type": "markdown",
   "id": "615a6d62",
   "metadata": {},
   "source": [
    "Zunächst muss eine Datei geladen werden und mit einem Variablennamen (hier: 'xml_files') bezeichnet werden: "
   ]
  },
  {
   "cell_type": "code",
   "execution_count": 2,
   "id": "4313a542",
   "metadata": {},
   "outputs": [],
   "source": [
    "xml_file = 'https://analyse.hfm-weimar.de/database/03/MoWo_K310_COM_1-3_PianoSonat_003_00953.xml'"
   ]
  },
  {
   "cell_type": "markdown",
   "id": "4de5f37a",
   "metadata": {},
   "source": [
    "Mit dem folgenden Befehl wird eine Suchanfrage generiert und anschließend eine Ergebnisliste angezeigt. \n",
    "Die gesuchte Intervallfolge wird in Halbtonschritten angegeben; die einzelnen Intervallschritte werden durch ein Komma getrennt:\n",
    "\n",
    "    interval=[2, 2]\n",
    "Hier wird nach einer Folge von zwei aufsteigenden großen Sekunden (Ganztönen) gesucht. \n",
    "\n",
    "    interval=[3, -1]\n",
    "Hier: kleine Terz aufwärts gefolgt von kleiner Sekunde (Halbton) abwärts. \n",
    "\n",
    "    return_details=False\n",
    "    return_details=True\n",
    "Bei 'False' werden nur die Häufigkeiten der gesuchten Intervallfolge bezogen auf verschiedene Anfangstöne angezeigt\n",
    "Bei 'True' wird das genaue Vorkommen angezeigt: in welcher Stimme, mit welchem Anfangston (-1 = b-Vorzeichen, 1 = #-Vorzeichen, 0 = Auflösungszeichen), in welchem Takt und bei welcher Zählzeit. "
   ]
  },
  {
   "cell_type": "code",
   "execution_count": 3,
   "id": "4ef33839",
   "metadata": {},
   "outputs": [
    {
     "name": "stdout",
     "output_type": "stream",
     "text": [
      "File at:  /Users/chris/DocumentLocal/workspace/hfm/scripts_in_progress/xml_parser/music_xml_parser/data/xmls_to_parse/hfm_database/MoWo_K310_COM_1-3_PianoSonat_003_00953.xml\n"
     ]
    },
    {
     "ename": "AssertionError",
     "evalue": "Please check Index, only two should be selected to find consecutive measure for summing",
     "output_type": "error",
     "traceback": [
      "\u001b[0;31m---------------------------------------------------------------------------\u001b[0m",
      "\u001b[0;31mAssertionError\u001b[0m                            Traceback (most recent call last)",
      "\u001b[0;32m<ipython-input-3-e8196a5631f7>\u001b[0m in \u001b[0;36m<module>\u001b[0;34m\u001b[0m\n\u001b[0;32m----> 1\u001b[0;31m results_01 = mp.core.search.simple_interval_search(xml_file,\n\u001b[0m\u001b[1;32m      2\u001b[0m                                                    \u001b[0minterval\u001b[0m\u001b[0;34m=\u001b[0m\u001b[0;34m[\u001b[0m\u001b[0;36m2\u001b[0m\u001b[0;34m,\u001b[0m \u001b[0;36m2\u001b[0m\u001b[0;34m]\u001b[0m\u001b[0;34m,\u001b[0m\u001b[0;34m\u001b[0m\u001b[0;34m\u001b[0m\u001b[0m\n\u001b[1;32m      3\u001b[0m                                                    return_details=False)\n\u001b[1;32m      4\u001b[0m \u001b[0;34m\u001b[0m\u001b[0m\n\u001b[1;32m      5\u001b[0m \u001b[0mresults_01\u001b[0m\u001b[0;34m\u001b[0m\u001b[0;34m\u001b[0m\u001b[0m\n",
      "\u001b[0;32m~/DocumentLocal/workspace/hfm/scripts_in_progress/xml_parser/music_xml_parser/core/search.py\u001b[0m in \u001b[0;36msimple_interval_search\u001b[0;34m(xml_file, interval, return_details)\u001b[0m\n\u001b[1;32m     50\u001b[0m \u001b[0;32mdef\u001b[0m \u001b[0msimple_interval_search\u001b[0m\u001b[0;34m(\u001b[0m\u001b[0mxml_file\u001b[0m\u001b[0;34m,\u001b[0m \u001b[0minterval\u001b[0m\u001b[0;34m,\u001b[0m \u001b[0mreturn_details\u001b[0m\u001b[0;34m=\u001b[0m\u001b[0;32mFalse\u001b[0m\u001b[0;34m)\u001b[0m\u001b[0;34m:\u001b[0m\u001b[0;34m\u001b[0m\u001b[0;34m\u001b[0m\u001b[0m\n\u001b[1;32m     51\u001b[0m     \u001b[0mi_len\u001b[0m \u001b[0;34m=\u001b[0m \u001b[0mlen\u001b[0m\u001b[0;34m(\u001b[0m\u001b[0minterval\u001b[0m\u001b[0;34m)\u001b[0m\u001b[0;34m\u001b[0m\u001b[0;34m\u001b[0m\u001b[0m\n\u001b[0;32m---> 52\u001b[0;31m     c_df = with_xml_file(file=xml_file,\n\u001b[0m\u001b[1;32m     53\u001b[0m                          \u001b[0mplot_pianoroll\u001b[0m\u001b[0;34m=\u001b[0m\u001b[0;32mFalse\u001b[0m\u001b[0;34m,\u001b[0m\u001b[0;34m\u001b[0m\u001b[0;34m\u001b[0m\u001b[0m\n\u001b[1;32m     54\u001b[0m                          \u001b[0mplot_inline_ipynb\u001b[0m\u001b[0;34m=\u001b[0m\u001b[0;32mFalse\u001b[0m\u001b[0;34m,\u001b[0m\u001b[0;34m\u001b[0m\u001b[0;34m\u001b[0m\u001b[0m\n",
      "\u001b[0;32m~/DocumentLocal/workspace/hfm/scripts_in_progress/xml_parser/music_xml_parser/core/plot.py\u001b[0m in \u001b[0;36mplotting_wrapper_parts\u001b[0;34m(*args, **kwargs)\u001b[0m\n\u001b[1;32m     93\u001b[0m         \u001b[0mmeasure_onset_data\u001b[0m\u001b[0;34m,\u001b[0m\u001b[0;31m \u001b[0m\u001b[0;31m\\\u001b[0m\u001b[0;34m\u001b[0m\u001b[0;34m\u001b[0m\u001b[0m\n\u001b[1;32m     94\u001b[0m         \u001b[0mplot_inline_ipynb\u001b[0m\u001b[0;34m,\u001b[0m \u001b[0mt_pid\u001b[0m\u001b[0;34m,\u001b[0m\u001b[0;31m \u001b[0m\u001b[0;31m\\\u001b[0m\u001b[0;34m\u001b[0m\u001b[0;34m\u001b[0m\u001b[0m\n\u001b[0;32m---> 95\u001b[0;31m         \u001b[0mt_pn\u001b[0m \u001b[0;34m=\u001b[0m \u001b[0mfunc\u001b[0m\u001b[0;34m(\u001b[0m\u001b[0;34m*\u001b[0m\u001b[0margs\u001b[0m\u001b[0;34m,\u001b[0m \u001b[0;34m**\u001b[0m\u001b[0mkwargs\u001b[0m\u001b[0;34m)\u001b[0m\u001b[0;34m\u001b[0m\u001b[0;34m\u001b[0m\u001b[0m\n\u001b[0m\u001b[1;32m     96\u001b[0m \u001b[0;34m\u001b[0m\u001b[0m\n\u001b[1;32m     97\u001b[0m         \u001b[0mmeasure\u001b[0m \u001b[0;34m=\u001b[0m \u001b[0mm_dur_off\u001b[0m\u001b[0;34m(\u001b[0m\u001b[0mmeasure_duration_list\u001b[0m\u001b[0;34m)\u001b[0m\u001b[0;34m\u001b[0m\u001b[0;34m\u001b[0m\u001b[0m\n",
      "\u001b[0;32m~/DocumentLocal/workspace/hfm/scripts_in_progress/xml_parser/music_xml_parser/core/parse.py\u001b[0m in \u001b[0;36mwith_xml_file\u001b[0;34m(file, plot_pianoroll, plot_inline_ipynb, save_at, save_file_name, do_save, x_axis_res, get_measure_onset, get_upbeat_info, filter_dict, *args, **kwargs)\u001b[0m\n\u001b[1;32m     71\u001b[0m     \u001b[0mlogger\u001b[0m\u001b[0;34m.\u001b[0m\u001b[0minfo\u001b[0m\u001b[0;34m(\u001b[0m\u001b[0;34m\"Extracting\"\u001b[0m\u001b[0;34m)\u001b[0m\u001b[0;34m\u001b[0m\u001b[0;34m\u001b[0m\u001b[0m\n\u001b[1;32m     72\u001b[0m     \u001b[0mparser_o\u001b[0m \u001b[0;34m=\u001b[0m \u001b[0mXMLParser\u001b[0m\u001b[0;34m(\u001b[0m\u001b[0mpath\u001b[0m\u001b[0;34m=\u001b[0m\u001b[0mfile\u001b[0m\u001b[0;34m,\u001b[0m \u001b[0mlogger\u001b[0m\u001b[0;34m=\u001b[0m\u001b[0mlogger\u001b[0m\u001b[0;34m)\u001b[0m\u001b[0;34m\u001b[0m\u001b[0;34m\u001b[0m\u001b[0m\n\u001b[0;32m---> 73\u001b[0;31m     \u001b[0mdf_xml\u001b[0m \u001b[0;34m=\u001b[0m \u001b[0mparser_o\u001b[0m\u001b[0;34m.\u001b[0m\u001b[0mxml_parse\u001b[0m\u001b[0;34m(\u001b[0m\u001b[0;34m)\u001b[0m\u001b[0;34m\u001b[0m\u001b[0;34m\u001b[0m\u001b[0m\n\u001b[0m\u001b[1;32m     74\u001b[0m     \u001b[0mt_pid\u001b[0m\u001b[0;34m,\u001b[0m \u001b[0mt_pn\u001b[0m \u001b[0;34m=\u001b[0m \u001b[0mget_parts\u001b[0m\u001b[0;34m(\u001b[0m\u001b[0mdf_xml\u001b[0m\u001b[0;34m)\u001b[0m\u001b[0;34m\u001b[0m\u001b[0;34m\u001b[0m\u001b[0m\n\u001b[1;32m     75\u001b[0m     \u001b[0mlogger\u001b[0m\u001b[0;34m.\u001b[0m\u001b[0minfo\u001b[0m\u001b[0;34m(\u001b[0m\u001b[0;34m\"Successful\"\u001b[0m\u001b[0;34m)\u001b[0m\u001b[0;34m\u001b[0m\u001b[0;34m\u001b[0m\u001b[0m\n",
      "\u001b[0;32m~/DocumentLocal/workspace/hfm/scripts_in_progress/xml_parser/music_xml_parser/core/xml_parser.py\u001b[0m in \u001b[0;36mxml_parse\u001b[0;34m(self, *args, **kwargs)\u001b[0m\n\u001b[1;32m   1151\u001b[0m         \u001b[0;31m# df_data = self.compute_upbeat(df_data)\u001b[0m\u001b[0;34m\u001b[0m\u001b[0;34m\u001b[0m\u001b[0;34m\u001b[0m\u001b[0m\n\u001b[1;32m   1152\u001b[0m         \u001b[0mdf_data\u001b[0m \u001b[0;34m=\u001b[0m \u001b[0mself\u001b[0m\u001b[0;34m.\u001b[0m\u001b[0mupbeat_detection\u001b[0m\u001b[0;34m(\u001b[0m\u001b[0mdf_data\u001b[0m\u001b[0;34m)\u001b[0m\u001b[0;34m\u001b[0m\u001b[0;34m\u001b[0m\u001b[0m\n\u001b[0;32m-> 1153\u001b[0;31m         \u001b[0mdf_data\u001b[0m \u001b[0;34m=\u001b[0m \u001b[0mself\u001b[0m\u001b[0;34m.\u001b[0m\u001b[0mupbeat_correction\u001b[0m\u001b[0;34m(\u001b[0m\u001b[0mdf_data\u001b[0m\u001b[0;34m)\u001b[0m\u001b[0;34m\u001b[0m\u001b[0;34m\u001b[0m\u001b[0m\n\u001b[0m\u001b[1;32m   1154\u001b[0m         \u001b[0mdf_data\u001b[0m \u001b[0;34m=\u001b[0m \u001b[0mself\u001b[0m\u001b[0;34m.\u001b[0m\u001b[0mremove_df_cols\u001b[0m\u001b[0;34m(\u001b[0m\u001b[0mdf_data\u001b[0m\u001b[0;34m)\u001b[0m\u001b[0;34m\u001b[0m\u001b[0;34m\u001b[0m\u001b[0m\n\u001b[1;32m   1155\u001b[0m         \u001b[0;32mreturn\u001b[0m \u001b[0mdf_data\u001b[0m\u001b[0;34m\u001b[0m\u001b[0;34m\u001b[0m\u001b[0m\n",
      "\u001b[0;32m~/DocumentLocal/workspace/hfm/scripts_in_progress/xml_parser/music_xml_parser/core/xml_parser.py\u001b[0m in \u001b[0;36mupbeat_correction\u001b[0;34m(self, df_c)\u001b[0m\n\u001b[1;32m   1098\u001b[0m                     \u001b[0mgp22\u001b[0m \u001b[0;34m=\u001b[0m \u001b[0mgp11\u001b[0m\u001b[0;34m.\u001b[0m\u001b[0miloc\u001b[0m\u001b[0;34m[\u001b[0m\u001b[0mindex\u001b[0m\u001b[0;34m:\u001b[0m\u001b[0mindex\u001b[0m\u001b[0;34m+\u001b[0m\u001b[0;36m2\u001b[0m\u001b[0;34m]\u001b[0m\u001b[0;34m\u001b[0m\u001b[0;34m\u001b[0m\u001b[0m\n\u001b[1;32m   1099\u001b[0m \u001b[0;34m\u001b[0m\u001b[0m\n\u001b[0;32m-> 1100\u001b[0;31m                     \u001b[0;32massert\u001b[0m \u001b[0mlen\u001b[0m\u001b[0;34m(\u001b[0m\u001b[0mgp22\u001b[0m\u001b[0;34m)\u001b[0m \u001b[0;34m==\u001b[0m\u001b[0;36m2\u001b[0m\u001b[0;34m,\u001b[0m \u001b[0;34mf\"Please check Index, only two should be selected to find consecutive measure for summing\"\u001b[0m\u001b[0;34m\u001b[0m\u001b[0;34m\u001b[0m\u001b[0m\n\u001b[0m\u001b[1;32m   1101\u001b[0m                     \u001b[0;31m#to check if there are consicutive measure add up ???\u001b[0m\u001b[0;34m\u001b[0m\u001b[0;34m\u001b[0m\u001b[0;34m\u001b[0m\u001b[0m\n\u001b[1;32m   1102\u001b[0m                     \u001b[0mm_ck\u001b[0m \u001b[0;34m=\u001b[0m \u001b[0mgp22\u001b[0m\u001b[0;34m[\u001b[0m\u001b[0;34m'Measure'\u001b[0m\u001b[0;34m]\u001b[0m\u001b[0;34m.\u001b[0m\u001b[0mto_numpy\u001b[0m\u001b[0;34m(\u001b[0m\u001b[0;34m)\u001b[0m\u001b[0;34m\u001b[0m\u001b[0;34m\u001b[0m\u001b[0m\n",
      "\u001b[0;31mAssertionError\u001b[0m: Please check Index, only two should be selected to find consecutive measure for summing"
     ]
    }
   ],
   "source": [
    "results_01 = mp.core.search.simple_interval_search(xml_file,\n",
    "                                                   interval=[2, 2],\n",
    "                                                   return_details=False)\n",
    "\n",
    "results_01"
   ]
  },
  {
   "cell_type": "markdown",
   "id": "3bdb1584",
   "metadata": {},
   "source": [
    "Hier eine andere Suchanfrage - diesmal mit Details:"
   ]
  },
  {
   "cell_type": "code",
   "execution_count": null,
   "id": "95703727",
   "metadata": {},
   "outputs": [],
   "source": [
    "results_02 = mp.core.search.simple_interval_search(xml_file, \n",
    "                                                   interval=[3, -1],\n",
    "                                                   return_details=True)\n",
    "results_02"
   ]
  },
  {
   "cell_type": "code",
   "execution_count": null,
   "id": "a4f2260d",
   "metadata": {},
   "outputs": [],
   "source": [
    "results_02 = mp.core.search.simple_interval_search(xml_file, interval=[2, 2, 1],return_details=True)\n",
    "results_02\n",
    "print(results_02)\n"
   ]
  },
  {
   "cell_type": "code",
   "execution_count": null,
   "id": "80263eb1",
   "metadata": {},
   "outputs": [],
   "source": [
    "\n",
    "mp.utils.display_table(data=results_02, \n",
    "                       columns=['Anfangston', 'Midi', 'Stimme', 'PartID', 'Takt', 'Ton'])"
   ]
  },
  {
   "cell_type": "code",
   "execution_count": null,
   "id": "9ecd9ea4",
   "metadata": {},
   "outputs": [],
   "source": []
  }
 ],
 "metadata": {
  "kernelspec": {
   "display_name": "Python 3",
   "language": "python",
   "name": "python3"
  },
  "language_info": {
   "codemirror_mode": {
    "name": "ipython",
    "version": 3
   },
   "file_extension": ".py",
   "mimetype": "text/x-python",
   "name": "python",
   "nbconvert_exporter": "python",
   "pygments_lexer": "ipython3",
   "version": "3.9.4"
  }
 },
 "nbformat": 4,
 "nbformat_minor": 5
}
