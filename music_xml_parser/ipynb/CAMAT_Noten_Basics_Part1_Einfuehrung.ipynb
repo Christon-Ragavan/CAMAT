{
 "cells": [
  {
   "cell_type": "markdown",
   "id": "f927a7f5",
   "metadata": {},
   "source": [
    "# Tutorial Basics Noten Part 1: Einführung und Visualisierung"
   ]
  },
  {
   "cell_type": "markdown",
   "id": "22741930",
   "metadata": {},
   "source": [
    "(version 2022_01_24)"
   ]
  },
  {
   "cell_type": "markdown",
   "id": "be93175e",
   "metadata": {},
   "source": [
    "### Inhaltsverzeichnis: \n",
    "1. [Jupyter-Notebook: Grundlegende Funktionen](#grundlagen)\n",
    "2. [Laden von Notendateien (MusicXML)](#laden)\n",
    "3. [Exkurs: Der xml-Parser und das Pandas-Dataframe](#xml-parser)\n",
    "4. [Pianorollen-Visualisierung](#pianorollen)\n",
    "5. [Auswahl von Stimmen bzw. Takten](#auswahl)\n",
    "6. [Aufgaben](#aufgaben)"
   ]
  },
  {
   "cell_type": "markdown",
   "id": "d01bea6f",
   "metadata": {},
   "source": [
    "Dieses Tutorial führt in den Aufbau und die Funktionsweise eines Jupyter-Notebooks ein und zeigt, wie CAMAT (Computer-Assisted Music Analysis Tool) für die Visualisierung und Analyse von Notendaten genutzt werden kann.\n",
    "\n",
    "Auf dieser Grundlage präsentiert das Tutorial Part 2 Möglichkeiten einfacher statistischer Abfragen. "
   ]
  },
  {
   "cell_type": "markdown",
   "id": "b229e1de",
   "metadata": {},
   "source": [
    "### 1. Jupyter-Notebook: Grundlegende Funktionen <a id='grundlagen'></a>"
   ]
  },
  {
   "cell_type": "markdown",
   "id": "350214be",
   "metadata": {},
   "source": [
    "Ein Jupyter-Notebook ist eine Datei, die im Browser geöffnet und bearbeitet werden kann. Jedes Jupyter-Notebook besteht aus einer Folge von Textblöcken (Markdown Cells) und Blöcken mit Programmiercode in der Programmiersprache Python (Code Cells). Indem innerhalb eines Blocks die Eingabetaste gedrückt wird, kann Text oder Code geändert, hinzugefügt oder gelöscht werden. \n",
    "Eigene, veränderte Versionen des Notebooks können unter neuem Namen abgespeichert werden (Menu: File -> Save as...). \n",
    "\n",
    "WICHTIG: Die Befehle jeder einzelnen Code Cell werden mit dem Run-Button ausgeführt. Während der Ausführung (die bei manchen Befehlen einige Sekunden dauern kann) wird oben auf dem Tab ein Sanduhr-Symbol angezeigt. Anschließend werden ggf. Ergebnisse (oder Fehlermeldungen) angezeigt und der Cursor springt zur nächsten Box. \n",
    "\n",
    "Gehen Sie bitte die Tutorials jeweils Code Cell für Code Cell durch, aktivieren Sie den jeweiligen Code jeweils mit dem Run-Button und warten Sie ab, was geschieht!\n",
    "\n",
    "In den Code Cells werden alle Zeilen hinter einem Rautezeicheen (#) nicht ausgeführt; dies bietet die Möglichkeit, entweder Erläuterungen zum Code in den Code cells zu vermerken oder zusätzliche deaktivierte Befehle zu notieren, die durch Löschen der Raute (und anschließendem Run) ausgeführt werden. "
   ]
  },
  {
   "cell_type": "code",
   "execution_count": 1,
   "id": "a9a1d6ff",
   "metadata": {},
   "outputs": [
    {
     "data": {
      "text/plain": [
       "148"
      ]
     },
     "execution_count": 1,
     "metadata": {},
     "output_type": "execute_result"
    }
   ],
   "source": [
    "# Mit den Befehlen können Sie selbstverständlich auch rechnen: \n",
    "# Drücken Sie bitte auf 'Run'!\n",
    "\n",
    "21 * 7 + 1 \n",
    "\n",
    "# Verändern Sie nun den Rechenbefehl.\n",
    "# Drücken Sie dann wieder auf 'Run'!"
   ]
  },
  {
   "cell_type": "markdown",
   "id": "1e03631d",
   "metadata": {},
   "source": [
    "Eine neue Cell wird mit dem +-Button oder den Menu-Punkt Insert erzeugt und kann dann im Menu als Markdown oder Code Cell festgelegt werden. Hier können Sie Ihre eigenen Kommentare oder Befehle vermerken. (Und bitte nicht vergessen, das Notebook zuvor unter neuem Namen abzuspeichern!).  \n",
    "\n",
    "Parallel zum Notebook läuft ein Command-Fenster, das Sie nicht weiter beachten müssen - das Sie aber bitte auch nicht schließen dürfen! Beenden Sie ein Notebook bitte mit dem Menu-Befehl 'File' -> 'Close and Halt', loggen Sie sich dann aus und schließen Sie erst zum Schluss das Command-Fenster. "
   ]
  },
  {
   "cell_type": "markdown",
   "id": "8073270f",
   "metadata": {},
   "source": [
    "Jeder Start eines Jupyter Notebooks beginnt mit dem Import der erforderlichen Python-Bibliotheken:  "
   ]
  },
  {
   "cell_type": "code",
   "execution_count": 2,
   "id": "80714c6a",
   "metadata": {},
   "outputs": [
    {
     "data": {
      "text/html": [
       "<style>.container { width:100% !important; }</style>"
      ],
      "text/plain": [
       "<IPython.core.display.HTML object>"
      ]
     },
     "metadata": {},
     "output_type": "display_data"
    }
   ],
   "source": [
    "import sys\n",
    "import os\n",
    "sys.path.append(os.getcwd().replace(os.path.join('music_xml_parser', 'ipynb'), ''))\n",
    "\n",
    "import music_xml_parser as mp\n",
    "from music21 import * \n",
    "import csv\n",
    "from IPython.display import HTML, display\n",
    "import numpy as np\n",
    "import pandas as pd\n",
    "import matplotlib.pyplot as plt\n",
    "\n",
    "# Mit diesen Befehlen wird der Kern von CAMAT, der 'music_xml_parser', \n",
    "# aber u.a. auch die python-Bibliotheken 'numpy' und 'pandas' für statische Auswertungen, \n",
    "# 'matplotlib' für grafische Darstellungen, \n",
    "# 'csv' für den Tabellenexport geladen \n",
    "# sowie 'music21' geladen.\n",
    "\n",
    "# Durch den folgenden Befehl wird der Download von URLs aus dem Internet erlaubt: \n",
    "environment.set('autoDownload', 'allow')\n",
    "\n",
    "from IPython.core.display import display, HTML\n",
    "display(HTML(\"<style>.container { width:100% !important; }</style>\"))\n",
    "# optimiert die Darstellung im Browser"
   ]
  },
  {
   "cell_type": "markdown",
   "id": "2973bb49",
   "metadata": {},
   "source": [
    "### 2. Laden von Notendateien (MusicXML) <a id='laden'></a>"
   ]
  },
  {
   "cell_type": "markdown",
   "id": "3354c732",
   "metadata": {},
   "source": [
    "Als nächstes wird eine Notendatei im MusicXML-Format (kurz: xml) geladen und mit dem Namen 'xml_file' versehen. Sie können auch jeden beliebigen anderen Namen wählen, müssen dann aber die entsprechenden Befehle in den Code Cells entsprechend verändern!\n",
    "\n",
    "Beim Laden von Notendateien gibt es zwei Möglichkeiten: \n",
    "1. Eine Notendatei wird von der lokalen Festplatte geladen, der zuvor in den Ordner 'data/xmls_to_parse' des 'music_xml_parser' gelegt wurde. Dann muss der Dateiname eingegeben werden (in einfachen Anführungszeichen). \n",
    "2. Eine Notendatei wird direkt aus dem Internet geladen, indem der URL eingegeben wird (in einfachen Anführungszeichen). \n",
    "\n",
    "Im folgenden Beispiel laden wir den ersten Satz (Adagio) aus dem Streichquartett No. 11 in Es-Dur - Adagio, Köchelverzeichnis 171 von Wolfgang Amadeus Mozart aus der Projektdatenbank (vgl. https://analyse.hfm-weimar.de/doku.php?id=mowo  bzw. https://analyse.hfm-weimar.de/doku.php?id=notenauswahl#mozart_wolfgang_amadeus_1756-1791), in dem wir den Link zur xml-Datei mit einem Rechtsklick und \"Link-Adresse kopieren\" übernehmen. \n",
    "\n",
    "Anschließend wird ein sog. Pandas-Dataframe (s. Abschnitt 3) der xml-Datei generiert, das als eine Art interne Datenbank allen weiteren Auswertungen als Datengrundlage dient. "
   ]
  },
  {
   "cell_type": "code",
   "execution_count": 3,
   "id": "2ce0f2a8",
   "metadata": {},
   "outputs": [
    {
     "name": "stdout",
     "output_type": "stream",
     "text": [
      "os.getcwd() /Users/chris/DocumentLocal/workspace/hfm/git_repo/CAMAT/music_xml_parser/ipynb\n",
      "os.getcwd() /Users/chris/DocumentLocal/workspace/hfm/git_repo/CAMAT/music_xml_parser/ipynb\n",
      "os.getcwd() /Users/chris/DocumentLocal/workspace/hfm/git_repo/CAMAT/music_xml_parser/ipynb\n",
      "Downloading file:MoWo_K171_COM_1-4_StringQuar_003_00867.xml\n"
     ]
    },
    {
     "ename": "FileNotFoundError",
     "evalue": "[Errno 2] No such file or directory: '/Users/chris/DocumentLocal/workspace/hfm/git_repo/CAMAT/music_xml_parser/data/xmls_to_parse/hfm_database/MoWo_K171_COM_1-4_StringQuar_003_00867.xml'",
     "output_type": "error",
     "traceback": [
      "\u001b[0;31m---------------------------------------------------------------------------\u001b[0m",
      "\u001b[0;31mFileNotFoundError\u001b[0m                         Traceback (most recent call last)",
      "\u001b[0;32m<ipython-input-3-01203a63ff8e>\u001b[0m in \u001b[0;36m<module>\u001b[0;34m\u001b[0m\n\u001b[1;32m      9\u001b[0m \u001b[0;31m# Mit dem folgenden Befehl wird hieraus ein Pandas-Dataframe (mit der Bezeichnung 'm_df') erzeugt:\u001b[0m\u001b[0;34m\u001b[0m\u001b[0;34m\u001b[0m\u001b[0;34m\u001b[0m\u001b[0m\n\u001b[1;32m     10\u001b[0m \u001b[0;34m\u001b[0m\u001b[0m\n\u001b[0;32m---> 11\u001b[0;31m m_df = mp.parse.with_xml_file(file=xml_file,\n\u001b[0m\u001b[1;32m     12\u001b[0m                               \u001b[0mdo_save\u001b[0m\u001b[0;34m=\u001b[0m\u001b[0;32mTrue\u001b[0m\u001b[0;34m,\u001b[0m\u001b[0;34m\u001b[0m\u001b[0;34m\u001b[0m\u001b[0m\n\u001b[1;32m     13\u001b[0m                               save_file_name='mozart.csv')\n",
      "\u001b[0;32m~/DocumentLocal/workspace/hfm/git_repo/CAMAT/music_xml_parser/core/plot.py\u001b[0m in \u001b[0;36mplotting_wrapper_parts\u001b[0;34m(*args, **kwargs)\u001b[0m\n\u001b[1;32m     93\u001b[0m         \u001b[0mmeasure_onset_data\u001b[0m\u001b[0;34m,\u001b[0m\u001b[0;31m \u001b[0m\u001b[0;31m\\\u001b[0m\u001b[0;34m\u001b[0m\u001b[0;34m\u001b[0m\u001b[0m\n\u001b[1;32m     94\u001b[0m         \u001b[0mplot_inline_ipynb\u001b[0m\u001b[0;34m,\u001b[0m \u001b[0mt_pid\u001b[0m\u001b[0;34m,\u001b[0m\u001b[0;31m \u001b[0m\u001b[0;31m\\\u001b[0m\u001b[0;34m\u001b[0m\u001b[0;34m\u001b[0m\u001b[0m\n\u001b[0;32m---> 95\u001b[0;31m         \u001b[0mt_pn\u001b[0m \u001b[0;34m=\u001b[0m \u001b[0mfunc\u001b[0m\u001b[0;34m(\u001b[0m\u001b[0;34m*\u001b[0m\u001b[0margs\u001b[0m\u001b[0;34m,\u001b[0m \u001b[0;34m**\u001b[0m\u001b[0mkwargs\u001b[0m\u001b[0;34m)\u001b[0m\u001b[0;34m\u001b[0m\u001b[0;34m\u001b[0m\u001b[0m\n\u001b[0m\u001b[1;32m     96\u001b[0m \u001b[0;34m\u001b[0m\u001b[0m\n\u001b[1;32m     97\u001b[0m         \u001b[0mmeasure\u001b[0m \u001b[0;34m=\u001b[0m \u001b[0mm_dur_off\u001b[0m\u001b[0;34m(\u001b[0m\u001b[0mmeasure_duration_list\u001b[0m\u001b[0;34m)\u001b[0m\u001b[0;34m\u001b[0m\u001b[0;34m\u001b[0m\u001b[0m\n",
      "\u001b[0;32m~/DocumentLocal/workspace/hfm/git_repo/CAMAT/music_xml_parser/core/parse.py\u001b[0m in \u001b[0;36mwith_xml_file\u001b[0;34m(file, plot_pianoroll, plot_inline_ipynb, save_at, save_file_name, do_save, x_axis_res, get_measure_onset, get_upbeat_info, filter_dict, ignore_upbeat, ignore_ties, *args, **kwargs)\u001b[0m\n\u001b[1;32m     69\u001b[0m     \u001b[0;32mexcept\u001b[0m\u001b[0;34m:\u001b[0m\u001b[0;34m\u001b[0m\u001b[0;34m\u001b[0m\u001b[0m\n\u001b[1;32m     70\u001b[0m         \u001b[0;32mpass\u001b[0m\u001b[0;34m\u001b[0m\u001b[0;34m\u001b[0m\u001b[0m\n\u001b[0;32m---> 71\u001b[0;31m     \u001b[0mfile\u001b[0m \u001b[0;34m=\u001b[0m \u001b[0m_get_file_path\u001b[0m\u001b[0;34m(\u001b[0m\u001b[0mfile\u001b[0m\u001b[0;34m=\u001b[0m\u001b[0mfile\u001b[0m\u001b[0;34m)\u001b[0m\u001b[0;34m\u001b[0m\u001b[0;34m\u001b[0m\u001b[0m\n\u001b[0m\u001b[1;32m     72\u001b[0m \u001b[0;34m\u001b[0m\u001b[0m\n\u001b[1;32m     73\u001b[0m     \u001b[0;32mif\u001b[0m \u001b[0;34m'.xml'\u001b[0m \u001b[0;32mnot\u001b[0m \u001b[0;32min\u001b[0m \u001b[0mbasename\u001b[0m\u001b[0;34m(\u001b[0m\u001b[0mfile\u001b[0m\u001b[0;34m)\u001b[0m\u001b[0;34m:\u001b[0m\u001b[0;34m\u001b[0m\u001b[0;34m\u001b[0m\u001b[0m\n",
      "\u001b[0;32m~/DocumentLocal/workspace/hfm/git_repo/CAMAT/music_xml_parser/core/parser_utils.py\u001b[0m in \u001b[0;36m_get_file_path\u001b[0;34m(file)\u001b[0m\n\u001b[1;32m     43\u001b[0m \u001b[0;32mdef\u001b[0m \u001b[0m_get_file_path\u001b[0m\u001b[0;34m(\u001b[0m\u001b[0mfile\u001b[0m\u001b[0;34m)\u001b[0m\u001b[0;34m:\u001b[0m\u001b[0;34m\u001b[0m\u001b[0;34m\u001b[0m\u001b[0m\n\u001b[1;32m     44\u001b[0m     \u001b[0;32mif\u001b[0m \u001b[0;34m'https:'\u001b[0m \u001b[0;32min\u001b[0m \u001b[0mfile\u001b[0m\u001b[0;34m:\u001b[0m\u001b[0;34m\u001b[0m\u001b[0;34m\u001b[0m\u001b[0m\n\u001b[0;32m---> 45\u001b[0;31m         \u001b[0mf\u001b[0m \u001b[0;34m=\u001b[0m \u001b[0mget_file_from_server\u001b[0m\u001b[0;34m(\u001b[0m\u001b[0mfile\u001b[0m\u001b[0;34m)\u001b[0m\u001b[0;34m\u001b[0m\u001b[0;34m\u001b[0m\u001b[0m\n\u001b[0m\u001b[1;32m     46\u001b[0m         \u001b[0;32mtry\u001b[0m\u001b[0;34m:\u001b[0m\u001b[0;34m\u001b[0m\u001b[0;34m\u001b[0m\u001b[0m\n\u001b[1;32m     47\u001b[0m             \u001b[0mpath_p\u001b[0m \u001b[0;34m=\u001b[0m \u001b[0mos\u001b[0m\u001b[0;34m.\u001b[0m\u001b[0mpath\u001b[0m\u001b[0;34m.\u001b[0m\u001b[0mnormpath\u001b[0m\u001b[0;34m(\u001b[0m\u001b[0mf\u001b[0m\u001b[0;34m)\u001b[0m\u001b[0;34m.\u001b[0m\u001b[0msplit\u001b[0m\u001b[0;34m(\u001b[0m\u001b[0mos\u001b[0m\u001b[0;34m.\u001b[0m\u001b[0msep\u001b[0m\u001b[0;34m)\u001b[0m\u001b[0;34m\u001b[0m\u001b[0;34m\u001b[0m\u001b[0m\n",
      "\u001b[0;32m~/DocumentLocal/workspace/hfm/git_repo/CAMAT/music_xml_parser/core/web_scrapper.py\u001b[0m in \u001b[0;36mget_file_from_server\u001b[0;34m(xml_link, save_at)\u001b[0m\n\u001b[1;32m     47\u001b[0m         \u001b[0mprint\u001b[0m\u001b[0;34m(\u001b[0m\u001b[0;34mf\"Downloading file:{file_name}\"\u001b[0m\u001b[0;34m)\u001b[0m\u001b[0;34m\u001b[0m\u001b[0;34m\u001b[0m\u001b[0m\n\u001b[1;32m     48\u001b[0m         \u001b[0mresponse\u001b[0m \u001b[0;34m=\u001b[0m \u001b[0mrequests\u001b[0m\u001b[0;34m.\u001b[0m\u001b[0mget\u001b[0m\u001b[0;34m(\u001b[0m\u001b[0mxml_link\u001b[0m\u001b[0;34m)\u001b[0m\u001b[0;34m\u001b[0m\u001b[0;34m\u001b[0m\u001b[0m\n\u001b[0;32m---> 49\u001b[0;31m         \u001b[0;32mwith\u001b[0m \u001b[0mopen\u001b[0m\u001b[0;34m(\u001b[0m\u001b[0ms\u001b[0m\u001b[0;34m,\u001b[0m \u001b[0;34m'wb'\u001b[0m\u001b[0;34m)\u001b[0m \u001b[0;32mas\u001b[0m \u001b[0mfile\u001b[0m\u001b[0;34m:\u001b[0m\u001b[0;34m\u001b[0m\u001b[0;34m\u001b[0m\u001b[0m\n\u001b[0m\u001b[1;32m     50\u001b[0m             \u001b[0mfile\u001b[0m\u001b[0;34m.\u001b[0m\u001b[0mwrite\u001b[0m\u001b[0;34m(\u001b[0m\u001b[0mresponse\u001b[0m\u001b[0;34m.\u001b[0m\u001b[0mcontent\u001b[0m\u001b[0;34m)\u001b[0m\u001b[0;34m\u001b[0m\u001b[0;34m\u001b[0m\u001b[0m\n\u001b[1;32m     51\u001b[0m         \u001b[0mprint\u001b[0m\u001b[0;34m(\u001b[0m\u001b[0;34m\">>> %s downloaded!\\n\"\u001b[0m \u001b[0;34m%\u001b[0m \u001b[0mfile_name\u001b[0m\u001b[0;34m)\u001b[0m\u001b[0;34m\u001b[0m\u001b[0;34m\u001b[0m\u001b[0m\n",
      "\u001b[0;31mFileNotFoundError\u001b[0m: [Errno 2] No such file or directory: '/Users/chris/DocumentLocal/workspace/hfm/git_repo/CAMAT/music_xml_parser/data/xmls_to_parse/hfm_database/MoWo_K171_COM_1-4_StringQuar_003_00867.xml'"
     ]
    }
   ],
   "source": [
    "xml_file = 'https://analyse.hfm-weimar.de/database/03/MoWo_K171_COM_1-4_StringQuar_003_00867.xml'\n",
    "\n",
    "# Der Befehl lädt eine MusicXML-Datei aus dem Internet \n",
    "# und gibt ihr den internen Variablenname 'xml_file'.\n",
    "# Sie können hier natürlich auch andere Dateien laden, \n",
    "# indem Sie deren URL (oder Pfad) kopieren.\n",
    "# Und Sie können andere interne Bezeichnungen für die Dateien vergeben. \n",
    "\n",
    "# Mit dem folgenden Befehl wird hieraus ein Pandas-Dataframe (mit der Bezeichnung 'm_df') erzeugt:\n",
    "\n",
    "m_df = mp.parse.with_xml_file(file=xml_file,\n",
    "                              do_save=True, \n",
    "                              save_file_name='mozart.csv')\n",
    "m_df"
   ]
  },
  {
   "cell_type": "markdown",
   "id": "8bef8952",
   "metadata": {},
   "source": [
    "Bei dem Befehl können Sie zwei Parameter spezifizieren (grüne Felder):\n",
    "\n",
    "1. do_save=True -> die Pandas-Dataframe-Datei wird im 'Exports'-Ordner gespeichert. Wenn Sie den Wert auf 'None' ändern, wird auf die Speicherung  verzichtet. \n",
    "\n",
    "2. save_file_name = 'None' -> die Pandas-Dataframe-Datei wird unter demselben Dateinamen als .csv-Datei gespeichert; csv bedeutet: 'comma seperate variable'. Statt True können Sie eine beliebige Dateibezeichnung mit der Endung .csv eingeben, z.B. 'mozart.csv' ändern (bitte in einfachen Anführungszeichen!) Anschließend können Sie  die Datei im Exports-Ordner öffnen."
   ]
  },
  {
   "cell_type": "markdown",
   "id": "a2470047",
   "metadata": {},
   "source": [
    "### 3. Exkurs: Der xml-Parser und das Pandas-Dataframe <a id='xml-parser'></a>"
   ]
  },
  {
   "cell_type": "markdown",
   "id": "b6bf8012",
   "metadata": {},
   "source": [
    "Der **xml-Parser** ist ein im Rahmen des Fellowship-Projekts entwickeltes Python-Modul für die Verarbeitung einer MusicXML-Datei und dient u.a. der Visualizierung und statistischen Auswertung der in der Datei enthaltenen Informationen. Das Grundkonzept des Moduls besteht in der Speicherung der gesamten in der Notendatei vorhandenen Informationen in Form eines [Pandas-Dataframes](https://pandas.pydata.org/pandas-docs/stable/user_guide/dsintro.html#dataframe), welches sehr effiziente Kalkulationen und Datenverwaltung der eingelesen Daten ermöglicht. \n",
    "\n",
    "Der sog. **xml-Parser** (von engl. to parse: zerlegen, analysieren) verfügt über eine intern festgelegte Datenstruktur, die sich nach der Exktraktion der zip-Datei bereits auf Ihrem Rechner wiederfindet: Im Ordner **music_xml_parser** gibt es drei Ordner:\n",
    "\n",
    "1. **core** enthält alle programmrelevanten Python-Scripte. *Bitte nicht verändern!!*\n",
    "\n",
    "\n",
    "2. **data** enthält die Ordner\n",
    "- **xmls_to_parse**. Darin liegen alle xml-Files, die beim Laden direkt (also ohne weitere Pfadangabe) eingelesen werden können. Sie können selbst xml-Dateien in den Ordner legen, oder aber Dateien direkt aus dem Internet einlesen.  \n",
    "- **exports**: Hier liegen alle Dateien, die Sie im Laufe Ihrer Arbeit mit dem Jupyter-Notebooks selbst generiert haben, z.B. Tabellen (.csv) oder Grafiken (.png). \n",
    "\n",
    "3. **ipynb** - enthält alle Jupyter-Notebooks (.ipynb); modifizierte Notebooks sollten ebenfalls hier gespeichert werden, gerne auch in Unterordnern. "
   ]
  },
  {
   "cell_type": "markdown",
   "id": "40bf92be",
   "metadata": {},
   "source": [
    "Nachdem Sie durch den letzten Befehl ein Dataframe 'm_df' Ihrer Notendatei erzeugt haben, können Sie sich die Daten anschauen, indem Sie im **exports**-Ordner die dort gespeicherte Datei m_df.csv öffnen (mit Excel oder einem Texteditor) - vorausgesetzt, Sie haben 'do_save=True' gewählt. \n",
    "\n",
    "Sie können die Daten auch als Tabelle im Browser ausgeben. Dazu aktivieren Sie bitte den folgenden Befehl, indem Sie die Raute (#) davor löschen und anschließend auf 'Run' drücken. \n",
    "\n",
    "ACHTUNG: Bereits bei kleineren Notendateien benötigt diese Darstellung viel Speicherplatz; der Befehl sollte dann unbedingt übersprungen werden!!"
   ]
  },
  {
   "cell_type": "code",
   "execution_count": null,
   "id": "18ba9d8d",
   "metadata": {},
   "outputs": [],
   "source": [
    "# m_df\n",
    "\n",
    "# Wenn Sie die Raute (#) löschen und auf Run drücken, \n",
    "# wird der Befehl 'm_df' ausgeführt und eine Tabelle \n",
    "# mit ersten und letzten Zeilen des Pandas-Dataframe angezeigt.\n",
    "\n",
    "# Für eine komplette Ansicht nutzen Sie den folgenden Befehl: \n",
    "# mp.utils.print_full_df(m_df)\n",
    "# ACHTUNG: Dies kann sehr rechenintensiv sein!!"
   ]
  },
  {
   "cell_type": "markdown",
   "id": "9f6d9f9f",
   "metadata": {},
   "source": [
    "### 4. Pianorollen-Visualisierung<a id='pianorollen'></a>"
   ]
  },
  {
   "cell_type": "markdown",
   "id": "fa72d397",
   "metadata": {},
   "source": [
    "Im folgenden Codefenster aktivieren Sie die Pianorollen-Visualisierung der Notendatei. \n",
    "\n",
    "ACHTUNG: Große Notendateien können leider nicht komplett als Pianorollen dargestellt werden; die Darstellung wird abgebrochen und eine Fehlermeldung geliefert ('OverflowError: sleep length is too large'). Dann es besser, die externe Darstellung in einem Popup-Fenster zu wählen (s. unten). Oder Sie wählen mit der Filterfunktion (s. Abschnitt 5) gezielt jene Ausschnitte aus, die für Sie von Interesse sind! \n",
    "\n",
    "Eine Alternative zur Pianorollen-Darstellung im Browser ist die Darstellung mit dem Sonic Visualiser. Wie Sie hierbei vorgehen müssen erfahren Sie hier: https://analyse.hfm-weimar.de/doku.php?id=sv-pianoroll"
   ]
  },
  {
   "cell_type": "code",
   "execution_count": null,
   "id": "82fe1f01",
   "metadata": {
    "scrolled": false
   },
   "outputs": [],
   "source": [
    "m_df = mp.parse.with_xml_file(file=xml_file, \n",
    "                              plot_pianoroll=True, \n",
    "                              plot_inline_ipynb=True)"
   ]
  },
  {
   "cell_type": "markdown",
   "id": "9404e0bd",
   "metadata": {},
   "source": [
    "Jede Stimme wird mit einer eigenen Farbe dargestellt. \n",
    "Spielen zwei Stimmen unisono (also dieselben Noten), mischen sich die beiden Farben. \n",
    "\n",
    "Öffnen Sie nun bitte die Notendatei: Speichern Sie die Datei zunächst auf Ihrer Festplatte (in der Notendatenbank: Rechtsklick auf den Link -> 'Ziel speichern unter'), öffnen Sie Ihren Noteneditor (z.B. MuseScore) und laden Sie die Datei. \n",
    "\n",
    "Vergleichen Sie nun die Notendarstellung mit der Pianorollendarstellung. \n",
    "Wo unterscheiden sich die beiden Darstellungen?\n",
    "Was können Sie auf der Pianorollen-Grafik erkennen?\n",
    "Wo liegen die Vorteile der Pianorolle gegenüber dem Notentext? Welche Nachteile gibt es?"
   ]
  },
  {
   "cell_type": "markdown",
   "id": "8b34680a",
   "metadata": {},
   "source": [
    "Hier eine alternative Möglichkeit der Darstellung durch die Auswahl *externe/interne* Darstellung: Durch die Aktivierung des Befehls '%matplotlib' wird die Anzeige auf ein externes Pop-Up-Fenster umgestellt. Davon sind auch alle folgenden Grafiken betroffen!"
   ]
  },
  {
   "cell_type": "code",
   "execution_count": null,
   "id": "4de9b7e6",
   "metadata": {},
   "outputs": [],
   "source": [
    "%matplotlib\n",
    "# Durch diesen Befehl (Aktivierung durch Löschen von #)\n",
    "# wird eine externe Darstellung gewählt. \n",
    "\n",
    "m_df = mp.parse.with_xml_file(file=xml_file, \n",
    "                              plot_pianoroll=True, \n",
    "                              plot_inline_ipynb=True)"
   ]
  },
  {
   "cell_type": "markdown",
   "id": "80f36a94",
   "metadata": {},
   "source": [
    "Wollen Sie auf die Darstellung im Browser zurückschalten, müssen Sie den folgenden Befehl ausführen: "
   ]
  },
  {
   "cell_type": "code",
   "execution_count": null,
   "id": "92854924",
   "metadata": {},
   "outputs": [],
   "source": [
    "%matplotlib inline"
   ]
  },
  {
   "cell_type": "markdown",
   "id": "ee5e6856",
   "metadata": {},
   "source": [
    "Im folgenden Code-Fenster werden einige Parameter erklärt, mit denen der Befehl oben weiter modifiziert werden kann. Dabei sind jeweils die Standardeinstellungen angegeben, die gelten solange der Parameter nicht eigens aufgerufen wird, und es ist jeweils vermerkt, ob ein String (Zeichenfolge: 'str' oder None), eine Zahl oder ein Wert ('bool', in der Regel 'True', 'False' oder 'None') eingegeben werden muss. "
   ]
  },
  {
   "cell_type": "code",
   "execution_count": null,
   "id": "aafad9f5",
   "metadata": {},
   "outputs": [],
   "source": [
    "m_df = mp.parse.with_xml_file(xml_file,\n",
    "        #file= str, (string value)  # Möglichkeit für andere Variablennamen, unter denen Sie Notendateien geladen haben.\n",
    "                                    # Voreinstellung: xml_file\n",
    "        #plot_pianoroll= bool       # Piano-Roll darstellen; Voreinstellung: False\n",
    "        #plot_inline_ipynb= bool    # überschreibt Matplotlib\n",
    "        #do_save= bool              # bei do_save=True wird das Dataframe gespeichert; Voreinstellung: False\n",
    "        #save_at= str               # hiermit wird der Dateipfad festgelegt; Voreinstellung: None \n",
    "        #save_file_name= str        # hier wird der Dateiname festgelegt; Voreinstellung: None\n",
    "        #x_axis_res= Zahl           # Auflösung der X-Achse als Teiler der Viertelnote; Voreinstellung: 2 (=0.5 Viertelnote)\n",
    "        #ignore_upbeat= bool        # Auftaktkorrektur ignorieren; Voreinstellung: False\n",
    "        #ignore_ties= bool          # Bindebögen-Kalkulation ignorieren; Voreinstellung: False\n",
    "                             )"
   ]
  },
  {
   "cell_type": "markdown",
   "id": "8f44255c",
   "metadata": {},
   "source": [
    "### 5. Auswahl von Stimmen bzw. Takten<a id='auswahl'></a>"
   ]
  },
  {
   "cell_type": "markdown",
   "id": "82adb7f7",
   "metadata": {},
   "source": [
    "Durch den folgenden Befehl können flexibel Stimmen und Takte ausgewählt werden - für grafische Darstellungen oder statistische Abfragen. Im folgenden Beispiel werden die ersten 5 Takte ('Measure':'1-5') der ersten beiden Stimmen ('PartID':'1-2') ausgewählt: "
   ]
  },
  {
   "cell_type": "code",
   "execution_count": null,
   "id": "e167821e",
   "metadata": {
    "scrolled": false
   },
   "outputs": [],
   "source": [
    "%matplotlib inline\n",
    "# Zunächst wird ein Filter mit dem Namen 'filter_dict_t' definiert. \n",
    "\n",
    "filter_dict_t = {'PartID':'1-2', 'Measure':'1-5'}\n",
    "\n",
    "# Anschließend wird dem Pianorollenbefehl (s. oben) der Filter als weiterer Parameter hinzugefügt:\n",
    "# filter_dict=filter_dict_t\n",
    "\n",
    "m_df_2 = mp.parse.with_xml_file(file=xml_file,\n",
    "                                plot_pianoroll=True,\n",
    "                                plot_inline_ipynb=True,\n",
    "                                filter_dict=filter_dict_t)"
   ]
  },
  {
   "cell_type": "markdown",
   "id": "137fa0fc",
   "metadata": {},
   "source": [
    "Bei diesem Ausschnitt sehen Sie, wie zu Beginn die beiden Violinen unisono spielen (Takt 1 und 2, braun), dann eigene Stimmen (Takt 3/4) und in Takt 5 wieder unisono. \n",
    "\n",
    "Sie können die Auswahl beliebig verändern, indem sie die Angaben der Stimmen und Takte (rot in der Code Cell) verändern. \n",
    "Sie können auch andere Filtern mit andere Filternamen definideren; dann müssen Sie aber den neuen Filter in die letzte Zeile einfügen: filter_dict= [Filtername]"
   ]
  },
  {
   "cell_type": "markdown",
   "id": "a13c1a3c",
   "metadata": {},
   "source": [
    "### 6. Aufgaben<a id='aufgaben'></a>"
   ]
  },
  {
   "cell_type": "markdown",
   "id": "36ecae40",
   "metadata": {},
   "source": [
    "1. Wählen Sie anhand der Partitur verschiedene Abschnitte der Komposition, schreiben Sie entsprechende Filter und visualisieren Sie die Abschnitte mit eigenen Pianorollen-Darstellungen. \n",
    "Vergleichen Sie den Verlauf der vier Stimmen, indem Sie für jede Stimme eine eigene Pianorollen-Darstellung generieren. \n",
    "\n",
    "2. Generieren Sie Pianorollendarstellungen von anderen Kompositionen und machen Sie sich auf diese Weise mit dem Jupyter-Notebook vertraut. "
   ]
  }
 ],
 "metadata": {
  "kernelspec": {
   "display_name": "Python 3",
   "language": "python",
   "name": "python3"
  },
  "language_info": {
   "codemirror_mode": {
    "name": "ipython",
    "version": 3
   },
   "file_extension": ".py",
   "mimetype": "text/x-python",
   "name": "python",
   "nbconvert_exporter": "python",
   "pygments_lexer": "ipython3",
   "version": "3.9.4"
  }
 },
 "nbformat": 4,
 "nbformat_minor": 5
}
