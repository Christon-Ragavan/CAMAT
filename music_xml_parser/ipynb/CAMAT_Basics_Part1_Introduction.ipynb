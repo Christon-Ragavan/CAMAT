{
 "cells": [
  {
   "cell_type": "markdown",
   "id": "f927a7f5",
   "metadata": {},
   "source": [
    "# Tutorial Basics Noten Part 1: Einführung und Visualisierung"
   ]
  },
  {
   "cell_type": "markdown",
   "id": "be93175e",
   "metadata": {},
   "source": [
    "Inhaltsverzeichnis: \n",
    "1. Jupyter-Notebook: Grundlegende Funktionen\n",
    "2. Laden von Dateien\n",
    "3. Der xml-Parser\n",
    "4. Pianorollendarstellung\n",
    "5. Auswahl von Stimmen bzw. Takten\n",
    "6. Vertiefung"
   ]
  },
  {
   "cell_type": "markdown",
   "id": "d01bea6f",
   "metadata": {},
   "source": [
    "Dieses  einführende Tutorial zeigt Ihnen den Aufbau und die Funktionsweise eines Jupyter-Notebooks und wie Sie die Jupyter-Notebooks für die Analyse von Notendaten nutzen können.\n",
    "\n",
    "Auf dieser Grundlage zeigt Ihnen das Tutorial Part 2 Möglichkeiten einfacher statistischer Abfragen. "
   ]
  },
  {
   "cell_type": "markdown",
   "id": "b229e1de",
   "metadata": {},
   "source": [
    "### 1. Jupyter-Notebook: Grundlegende Funktionen"
   ]
  },
  {
   "cell_type": "markdown",
   "id": "350214be",
   "metadata": {},
   "source": [
    "Ein Jupyter-Notebook ist eine Datei, die im Browser geöffnet und bearbeitet werden kann. Jedes Jupyter-Notebook besteht aus einer Folge von Textblöcken (Markdown cells) und Blöcken mit Python-Colde (Code cells). Beide Blöcke können von jedem User verändert und bearbeitet werden, indem innerhalb eines Blocks die Eingabetaste gedrückt wird. \n",
    "Eigene, veränderte Versionen des Notebooks können unter neuem Namen abgespeichert werden (Menu: File -> Save as...). \n",
    "\n",
    "WICHTIG: Die Befehle jeder einzelnen Code cell werden mit dem Run-Button ausgeführt. Während der Ausführung (die bei manchen Befehlen einige Sekunden dauern kann) wird oben auf dem Tab ein Sanduhr-Symbol angezeigt. Anschließend werden ggf. Ergebnisse (oder Fehlermeldungen) angezeigt und der Cursor springt zur nächsten Box. \n",
    "Gehen Sie in den Tutorials jeweils Code cell für Code cell durch, aktivieren Sie den Code mit dem Run-Button und warten Sie ab, was geschieht!\n",
    "\n",
    "In den Code Cells werden alle Zeilen hinter einem Rautezeicheen (#) nicht ausgeführt; dies bietet die Möglichkeit, entweder Erläuterungen zum Code in den Code cells zu vermerken oder zusätzliche deaktivierte Befehle zu vermerken, die durch Löschen der Raute (und anschließendem Run) ausgeführt werden. "
   ]
  },
  {
   "cell_type": "code",
   "execution_count": 1,
   "id": "a9a1d6ff",
   "metadata": {},
   "outputs": [
    {
     "data": {
      "text/plain": [
       "148"
      ]
     },
     "execution_count": 1,
     "metadata": {},
     "output_type": "execute_result"
    }
   ],
   "source": [
    "# Mit den Befehlen können Sie selbstverständlich auch rechnen. \n",
    " \n",
    "21 * 7 + 1 \n",
    "# Drücken Sie bitte dann auf 'Run'!\n",
    "\n",
    "# Verändern Sie z.B. den folgenden Rechenbefehl:\n",
    "# Drücken Sie bitte dann auf 'Run'!"
   ]
  },
  {
   "cell_type": "markdown",
   "id": "1e03631d",
   "metadata": {},
   "source": [
    "Eine neue Cell wird mit dem +-Button oder den Menu-Punkt Insert erzeugt und kann dann im Menu als Markdown oder Code cell festgelegt werden. Hier können Sie Ihre eigenen Kommentare oder Befehle vermerken. (Und bitte nicht vergessen, das Notebook zuvor unter neuem Namen abzuspeichern!).  \n",
    "\n",
    "Parallel zum Notebook läuft ein Command-Fenster (\"Anaconda Prompt\"), das Sie nicht weiter beachten müssen - das Sie aber bitte auch nicht schließen! Beenden Sie ein Notebook bitte mit dem Menu-Befehl \"File\" -> \"Close and Halt\", loggen Sie sich dann aus und schließen Sie erst zum Schluss das Command-Fenster. "
   ]
  },
  {
   "cell_type": "markdown",
   "id": "8073270f",
   "metadata": {},
   "source": [
    "Jeder Start eines Jupyter Notebooks beginnt mit dem Import einer Reihe von Python-Bibliotheken, die für die Analyse erforderlich sind:  "
   ]
  },
  {
   "cell_type": "code",
   "execution_count": 1,
   "id": "80714c6a",
   "metadata": {},
   "outputs": [],
   "source": [
    "import sys\n",
    "import os\n",
    "sys.path.append(os.getcwd().replace(os.path.join('music_xml_parser', 'ipynb'), ''))\n",
    "\n",
    "\n",
    "import music_xml_parser as mp\n",
    "from music21 import * \n",
    "import csv\n",
    "from IPython.display import HTML, display\n",
    "import numpy as np\n",
    "import pandas as pd\n",
    "import matplotlib.pyplot as plt\n",
    "\n",
    "# Mit diesen Befehlen wird der Kern von CAMAT, der 'music_xml_parser', \n",
    "# aber u.a. auch die python-Bibliotheken 'numpy' und 'pandas' für statische Auswertungen, \n",
    "# 'matplotlib' für grafische Darstellungen, \n",
    "# 'csv' für den Tabellenexport geladen \n",
    "# sowie 'music21' geladen.\n",
    "\n",
    "# Mit den folgenden Befehlen wird die Formatierung für die Tabellen festgelegt, \n",
    "# die weiter unten dargestellt werden: \n",
    "\n",
    "pd.set_option('display.max_rows', 9999)\n",
    "pd.set_option('display.max_columns', 9999)\n",
    "pd.set_option('display.width', 9999)\n",
    "\n",
    "# Durch den folgenden Befehl wird der Download von URLs aus dem Internet erlaubt: \n",
    "environment.set('autoDownload', 'allow')"
   ]
  },
  {
   "cell_type": "markdown",
   "id": "2973bb49",
   "metadata": {},
   "source": [
    "### 2. Laden von Notendateien"
   ]
  },
  {
   "cell_type": "markdown",
   "id": "3354c732",
   "metadata": {},
   "source": [
    "Als nächstes wird eine Notendatei im xml-Format geladen und mit dem Namen 'xml_file' versehen. Dabei gibt es zwei Möglichkeiten: \n",
    "1. Eine Notendatei wird von der lokalen Festplatte geladen, der zuvor in den Ordner 'data' des 'music_xml_parser' gelegt wurde. Dann muss der Dateiname kopiert werden (in einfache Anführungszeichen). \n",
    "2. Eine Notendatei wird direkt aus dem Internet geladen, indem der URL kopiert wird (in einfache Anführungszeichen): "
   ]
  },
  {
   "cell_type": "code",
   "execution_count": 2,
   "id": "2ce0f2a8",
   "metadata": {},
   "outputs": [],
   "source": [
    "xml_file = 'https://analyse.hfm-weimar.de/database/03/MoWo_K171_COM_1-4_StringQuar_003_00867.xml'"
   ]
  },
  {
   "cell_type": "markdown",
   "id": "a2470047",
   "metadata": {},
   "source": [
    "### 3. Der xml-Parser"
   ]
  },
  {
   "cell_type": "markdown",
   "id": "b6bf8012",
   "metadata": {},
   "source": [
    "Der **xml-Parser** ist ein Python-Modul für die Verarbeitung der MusicXML-Files mit diversen Features, u.a. für den Export und Visualizierung verschiedener statistischer Informationen. Das Grundkonzept des Moduls besteht in der Speicherung der gesamten in der Notendatei vorhandenen Informationen in Form eines [Pandas-Dataframes](https://pandas.pydata.org/pandas-docs/stable/user_guide/dsintro.html#dataframe), welches sehr effiziente Kalkulationen und Datenverwaltung der geparsten Daten ermöglicht. \n",
    "\n",
    "**Parser** verfügt über eine intern festgelegte Datenstruktur, die sich bei der Exktraktion der zip-Datei bereits auf Ihrem Rechner wiederfindet (Ordner *music_xml_parser*). Darin gibt es drei Ordner:\n",
    "\n",
    "1. **core** enthält alle programmrelevanten Python-Scripte. //Bitte nicht verändern!!//\n",
    "\n",
    "2. **data** enthält die Ordner\n",
    "- **xmls_to_parse**. Darin liegen alle xml-Files, die beim Laden direkt (also ohne weitere Pfadangabe) eingelesen werden können. Sie können selbst xml-Dateien in den Ordner legen, oder aber Dateien direkt aus dem Internet einlesen.  \n",
    "- **exports**: Hier liegen alle Dateien, die Sie im Laufe Ihrer Arbeit mit dem Jupyter-Notebooks selbst generiert haben, z.B. Tabellen (.csv) oder Grafiken (.png). \n",
    "\n",
    "3. **ipynb** - enthält alle Jupyter-Notebooks (.ipynb); modifizierte Notebooks sollten ebenfalls hier gespeichert werden. "
   ]
  },
  {
   "cell_type": "markdown",
   "id": "c302c253",
   "metadata": {},
   "source": [
    "Durch den folgenden Befehl wird aus der Notendatei ('xml_file', s. oben) der Pandas-Dataframe mit der Bezeichnung 'm_df' generiert. "
   ]
  },
  {
   "cell_type": "code",
   "execution_count": 3,
   "id": "e0abcf35",
   "metadata": {},
   "outputs": [],
   "source": [
    "m_df = mp.parse.with_xml_file(file=xml_file,\n",
    "                              save_file_name=None,\n",
    "                              do_save=True)\n",
    "\n",
    "# save_file_name = None -> Pandas-Dataframe-Datei wird unter demselben Dateinamen als .csv-Datei gespeichert\n",
    "# do_save will = true -> Pandas-Dataframe-Datei wird im Exports-Ordner gespeichert. "
   ]
  },
  {
   "cell_type": "markdown",
   "id": "40bf92be",
   "metadata": {},
   "source": [
    "Durch den Befehl 'm_df' werden die Daten als Tabelle im Browser dargestellt. \n",
    "\n",
    "ACHTUNG: Bei großen Notendateien benötigt diese Darstellung viel Speicherplatz; der Befehl sollte dann übersprungen werden. Stattdessen können Sie sich die entsprechende csv-Datei (liegt im Exports-Ordner) mit einem Tabellen-Programm anschauen. "
   ]
  },
  {
   "cell_type": "code",
   "execution_count": 7,
   "id": "18ba9d8d",
   "metadata": {},
   "outputs": [],
   "source": [
    "# m_df\n",
    "\n",
    "# Wenn Sie die Raute (#) wird durch den Befehl 'm_df' eine Tabelle \n",
    "# mit dem Pandas-Dataframe angezeigt."
   ]
  },
  {
   "cell_type": "markdown",
   "id": "9f6d9f9f",
   "metadata": {},
   "source": [
    "### 4. Pianorollendarstellung"
   ]
  },
  {
   "cell_type": "markdown",
   "id": "fa72d397",
   "metadata": {},
   "source": [
    "Im folgenden Codefenster aktivieren Sie die Pianorollendarstellung.\n",
    "\n",
    "Dabei gibt es zwei Möglichkeiten: \n",
    "1. Im Browser (\"inline\"): Dies erfordert in Abhängigkeit von der Datengröße viel Speicherplatz. \n",
    "2. Empfohlen: In einem externen Pop-Up-Fenster, d.h. in der Symbolleiste ihres Desktops taucht ein neues Icon auf, das Sie anklicken müssen: Hierzu muss zunächst der Befehal '%matplotlib' aktiviert werden - durch Löschung des #-Zeichens davor. Anschließend werden //alle// Grafiken extern dargestellt. Um sie wieder im Browser darzustellen, muss der Befehl '%matplotlib inline' eingegeben werden. \n",
    "\n",
    "TIPP: Öffnen Sie das externe Fenster (über das Icon in der Desktop-Symbolleiste unten) und navigieren Sie anschließend mit Ihrer Maus in der Grafik; über das Rädchen können Sie die horizontale Ausdehnung der Grafik verändern. Anschließend können Sie die gewählte Darstellung als Bilddatei (.png) abspeichern!"
   ]
  },
  {
   "cell_type": "code",
   "execution_count": null,
   "id": "82fe1f01",
   "metadata": {
    "scrolled": false
   },
   "outputs": [
    {
     "name": "stdout",
     "output_type": "stream",
     "text": [
      "Using matplotlib backend: Qt5Agg\n"
     ]
    }
   ],
   "source": [
    "%matplotlib\n",
    "# Durch diesen Befehl wird auf externes Pop-Up-Fenster umgestellt. \n",
    "# Durch die Aktivierung des folgenden Befehls können Sie bei Bedarf auf die Darstellung im Browser (\"inline\") umstellen.\n",
    "# Ist dies gewünscht, müssen Sie die Raute ('#') vor dem nächsten Befehl löschen: \n",
    "# %matplotlib inline\n",
    "\n",
    "\n",
    "\n",
    "m_df = mp.parse.with_xml_file(file=xml_file, \n",
    "                              plot_pianoroll=True, \n",
    "                              plot_inline_ipynb=False)\n",
    "\n",
    "# Definition der Variable für Pandas-Dataframe (m_df) sowie Beschreibung der verwendeten Parameter, \n",
    "# Angaben in der Regel mit True/False\n",
    "\n",
    "# plot_pianoroll - Piano-Roll als Grafik zeichnen\n",
    "# plot_inline_ipynb - Piano-Roll Als Grafik innnerhalb von Jupyter Notebook (True) oder als extra Fenster (False)\n",
    "\n",
    "# Weitere mögliche Optionen sind:\n",
    "# save_at - Pandas Dataframe in einem bestimmten Ordner als CSV Speichern\n",
    "# save_file_name - Pandas Dataframe unter einem bestimmten Namen als CSV Speichern\n",
    "# do_save - Speichern mit True/False\n",
    "# x_axis_res - Auflösung der X-Achse als Teiler der Viertelnote (2=0.5 Viertelnote)\n",
    "\n",
    "\n",
    "\n",
    "#default settings are listed below\n",
    "\n",
    "#file: str, only file is manditory\n",
    "#plot_pianoroll: bool = False,\n",
    "#plot_inline_ipynb: bool=False,\n",
    "#save_at: str = None,\n",
    "#save_file_name: str = None,\n",
    "#do_save: bool = False,\n",
    "#x_axis_res=2,\n",
    "#get_measure_onset:bool=False, \n",
    "#get_upbeat_info=False,\n",
    "#filter_dict=None"
   ]
  },
  {
   "cell_type": "markdown",
   "id": "9404e0bd",
   "metadata": {},
   "source": [
    "Jede Stimme wird mit einer eigenen Farbe dargestellt. \n",
    "Spielen zwei Stimmen unisono (also dieselben Noten), mischen sich die beiden Farben. \n",
    "\n",
    "Was können Sie auf der Pianorollen-Grafik erkennen?"
   ]
  },
  {
   "cell_type": "markdown",
   "id": "8f44255c",
   "metadata": {},
   "source": [
    "### 5. Auswahl von Stimmen bzw. Takten"
   ]
  },
  {
   "cell_type": "markdown",
   "id": "82adb7f7",
   "metadata": {},
   "source": [
    "Durch den folgenden Befehl können flexibel Stimmen und Takte für grafische Darstellungen oder Abfragen ausgewählt werden. \n",
    "\n",
    "Im folgenden Beispielen werden die ersten beiden Stimmen ('PartID':'1-2') und davon die Takte 2-5 ('Measure':'2-5') für eine Pianorollendarstellung ausgewählt. Die Darstellung erfolgt extern. "
   ]
  },
  {
   "cell_type": "code",
   "execution_count": 5,
   "id": "e167821e",
   "metadata": {
    "scrolled": false
   },
   "outputs": [
    {
     "data": {
      "image/png": "[encoded data removed]",
      "text/plain": [
       "<Figure size 864x432 with 1 Axes>"
      ]
     },
     "metadata": {
      "image/png": {
       "height": 403,
       "width": 738
      },
      "needs_background": "light"
     },
     "output_type": "display_data"
    }
   ],
   "source": [
    "filter_dict_t = { 'Measure':'1-5', 'PartID':'1-2'}\n",
    "\n",
    "m_df_2 = mp.parse.with_xml_file(file=xml_file,\n",
    "                                plot_pianoroll=True,\n",
    "                                plot_inline_ipynb=True,\n",
    "                                filter_dict=filter_dict_t)\n",
    "\n",
    "# Der Einfachheit halber wählen wir bei diesem Ausschnitt die Darstellung im Browser: \n",
    "%matplotlib inline"
   ]
  },
  {
   "cell_type": "markdown",
   "id": "137fa0fc",
   "metadata": {},
   "source": [
    "Bei diesem Ausschnitt sehen Sie, wie zu Beginn die beiden Violinen unisono spielen (Takt 1 und 2, graugrün), dann eigene Stimmen (Takt 3/4) und in Takt 5 wieder unisono. "
   ]
  },
  {
   "cell_type": "markdown",
   "id": "a13c1a3c",
   "metadata": {},
   "source": [
    "### 6. Vertiefung"
   ]
  },
  {
   "cell_type": "markdown",
   "id": "36ecae40",
   "metadata": {},
   "source": [
    "Vergleichen Sie die Pianorollendarstellung von verschiedenen Stimmen der Komposition. Was fällt auf? \n",
    "\n",
    "Generieren Sie Pianorollendarstellungen von anderen Kompositionen und machen Sie sich auf diese Weise mit dem Jupyter-Notebook vertraut. "
   ]
  }
 ],
 "metadata": {
  "kernelspec": {
   "display_name": "Python 3 (ipykernel)",
   "language": "python",
   "name": "python3"
  },
  "language_info": {
   "codemirror_mode": {
    "name": "ipython",
    "version": 3
   },
   "file_extension": ".py",
   "mimetype": "text/x-python",
   "name": "python",
   "nbconvert_exporter": "python",
   "pygments_lexer": "ipython3",
   "version": "3.9.7"
  }
 },
 "nbformat": 4,
 "nbformat_minor": 5
}
