{
 "cells": [
  {
   "cell_type": "markdown",
   "id": "1240fdb3",
   "metadata": {},
   "source": [
    "# Tutorial Advanced Noten: Suche von Intervallfolgen"
   ]
  },
  {
   "cell_type": "markdown",
   "id": "5e4ae2b8",
   "metadata": {},
   "source": [
    "Dieses Tutorial führt in die Suche von Intervallfolgen auf der Grundlage von CAMAT (Computer-Assisted Music Analysis Tool) ein.\n",
    "\n",
    "Das Durcharbeiten und Nachvollziehen des Tutoriums soll es Ihnen ermöglichen, selbst Intervallfolgen in eigenen Musikbeispielen (Notendateien) zu suchen."
   ]
  },
  {
   "cell_type": "code",
   "execution_count": 1,
   "id": "81411172",
   "metadata": {},
   "outputs": [],
   "source": [
    "import sys\n",
    "import os\n",
    "sys.path.append(os.getcwd().replace(os.path.join('music_xml_parser', 'ipynb'), ''))\n",
    "import music_xml_parser as mp\n",
    "from music21 import * \n",
    "import csv\n",
    "from IPython.display import HTML, display\n",
    "import numpy as np\n",
    "import pandas as pd\n",
    "import matplotlib.pyplot as plt\n",
    "\n",
    "# Mit diesen Befehlen wird nicht nur der CAMAT music_xml_parser, \n",
    "# sondern darüber hinaus die Bibliotheken 'numpy' und 'pandas' für statische Auswertungen, \n",
    "# 'music21' sowieund 'matplotlib' für grafische Darstellungen geladen. \n",
    "\n",
    "# Mit den folgenden Befehlen wird die Formtierung für die Tabellen festgelegt, \n",
    "# die weiter unten dargestellt werden - '9999' ist der Maximalwert: \n",
    "\n",
    "pd.set_option('display.max_rows', 9999)\n",
    "pd.set_option('display.max_columns', 9999)\n",
    "pd.set_option('display.width', 9999)\n",
    "    \n",
    "environment.set('autoDownload', 'allow')\n",
    "# Hierdurch wird der Download von xml-Dateien aus dem Internet ermöglicht. "
   ]
  },
  {
   "cell_type": "markdown",
   "id": "615a6d62",
   "metadata": {},
   "source": [
    "Zunächst muss eine Datei geladen werden und mit einem Variablennamen (hier: 'xml_files') bezeichnet werden: "
   ]
  },
  {
   "cell_type": "code",
   "execution_count": 2,
   "id": "4313a542",
   "metadata": {},
   "outputs": [],
   "source": [
    "xml_file = 'https://analyse.hfm-weimar.de/database/03/MoWo_K310_COM_1-3_PianoSonat_003_00953.xml'"
   ]
  },
  {
   "cell_type": "markdown",
   "id": "4de5f37a",
   "metadata": {},
   "source": [
    "Mit dem folgenden Befehl wird eine Suchanfrage generiert und anschließend eine Ergebnisliste angezeigt. \n",
    "Die gesuchte Intervallfolge wird in Halbtonschritten angegeben; die einzelnen Intervallschritte werden durch ein Komma getrennt:\n",
    "\n",
    "    interval=[2, 2]\n",
    "Hier wird nach einer Folge von zwei aufsteigenden großen Sekunden (Ganztönen) gesucht. \n",
    "\n",
    "    interval=[3, -1]\n",
    "Hier: kleine Terz aufwärts gefolgt von kleiner Sekunde (Halbton) abwärts. \n",
    "\n",
    "    return_details=False\n",
    "    return_details=True\n",
    "Bei 'False' werden nur die Häufigkeiten der gesuchten Intervallfolge bezogen auf verschiedene Anfangstöne angezeigt\n",
    "Bei 'True' wird das genaue Vorkommen angezeigt: in welcher Stimme, mit welchem Anfangston (-1 = b-Vorzeichen, 1 = #-Vorzeichen, 0 = Auflösungszeichen), in welchem Takt und bei welcher Zählzeit. "
   ]
  },
  {
   "cell_type": "code",
   "execution_count": 3,
   "id": "4ef33839",
   "metadata": {},
   "outputs": [
    {
     "name": "stdout",
     "output_type": "stream",
     "text": [
      "Downloading file:MoWo_K310_COM_1-3_PianoSonat_003_00953.xml\n",
      ">>> MoWo_K310_COM_1-3_PianoSonat_003_00953.xml downloaded!\n",
      "\n",
      "File at:  /Users/chris/DocumentLocal/workspace/hfm/scripts_in_progress/xml_parser/music_xml_parser/data/xmls_to_parse/hfm_database/MoWo_K310_COM_1-3_PianoSonat_003_00953.xml\n"
     ]
    },
    {
     "data": {
      "text/html": [
       "<div>\n",
       "<style scoped>\n",
       "    .dataframe tbody tr th:only-of-type {\n",
       "        vertical-align: middle;\n",
       "    }\n",
       "\n",
       "    .dataframe tbody tr th {\n",
       "        vertical-align: top;\n",
       "    }\n",
       "\n",
       "    .dataframe thead th {\n",
       "        text-align: right;\n",
       "    }\n",
       "</style>\n",
       "<table border=\"1\" class=\"dataframe\">\n",
       "  <thead>\n",
       "    <tr style=\"text-align: right;\">\n",
       "      <th></th>\n",
       "      <th>Pitch</th>\n",
       "      <th>Occurance</th>\n",
       "    </tr>\n",
       "  </thead>\n",
       "  <tbody>\n",
       "    <tr>\n",
       "      <th>0</th>\n",
       "      <td>A</td>\n",
       "      <td>7</td>\n",
       "    </tr>\n",
       "    <tr>\n",
       "      <th>1</th>\n",
       "      <td>F1</td>\n",
       "      <td>2</td>\n",
       "    </tr>\n",
       "    <tr>\n",
       "      <th>2</th>\n",
       "      <td>D</td>\n",
       "      <td>15</td>\n",
       "    </tr>\n",
       "    <tr>\n",
       "      <th>3</th>\n",
       "      <td>G</td>\n",
       "      <td>11</td>\n",
       "    </tr>\n",
       "    <tr>\n",
       "      <th>4</th>\n",
       "      <td>C</td>\n",
       "      <td>1</td>\n",
       "    </tr>\n",
       "  </tbody>\n",
       "</table>\n",
       "</div>"
      ],
      "text/plain": [
       "  Pitch Occurance\n",
       "0     A         7\n",
       "1    F1         2\n",
       "2     D        15\n",
       "3     G        11\n",
       "4     C         1"
      ]
     },
     "execution_count": 3,
     "metadata": {},
     "output_type": "execute_result"
    }
   ],
   "source": [
    "results_01 = mp.core.search.simple_interval_search(xml_file,\n",
    "                                                   interval=[2, 2],\n",
    "                                                   return_details=False)\n",
    "\n",
    "results_01"
   ]
  },
  {
   "cell_type": "markdown",
   "id": "3bdb1584",
   "metadata": {},
   "source": [
    "Hier eine andere Suchanfrage - diesmal mit Details:"
   ]
  },
  {
   "cell_type": "code",
   "execution_count": 4,
   "id": "95703727",
   "metadata": {},
   "outputs": [
    {
     "name": "stdout",
     "output_type": "stream",
     "text": [
      "File at:  /Users/chris/DocumentLocal/workspace/hfm/scripts_in_progress/xml_parser/music_xml_parser/data/xmls_to_parse/hfm_database/MoWo_K310_COM_1-3_PianoSonat_003_00953.xml\n"
     ]
    },
    {
     "data": {
      "text/html": [
       "<div>\n",
       "<style scoped>\n",
       "    .dataframe tbody tr th:only-of-type {\n",
       "        vertical-align: middle;\n",
       "    }\n",
       "\n",
       "    .dataframe tbody tr th {\n",
       "        vertical-align: top;\n",
       "    }\n",
       "\n",
       "    .dataframe thead th {\n",
       "        text-align: right;\n",
       "    }\n",
       "</style>\n",
       "<table border=\"1\" class=\"dataframe\">\n",
       "  <thead>\n",
       "    <tr style=\"text-align: right;\">\n",
       "      <th></th>\n",
       "      <th>Pitch</th>\n",
       "      <th>MIDI</th>\n",
       "      <th>PartName</th>\n",
       "      <th>PartID</th>\n",
       "      <th>Measure</th>\n",
       "      <th>Onset</th>\n",
       "    </tr>\n",
       "  </thead>\n",
       "  <tbody>\n",
       "    <tr>\n",
       "      <th>0</th>\n",
       "      <td>C</td>\n",
       "      <td>72.0</td>\n",
       "      <td>None</td>\n",
       "      <td>1</td>\n",
       "      <td>5</td>\n",
       "      <td>18.5</td>\n",
       "    </tr>\n",
       "    <tr>\n",
       "      <th>1</th>\n",
       "      <td>C</td>\n",
       "      <td>72.0</td>\n",
       "      <td>None</td>\n",
       "      <td>1</td>\n",
       "      <td>6</td>\n",
       "      <td>23.0</td>\n",
       "    </tr>\n",
       "    <tr>\n",
       "      <th>2</th>\n",
       "      <td>C</td>\n",
       "      <td>72.0</td>\n",
       "      <td>None</td>\n",
       "      <td>1</td>\n",
       "      <td>25</td>\n",
       "      <td>96.75</td>\n",
       "    </tr>\n",
       "    <tr>\n",
       "      <th>3</th>\n",
       "      <td>C</td>\n",
       "      <td>72.0</td>\n",
       "      <td>None</td>\n",
       "      <td>1</td>\n",
       "      <td>25</td>\n",
       "      <td>97.75</td>\n",
       "    </tr>\n",
       "    <tr>\n",
       "      <th>4</th>\n",
       "      <td>C</td>\n",
       "      <td>72.0</td>\n",
       "      <td>None</td>\n",
       "      <td>1</td>\n",
       "      <td>84</td>\n",
       "      <td>334.5</td>\n",
       "    </tr>\n",
       "    <tr>\n",
       "      <th>5</th>\n",
       "      <td>C</td>\n",
       "      <td>72.0</td>\n",
       "      <td>None</td>\n",
       "      <td>1</td>\n",
       "      <td>85</td>\n",
       "      <td>339.0</td>\n",
       "    </tr>\n",
       "    <tr>\n",
       "      <th>6</th>\n",
       "      <td>F</td>\n",
       "      <td>77.0</td>\n",
       "      <td>None</td>\n",
       "      <td>1</td>\n",
       "      <td>110</td>\n",
       "      <td>436.0</td>\n",
       "    </tr>\n",
       "    <tr>\n",
       "      <th>7</th>\n",
       "      <td>F</td>\n",
       "      <td>41.0</td>\n",
       "      <td>None</td>\n",
       "      <td>2</td>\n",
       "      <td>43</td>\n",
       "      <td>171.75</td>\n",
       "    </tr>\n",
       "    <tr>\n",
       "      <th>8</th>\n",
       "      <td>F</td>\n",
       "      <td>65.0</td>\n",
       "      <td>None</td>\n",
       "      <td>2</td>\n",
       "      <td>70</td>\n",
       "      <td>277.0</td>\n",
       "    </tr>\n",
       "  </tbody>\n",
       "</table>\n",
       "</div>"
      ],
      "text/plain": [
       "  Pitch  MIDI PartName PartID Measure   Onset\n",
       "0     C  72.0     None      1       5    18.5\n",
       "1     C  72.0     None      1       6    23.0\n",
       "2     C  72.0     None      1      25   96.75\n",
       "3     C  72.0     None      1      25   97.75\n",
       "4     C  72.0     None      1      84   334.5\n",
       "5     C  72.0     None      1      85   339.0\n",
       "6     F  77.0     None      1     110   436.0\n",
       "7     F  41.0     None      2      43  171.75\n",
       "8     F  65.0     None      2      70   277.0"
      ]
     },
     "execution_count": 4,
     "metadata": {},
     "output_type": "execute_result"
    }
   ],
   "source": [
    "results_02 = mp.core.search.simple_interval_search(xml_file, \n",
    "                                                   interval=[3, -1],\n",
    "                                                   return_details=True)\n",
    "results_02"
   ]
  },
  {
   "cell_type": "code",
   "execution_count": 5,
   "id": "a4f2260d",
   "metadata": {},
   "outputs": [
    {
     "ename": "NameError",
     "evalue": "name 'xml_files' is not defined",
     "output_type": "error",
     "traceback": [
      "\u001b[0;31m---------------------------------------------------------------------------\u001b[0m",
      "\u001b[0;31mNameError\u001b[0m                                 Traceback (most recent call last)",
      "\u001b[0;32m<ipython-input-5-253c0fbd8d67>\u001b[0m in \u001b[0;36m<module>\u001b[0;34m\u001b[0m\n\u001b[0;32m----> 1\u001b[0;31m \u001b[0mresults_02\u001b[0m \u001b[0;34m=\u001b[0m \u001b[0mmp\u001b[0m\u001b[0;34m.\u001b[0m\u001b[0mcore\u001b[0m\u001b[0;34m.\u001b[0m\u001b[0msearch\u001b[0m\u001b[0;34m.\u001b[0m\u001b[0msimple_interval_search\u001b[0m\u001b[0;34m(\u001b[0m\u001b[0mxml_files\u001b[0m\u001b[0;34m,\u001b[0m \u001b[0minterval\u001b[0m\u001b[0;34m=\u001b[0m\u001b[0;34m[\u001b[0m\u001b[0;36m2\u001b[0m\u001b[0;34m,\u001b[0m \u001b[0;36m2\u001b[0m\u001b[0;34m,\u001b[0m \u001b[0;36m1\u001b[0m\u001b[0;34m]\u001b[0m\u001b[0;34m,\u001b[0m\u001b[0mreturn_details\u001b[0m\u001b[0;34m=\u001b[0m\u001b[0;32mTrue\u001b[0m\u001b[0;34m)\u001b[0m\u001b[0;34m\u001b[0m\u001b[0;34m\u001b[0m\u001b[0m\n\u001b[0m\u001b[1;32m      2\u001b[0m \u001b[0mresults_02\u001b[0m\u001b[0;34m\u001b[0m\u001b[0;34m\u001b[0m\u001b[0m\n\u001b[1;32m      3\u001b[0m \u001b[0mprint\u001b[0m\u001b[0;34m(\u001b[0m\u001b[0mresults_02\u001b[0m\u001b[0;34m)\u001b[0m\u001b[0;34m\u001b[0m\u001b[0;34m\u001b[0m\u001b[0m\n\u001b[1;32m      4\u001b[0m \u001b[0;34m\u001b[0m\u001b[0m\n\u001b[1;32m      5\u001b[0m mp.utils.display_table(data=results_02, \n",
      "\u001b[0;31mNameError\u001b[0m: name 'xml_files' is not defined"
     ]
    }
   ],
   "source": [
    "results_02 = mp.core.search.simple_interval_search(xml_files, interval=[2, 2, 1],return_details=True)\n",
    "results_02\n",
    "print(results_02)\n",
    "\n",
    "mp.utils.display_table(data=results_02, \n",
    "                       columns=['Anfangston', 'Midi', 'Stimme', 'PartID', 'Takt', 'Ton'])"
   ]
  },
  {
   "cell_type": "code",
   "execution_count": null,
   "id": "80263eb1",
   "metadata": {},
   "outputs": [],
   "source": []
  }
 ],
 "metadata": {
  "kernelspec": {
   "display_name": "Python 3",
   "language": "python",
   "name": "python3"
  },
  "language_info": {
   "codemirror_mode": {
    "name": "ipython",
    "version": 3
   },
   "file_extension": ".py",
   "mimetype": "text/x-python",
   "name": "python",
   "nbconvert_exporter": "python",
   "pygments_lexer": "ipython3",
   "version": "3.9.4"
  }
 },
 "nbformat": 4,
 "nbformat_minor": 5
}
