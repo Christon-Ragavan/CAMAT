{
 "cells": [
  {
   "cell_type": "markdown",
   "id": "f927a7f5",
   "metadata": {},
   "source": [
    "# Tutorial Basics Noten Part 1: Einführung und Visualisierung"
   ]
  },
  {
   "cell_type": "markdown",
   "id": "be93175e",
   "metadata": {},
   "source": [
    "Inhaltsverzeichnis: \n",
    "1. Jupyter-Notebook: Grundlegende Funktionen\n",
    "2. Laden von Notendateien (MusicXML)\n",
    "3. Exkurs: Der xml-Parser und das Pandas-Dataframe\n",
    "4. Pianorollen-Visualisierung\n",
    "5. Auswahl von Stimmen bzw. Takten\n",
    "6. Aufgaben"
   ]
  },
  {
   "cell_type": "markdown",
   "id": "d01bea6f",
   "metadata": {},
   "source": [
    "Dieses Tutorial führt in den Aufbau und die Funktionsweise eines Jupyter-Notebooks ein und zeigt Ihnen, wie Sie CAMAT (Computer-Assisted Music Analysis Tool) für die Visualisierung und Analyse von Notendaten nutzen können.\n",
    "\n",
    "Auf dieser Grundlage präsentiert Ihnen das Tutorial Part 2 Möglichkeiten einfacher statistischer Abfragen. "
   ]
  },
  {
   "cell_type": "markdown",
   "id": "b229e1de",
   "metadata": {},
   "source": [
    "### 1. Jupyter-Notebook: Grundlegende Funktionen"
   ]
  },
  {
   "cell_type": "markdown",
   "id": "350214be",
   "metadata": {},
   "source": [
    "Ein Jupyter-Notebook ist eine Datei, die im Browser geöffnet und bearbeitet werden kann. Jedes Jupyter-Notebook besteht aus einer Folge von Textblöcken (Markdown Cells) und Blöcken mit Python-Code (Code Cells). Beide Blöcke können von jedem User verändert und bearbeitet werden. Indem innerhalb eines Blocks die Eingabetaste gedrückt wird, kann Text oder Code geändert, hinzugefügt oder gelöscht werden. \n",
    "Eigene, veränderte Versionen des Notebooks können unter neuem Namen abgespeichert werden (Menu: File -> Save as...). \n",
    "\n",
    "WICHTIG: Die Befehle jeder einzelnen Code cell werden mit dem Run-Button ausgeführt. Während der Ausführung (die bei manchen Befehlen einige Sekunden dauern kann) wird oben auf dem Tab ein Sanduhr-Symbol angezeigt. Anschließend werden ggf. Ergebnisse (oder Fehlermeldungen) angezeigt und der Cursor springt zur nächsten Box. \n",
    "Gehen Sie bitte die Tutorials jeweils Code Cell für Code Cell durch, aktivieren Sie den jeweiligen Code jeweils mit dem Run-Button und warten Sie ab, was geschieht!\n",
    "\n",
    "In den Code Cells werden alle Zeilen hinter einem Rautezeicheen (#) nicht ausgeführt; dies bietet die Möglichkeit, entweder Erläuterungen zum Code in den Code cells zu vermerken oder zusätzliche deaktivierte Befehle zu notieren, die durch Löschen der Raute (und anschließendem Run) ausgeführt werden. "
   ]
  },
  {
   "cell_type": "code",
   "execution_count": 1,
   "id": "a9a1d6ff",
   "metadata": {},
   "outputs": [
    {
     "data": {
      "text/plain": [
       "148"
      ]
     },
     "execution_count": 1,
     "metadata": {},
     "output_type": "execute_result"
    }
   ],
   "source": [
    "# Mit den Befehlen können Sie selbstverständlich auch rechnen. \n",
    " \n",
    "21 * 7 + 1 \n",
    "# Drücken Sie bitte auf 'Run'!\n",
    "\n",
    "# Verändern Sie nun den Rechenbefehl.\n",
    "# Drücken Sie dann wieder auf 'Run'!"
   ]
  },
  {
   "cell_type": "markdown",
   "id": "1e03631d",
   "metadata": {},
   "source": [
    "Eine neue Cell wird mit dem +-Button oder den Menu-Punkt Insert erzeugt und kann dann im Menu als Markdown oder Code Cell festgelegt werden. Hier können Sie Ihre eigenen Kommentare oder Befehle vermerken. (Und bitte nicht vergessen, das Notebook zuvor unter neuem Namen abzuspeichern!).  \n",
    "\n",
    "Parallel zum Notebook läuft ein Command-Fenster (\"Anaconda Prompt\"), das Sie nicht weiter beachten müssen - das Sie aber bitte auch nicht schließen dürfen! Beenden Sie ein Notebook bitte mit dem Menu-Befehl \"File\" -> \"Close and Halt\", loggen Sie sich dann aus und schließen Sie erst zum Schluss das Command-Fenster. "
   ]
  },
  {
   "cell_type": "markdown",
   "id": "8073270f",
   "metadata": {},
   "source": [
    "Jeder Start eines Jupyter Notebooks beginnt mit dem Import der erforderlichen Python-Bibliotheken:  "
   ]
  },
  {
   "cell_type": "code",
   "execution_count": 2,
   "id": "80714c6a",
   "metadata": {},
   "outputs": [],
   "source": [
    "import sys\n",
    "import os\n",
    "sys.path.append(os.getcwd().replace(os.path.join('music_xml_parser', 'ipynb'), ''))\n",
    "\n",
    "import music_xml_parser as mp\n",
    "from music21 import * \n",
    "import csv\n",
    "from IPython.display import HTML, display\n",
    "import numpy as np\n",
    "import pandas as pd\n",
    "import matplotlib.pyplot as plt\n",
    "\n",
    "# Mit diesen Befehlen wird der Kern von CAMAT, der 'music_xml_parser', \n",
    "# aber u.a. auch die python-Bibliotheken 'numpy' und 'pandas' für statische Auswertungen, \n",
    "# 'matplotlib' für grafische Darstellungen, \n",
    "# 'csv' für den Tabellenexport geladen \n",
    "# sowie 'music21' geladen.\n",
    "\n",
    "# Durch den folgenden Befehl wird der Download von URLs aus dem Internet erlaubt: \n",
    "environment.set('autoDownload', 'allow')"
   ]
  },
  {
   "cell_type": "markdown",
   "id": "2973bb49",
   "metadata": {},
   "source": [
    "### 2. Laden von Notendateien (MusicXML)"
   ]
  },
  {
   "cell_type": "markdown",
   "id": "3354c732",
   "metadata": {},
   "source": [
    "Als nächstes wird eine Notendatei im MusicXML-Format (kurz: xml) geladen und mit dem Namen 'xml_file' versehen. Dabei gibt es zwei Möglichkeiten: \n",
    "1. Eine Notendatei wird von der lokalen Festplatte geladen, der zuvor in den Ordner 'data/xmls_to_parse' des 'music_xml_parser' gelegt wurde. Dann muss der Dateiname eingegeben werden (in einfachen Anführungszeichen). \n",
    "2. Eine Notendatei wird direkt aus dem Internet geladen, indem der URL eingegeben wird (in einfachen Anführungszeichen). \n",
    "\n",
    "Im folgenden Beispiel laden wir den ersten Satz (Adagio) aus dem Streichquartett No. 11 in Es-Dur - Adagio, Köchelverzeichnis 171 von Wolfgang Amadeus Mozart aus der Projektdatenbank (vgl. https://analyse.hfm-weimar.de/doku.php?id=mowo  bzw. https://analyse.hfm-weimar.de/doku.php?id=notenauswahl#mozart_wolfgang_amadeus_1756-1791), in dem wir den Link zur xml-Datei mit einem Rechtsklick und \"Link-Adresse kopieren\" übernehmen. \n",
    "\n",
    "Anschließend wird ein sog. Pandas-Dataframe (s. Abschnitt 3) der xml-Datei generiert, das als eine Art interne Datenbank allen weiteren Auswertungen als Datengrundlage dient. "
   ]
  },
  {
   "cell_type": "markdown",
   "id": "a2470047",
   "metadata": {},
   "source": [
    "### 3. Exkurs: Der xml-Parser und das Pandas-Dataframe"
   ]
  },
  {
   "cell_type": "markdown",
   "id": "b6bf8012",
   "metadata": {},
   "source": [
    "Der **xml-Parser** ist ein im Rahmen des Fellowship-Projekt entwickeltes Python-Modul für die Verarbeitung einer MusicXML-Datei und dient u.a. der Visualizierung und statistischen Auswertung der in der Datei enthaltenen Informationen. Das Grundkonzept des Moduls besteht in der Speicherung der gesamten in der Notendatei vorhandenen Informationen in Form eines [Pandas-Dataframes](https://pandas.pydata.org/pandas-docs/stable/user_guide/dsintro.html#dataframe), welches sehr effiziente Kalkulationen und Datenverwaltung der eingelesen Daten ermöglicht. \n",
    "\n",
    "**xml-Parser** (von engl. to parse: zerlegen, analysieren) verfügt über eine intern festgelegte Datenstruktur, die sich nach der Exktraktion der zip-Datei bereits auf Ihrem Rechner wiederfindet (Ordner *music_xml_parser*). Darin gibt es drei Ordner:\n",
    "\n",
    "1. **core** enthält alle programmrelevanten Python-Scripte. //Bitte nicht verändern!!//\n",
    "\n",
    "2. **data** enthält die Ordner\n",
    "- **xmls_to_parse**. Darin liegen alle xml-Files, die beim Laden direkt (also ohne weitere Pfadangabe) eingelesen werden können. Sie können selbst xml-Dateien in den Ordner legen, oder aber Dateien direkt aus dem Internet einlesen.  \n",
    "- **exports**: Hier liegen alle Dateien, die Sie im Laufe Ihrer Arbeit mit dem Jupyter-Notebooks selbst generiert haben, z.B. Tabellen (.csv) oder Grafiken (.png). \n",
    "\n",
    "3. **ipynb** - enthält alle Jupyter-Notebooks (.ipynb); modifizierte Notebooks sollten ebenfalls hier gespeichert werden, gerne auch in Unterordnern. "
   ]
  },
  {
   "cell_type": "markdown",
   "id": "40bf92be",
   "metadata": {},
   "source": [
    "Nachdem Sie durch den letzten Befehl ein Dataframe 'm_df' Ihrer Notendatei erzeugt haben, können Sie sich die Daten anschauen, indem Sie im **exports**-Ordner die dort gespeicherte Datei m_df.csv öffnen (mit Excel oder einem Texteditor) - vorausgesetzt, Sie haben 'do_save=True' gewählt. \n",
    "\n",
    "Sie können die Daten auch als Tabelle im Browser ausgeben. Dazu aktivieren Sie bitte den folgenden Befehl, indem Sie die Raute (#) davor löschen und anschließend auf 'Run' drücken. \n",
    "\n",
    "ACHTUNG: Bei großen Notendateien benötigt diese Darstellung viel Speicherplatz; der Befehl sollte dann übersprungen werden. "
   ]
  },
  {
   "cell_type": "code",
   "execution_count": 3,
   "id": "18ba9d8d",
   "metadata": {},
   "outputs": [],
   "source": [
    "# m_df\n",
    "\n",
    "# Wenn Sie die Raute (#) löschen und auf Run drücken, \n",
    "# wird der Befehl 'm_df' ausgeführt und eine Tabelle \n",
    "# mit dem Pandas-Dataframe angezeigt."
   ]
  },
  {
   "cell_type": "markdown",
   "id": "9f6d9f9f",
   "metadata": {},
   "source": [
    "### 4. Pianorollen-Visualisierung"
   ]
  },
  {
   "cell_type": "markdown",
   "id": "fa72d397",
   "metadata": {},
   "source": [
    "Im folgenden Codefenster aktivieren Sie die Pianorollen-Visualisierung der Notendatei.\n",
    "\n",
    "Dabei gibt es zwei Möglichkeiten: \n",
    "1. Im Browser ('inline'): Dies erfordert in Abhängigkeit von der Datengröße viel Speicherplatz und zwingt Ihren Rechner unter Umständen 'in die Knie'! \n",
    "2. In einem externen Pop-Up-Fenster des Python-Moduls 'matplotlib': In der Symbolleiste ihres Desktops taucht dann ein neues Icon auf, das Sie anklicken müssen. Sie können dann  Sie anschließend mit Ihrer Mouse in der Grafik navigieren, Ausschnitte auswählen, Vergrößerungen einstellen etc. Mit dem Mouse-Rädchen können Sie die horizontale Ausdehnung der Grafik verändern. Anschließend können Sie die gewählte Darstellung als Bilddatei (.png) abspeichern!"
   ]
  },
  {
   "cell_type": "code",
   "execution_count": 4,
   "id": "82fe1f01",
   "metadata": {
    "scrolled": false
   },
   "outputs": [
    {
     "name": "stdout",
     "output_type": "stream",
     "text": [
      "Using matplotlib backend: MacOSX\n"
     ]
    }
   ],
   "source": [
    "%matplotlib\n",
    "# Durch diesen Befehl wird die externe Darstellung gewählt. \n",
    "xml_file = 'https://analyse.hfm-weimar.de/database/03/MoWo_K171_COM_1-4_StringQuar_003_00867.xml'\n",
    "\n",
    "\n",
    "m_df = mp.parse.with_xml_file(file=xml_file, \n",
    "                              plot_pianoroll=True, \n",
    "                              plot_inline_ipynb=False)\n",
    "\n",
    "# Zu den Parametern:\n",
    "# 1. file= -> hier können Sie auch andere Variablennamen einfügen, \n",
    "# unter denen Sie Notendateien geladen haben (vgl. oben)\n",
    "# Voreinstellung: xml_file\n",
    "\n",
    "# 2. plot_pianoroll=True -> eine Pianorollendarstellung wird erzeugt. \n",
    "# bei plot_pianoroll=True wird darauf verzichtet. \n",
    "\n",
    "# 3. plot_inline_ipynb=False -> die Pianorolle wird im externen Fenster angezeigt. \n",
    "# bei plot_inline_ipynb=True wird im Browser dargestellt. \n",
    "\n",
    "# Alternative Möglichkeit der Auswahl externe/interne Darstellung:\n",
    "# Durch die Aktivierung des Befehls '# %matplotlib'\n",
    "# (s. oben, Aktivierung = '#'-Zeichen davor löschen)\n",
    "# wird die Anzeige auf ein externes Pop-Up-Fenster umgestellt. \n",
    "# Davon sind auch alle folgenden Grafiken betroffen!\n",
    "# Wollen Sie auf die Darstellung im Browser zurückschalten, \n",
    "# müssen Sie die Raute ('#') vor dem nächsten Befehl löschen:\n",
    "\n",
    "# %matplotlib inline\n",
    "\n",
    "# Sie können bei Bedarf weitere Einstellungen. \n",
    "# Hier eine Liste aller verfügbarer Einstellungen mit den jeweiligen Standardeinstellungen\n",
    "# Dabei ist jeweils vermerkt, ob ein String (Zeichenfolge) \n",
    "# oder ein Wert (bool: True oder False) eingegeben werden muss:\n",
    "\n",
    "#file: str, (string value, is mandatory)\n",
    "#plot_pianoroll: bool = False,\n",
    "#plot_inline_ipynb: bool=False,\n",
    "#save_at: str = None,\n",
    "#save_file_name: str = None,\n",
    "#do_save: bool = False,\n",
    "#x_axis_res=2, - Auflösung der X-Achse als Teiler der Viertelnote (2=0.5 Viertelnote)\n",
    "#get_measure_onset:bool=False, \n",
    "#get_upbeat_info=False,\n",
    "#filter_dict=None"
   ]
  },
  {
   "cell_type": "markdown",
   "id": "9404e0bd",
   "metadata": {},
   "source": [
    "Jede Stimme wird mit einer eigenen Farbe dargestellt. \n",
    "Spielen zwei Stimmen unisono (also dieselben Noten), mischen sich die beiden Farben. \n",
    "\n",
    "Öffnen Sie nun bitte die Notendatei: Speichern Sie die Datei zunächst auf Ihrer Festplatte (in der Notendatenbank: Rechtsklick auf den Link -> 'Ziel speichern unter'), öffnen Sie Ihren Noteneditor (z.B. MuseScore) und laden Sie die Datei. \n",
    "\n",
    "Vergleichen Sie nun die Notendarstellung mit der Pianorollendarstellung. \n",
    "Wo unterscheiden sich die beiden Darstellungen?\n",
    "Was können Sie auf der Pianorollen-Grafik erkennen?\n",
    "Wo liegen die Vorteile der Pianorolle gegenüber dem Notentext? Welche Nachteile gibt es?\n"
   ]
  },
  {
   "cell_type": "markdown",
   "id": "8f44255c",
   "metadata": {},
   "source": [
    "### 5. Auswahl von Stimmen bzw. Takten"
   ]
  },
  {
   "cell_type": "markdown",
   "id": "82adb7f7",
   "metadata": {},
   "source": [
    "Durch den folgenden Befehl können flexibel Stimmen und Takte ausgewählt werden - für grafische Darstellungen oder statistische Abfragen. "
   ]
  },
  {
   "cell_type": "code",
   "execution_count": 5,
   "id": "e167821e",
   "metadata": {
    "scrolled": false
   },
   "outputs": [],
   "source": [
    "# Zunächst wird ein Filter mit dem Namen 'filter_dict_t' definiert. \n",
    "# Dabei können bestimmte Stimmen ('PartID') und bestimmte Takte ('Measures') ausgewählt werden.\n",
    "# Im folgenden Beispiel werden die ersten beiden Stimmen und die ersten 5 Takte ausgewählt: \n",
    "\n",
    "filter_dict_t = {'Measure':'1-5', 'PartID':'1-2'}\n",
    "\n",
    "# Anschließend wird dem Pianorollenbefehl (s. oben) der Filter als weiterer Parameter hinzugefügt:\n",
    "# filter_dict=filter_dict_t\n",
    "\n",
    "m_df_2 = mp.parse.with_xml_file(file=xml_file,\n",
    "                                plot_pianoroll=True,\n",
    "                                plot_inline_ipynb=True,\n",
    "                                filter_dict=filter_dict_t)\n",
    "\n",
    "# Sie können die Auswahl beliebig verändern!!\n",
    "# Sie können anderen Filtern andere Filternamen geben, \n",
    "# müssen dann aber den neuen Filter in die letzte Zeile einfügen: \n",
    "# filter_dict= [Name]"
   ]
  },
  {
   "cell_type": "markdown",
   "id": "137fa0fc",
   "metadata": {},
   "source": [
    "Bei diesem Ausschnitt sehen Sie, wie zu Beginn die beiden Violinen unisono spielen (Takt 1 und 2, graugrün), dann eigene Stimmen (Takt 3/4) und in Takt 5 wieder unisono. "
   ]
  },
  {
   "cell_type": "markdown",
   "id": "db86f2ec",
   "metadata": {},
   "source": [
    "**Aufgaben**: \n",
    "Wählen Sie anhand der Partitur verschiedene Abschnitte der Komposition, schreiben Sie entsprechende Filter und visualisieren Sie die Abschnitte mit eigenen Pianorollen-Darstellungen. \n",
    "Vergleichen Sie den Verlauf der vier Stimmen, indem Sie für jede Stimme eine eigene Pianorollen-Darstellung generieren. \n",
    "Vergleichen "
   ]
  },
  {
   "cell_type": "markdown",
   "id": "a13c1a3c",
   "metadata": {},
   "source": [
    "### 6. Vertiefung"
   ]
  },
  {
   "cell_type": "markdown",
   "id": "36ecae40",
   "metadata": {},
   "source": [
    "Generieren Sie Pianorollendarstellungen von anderen Kompositionen und machen Sie sich auf diese Weise mit dem Jupyter-Notebook vertraut. "
   ]
  }
 ],
 "metadata": {
  "kernelspec": {
   "display_name": "Python 3 (ipykernel)",
   "language": "python",
   "name": "python3"
  },
  "language_info": {
   "codemirror_mode": {
    "name": "ipython",
    "version": 3
   },
   "file_extension": ".py",
   "mimetype": "text/x-python",
   "name": "python",
   "nbconvert_exporter": "python",
   "pygments_lexer": "ipython3",
   "version": "3.8.11"
  }
 },
 "nbformat": 4,
 "nbformat_minor": 5
}
