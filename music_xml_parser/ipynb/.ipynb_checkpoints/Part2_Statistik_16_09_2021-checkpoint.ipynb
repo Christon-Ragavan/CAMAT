{
 "cells": [
  {
   "cell_type": "markdown",
   "id": "f927a7f5",
   "metadata": {},
   "source": [
    "# Tutorial Basics Noten Part 2: Statistik"
   ]
  },
  {
   "cell_type": "markdown",
   "id": "be93175e",
   "metadata": {},
   "source": [
    "Inhaltsverzeichnis: \n",
    "1. Abfrage von einfachen statistischen Angaben\n",
    "2. Häufigkeiten: Tonhöhen, Tonhöhenklassen, Tondauern, metrische Akzente, Intervalle\n",
    "3. Zweidimensionale Häufigkeitsverteilungen\n",
    "4. Aufgaben"
   ]
  },
  {
   "cell_type": "markdown",
   "id": "d01bea6f",
   "metadata": {},
   "source": [
    "In diesem Tutorial werden Sie anhand von Notenbeispielen einfache computergestützten Möglichkeiten statistischer Abfragen auf der Grundlage von CAMAT kennenlernen. \n",
    "\n",
    "Das Durcharbeiten und Nachvollziehen des Tutoriums soll es Ihnen ermöglichen, mit den vorgestellten computergestützten Methoden eigene Musikbeispiele (Notendateien) zu untersuchen und Vergleiche zwischen verschiedenen Musikstücken durchzuführen. \n",
    "Dabei geht es immer auch um die Formulierung bestimmter analytischer Fragestellungen und die Interpretation der jeweiligen Ergebnisse."
   ]
  },
  {
   "cell_type": "markdown",
   "id": "977b0416",
   "metadata": {},
   "source": [
    "Jeder Start eines Jupyter Notebooks beginnt mit dem Import einer Reihe von Python-Bibliotheken, die für die Analyse erforderlich sind:  "
   ]
  },
  {
   "cell_type": "code",
   "execution_count": 1,
   "id": "80714c6a",
   "metadata": {},
   "outputs": [
    {
     "ename": "ModuleNotFoundError",
     "evalue": "No module named 'parser_utils'",
     "output_type": "error",
     "traceback": [
      "\u001b[0;31m---------------------------------------------------------------------------\u001b[0m",
      "\u001b[0;31mImportError\u001b[0m                               Traceback (most recent call last)",
      "\u001b[0;32m~/miniforge3/envs/hfm_1.1.2_pip2/lib/python3.9/site-packages/numpy/core/__init__.py\u001b[0m in \u001b[0;36m<module>\u001b[0;34m\u001b[0m\n\u001b[1;32m     21\u001b[0m \u001b[0;32mtry\u001b[0m\u001b[0;34m:\u001b[0m\u001b[0;34m\u001b[0m\u001b[0;34m\u001b[0m\u001b[0m\n\u001b[0;32m---> 22\u001b[0;31m     \u001b[0;32mfrom\u001b[0m \u001b[0;34m.\u001b[0m \u001b[0;32mimport\u001b[0m \u001b[0mmultiarray\u001b[0m\u001b[0;34m\u001b[0m\u001b[0;34m\u001b[0m\u001b[0m\n\u001b[0m\u001b[1;32m     23\u001b[0m \u001b[0;32mexcept\u001b[0m \u001b[0mImportError\u001b[0m \u001b[0;32mas\u001b[0m \u001b[0mexc\u001b[0m\u001b[0;34m:\u001b[0m\u001b[0;34m\u001b[0m\u001b[0;34m\u001b[0m\u001b[0m\n",
      "\u001b[0;32m~/miniforge3/envs/hfm_1.1.2_pip2/lib/python3.9/site-packages/numpy/core/multiarray.py\u001b[0m in \u001b[0;36m<module>\u001b[0;34m\u001b[0m\n\u001b[1;32m     11\u001b[0m \u001b[0;34m\u001b[0m\u001b[0m\n\u001b[0;32m---> 12\u001b[0;31m \u001b[0;32mfrom\u001b[0m \u001b[0;34m.\u001b[0m \u001b[0;32mimport\u001b[0m \u001b[0moverrides\u001b[0m\u001b[0;34m\u001b[0m\u001b[0;34m\u001b[0m\u001b[0m\n\u001b[0m\u001b[1;32m     13\u001b[0m \u001b[0;32mfrom\u001b[0m \u001b[0;34m.\u001b[0m \u001b[0;32mimport\u001b[0m \u001b[0m_multiarray_umath\u001b[0m\u001b[0;34m\u001b[0m\u001b[0;34m\u001b[0m\u001b[0m\n",
      "\u001b[0;32m~/miniforge3/envs/hfm_1.1.2_pip2/lib/python3.9/site-packages/numpy/core/overrides.py\u001b[0m in \u001b[0;36m<module>\u001b[0;34m\u001b[0m\n\u001b[1;32m      6\u001b[0m \u001b[0;34m\u001b[0m\u001b[0m\n\u001b[0;32m----> 7\u001b[0;31m from numpy.core._multiarray_umath import (\n\u001b[0m\u001b[1;32m      8\u001b[0m     add_docstring, implement_array_function, _get_implementing_args)\n",
      "\u001b[0;31mImportError\u001b[0m: dlopen(/Users/chris/miniforge3/envs/hfm_1.1.2_pip2/lib/python3.9/site-packages/numpy/core/_multiarray_umath.cpython-39-darwin.so, 2): Library not loaded: @rpath/libcblas.3.dylib\n  Referenced from: /Users/chris/miniforge3/envs/hfm_1.1.2_pip2/lib/python3.9/site-packages/numpy/core/_multiarray_umath.cpython-39-darwin.so\n  Reason: image not found",
      "\nDuring handling of the above exception, another exception occurred:\n",
      "\u001b[0;31mImportError\u001b[0m                               Traceback (most recent call last)",
      "\u001b[0;32m~/DocumentLocal/workspace/hfm/scripts_in_progress/xml_parser/music_xml_parser/core/plot.py\u001b[0m in \u001b[0;36m<module>\u001b[0;34m\u001b[0m\n\u001b[1;32m      7\u001b[0m     \u001b[0;32mfrom\u001b[0m \u001b[0;34m.\u001b[0m\u001b[0mparser_utils\u001b[0m \u001b[0;32mimport\u001b[0m \u001b[0mZoomPan\u001b[0m\u001b[0;34m\u001b[0m\u001b[0;34m\u001b[0m\u001b[0m\n\u001b[0;32m----> 8\u001b[0;31m     \u001b[0;32mfrom\u001b[0m \u001b[0;34m.\u001b[0m\u001b[0mutils\u001b[0m \u001b[0;32mimport\u001b[0m \u001b[0mstr2midi\u001b[0m\u001b[0;34m,\u001b[0m \u001b[0mmidi2str\u001b[0m\u001b[0;34m,\u001b[0m \u001b[0mmidi2pitchclass\u001b[0m\u001b[0;34m\u001b[0m\u001b[0;34m\u001b[0m\u001b[0m\n\u001b[0m\u001b[1;32m      9\u001b[0m \u001b[0;32mexcept\u001b[0m\u001b[0;34m:\u001b[0m\u001b[0;34m\u001b[0m\u001b[0;34m\u001b[0m\u001b[0m\n",
      "\u001b[0;32m~/DocumentLocal/workspace/hfm/scripts_in_progress/xml_parser/music_xml_parser/core/utils.py\u001b[0m in \u001b[0;36m<module>\u001b[0;34m\u001b[0m\n\u001b[1;32m      3\u001b[0m \u001b[0;34m\u001b[0m\u001b[0m\n\u001b[0;32m----> 4\u001b[0;31m \u001b[0;32mimport\u001b[0m \u001b[0mnumpy\u001b[0m \u001b[0;32mas\u001b[0m \u001b[0mnp\u001b[0m\u001b[0;34m\u001b[0m\u001b[0;34m\u001b[0m\u001b[0m\n\u001b[0m\u001b[1;32m      5\u001b[0m \u001b[0;32mimport\u001b[0m \u001b[0mpandas\u001b[0m \u001b[0;32mas\u001b[0m \u001b[0mpd\u001b[0m\u001b[0;34m\u001b[0m\u001b[0;34m\u001b[0m\u001b[0m\n",
      "\u001b[0;32m~/miniforge3/envs/hfm_1.1.2_pip2/lib/python3.9/site-packages/numpy/__init__.py\u001b[0m in \u001b[0;36m<module>\u001b[0;34m\u001b[0m\n\u001b[1;32m    144\u001b[0m \u001b[0;34m\u001b[0m\u001b[0m\n\u001b[0;32m--> 145\u001b[0;31m     \u001b[0;32mfrom\u001b[0m \u001b[0;34m.\u001b[0m \u001b[0;32mimport\u001b[0m \u001b[0mcore\u001b[0m\u001b[0;34m\u001b[0m\u001b[0;34m\u001b[0m\u001b[0m\n\u001b[0m\u001b[1;32m    146\u001b[0m     \u001b[0;32mfrom\u001b[0m \u001b[0;34m.\u001b[0m\u001b[0mcore\u001b[0m \u001b[0;32mimport\u001b[0m \u001b[0;34m*\u001b[0m\u001b[0;34m\u001b[0m\u001b[0;34m\u001b[0m\u001b[0m\n",
      "\u001b[0;32m~/miniforge3/envs/hfm_1.1.2_pip2/lib/python3.9/site-packages/numpy/core/__init__.py\u001b[0m in \u001b[0;36m<module>\u001b[0;34m\u001b[0m\n\u001b[1;32m     47\u001b[0m         __version__, exc)\n\u001b[0;32m---> 48\u001b[0;31m     \u001b[0;32mraise\u001b[0m \u001b[0mImportError\u001b[0m\u001b[0;34m(\u001b[0m\u001b[0mmsg\u001b[0m\u001b[0;34m)\u001b[0m\u001b[0;34m\u001b[0m\u001b[0;34m\u001b[0m\u001b[0m\n\u001b[0m\u001b[1;32m     49\u001b[0m \u001b[0;32mfinally\u001b[0m\u001b[0;34m:\u001b[0m\u001b[0;34m\u001b[0m\u001b[0;34m\u001b[0m\u001b[0m\n",
      "\u001b[0;31mImportError\u001b[0m: \n\nIMPORTANT: PLEASE READ THIS FOR ADVICE ON HOW TO SOLVE THIS ISSUE!\n\nImporting the numpy C-extensions failed. This error can happen for\nmany reasons, often due to issues with your setup or how NumPy was\ninstalled.\n\nWe have compiled some common reasons and troubleshooting tips at:\n\n    https://numpy.org/devdocs/user/troubleshooting-importerror.html\n\nPlease note and check the following:\n\n  * The Python version is: Python3.9 from \"/Users/chris/miniforge3/envs/hfm_1.1.2_pip2/bin/python\"\n  * The NumPy version is: \"1.20.3\"\n\nand make sure that they are the versions you expect.\nPlease carefully study the documentation linked above for further help.\n\nOriginal error was: dlopen(/Users/chris/miniforge3/envs/hfm_1.1.2_pip2/lib/python3.9/site-packages/numpy/core/_multiarray_umath.cpython-39-darwin.so, 2): Library not loaded: @rpath/libcblas.3.dylib\n  Referenced from: /Users/chris/miniforge3/envs/hfm_1.1.2_pip2/lib/python3.9/site-packages/numpy/core/_multiarray_umath.cpython-39-darwin.so\n  Reason: image not found\n",
      "\nDuring handling of the above exception, another exception occurred:\n",
      "\u001b[0;31mModuleNotFoundError\u001b[0m                       Traceback (most recent call last)",
      "\u001b[0;32m~/DocumentLocal/workspace/hfm/scripts_in_progress/xml_parser/music_xml_parser/core/parse.py\u001b[0m in \u001b[0;36m<module>\u001b[0;34m\u001b[0m\n\u001b[1;32m      8\u001b[0m     \u001b[0;32mfrom\u001b[0m \u001b[0;34m.\u001b[0m\u001b[0mparser_utils\u001b[0m \u001b[0;32mimport\u001b[0m \u001b[0m_get_file_path\u001b[0m\u001b[0;34m\u001b[0m\u001b[0;34m\u001b[0m\u001b[0m\n\u001b[0;32m----> 9\u001b[0;31m     \u001b[0;32mfrom\u001b[0m \u001b[0;34m.\u001b[0m\u001b[0mplot\u001b[0m \u001b[0;32mimport\u001b[0m \u001b[0mpianoroll_parts\u001b[0m\u001b[0;34m\u001b[0m\u001b[0;34m\u001b[0m\u001b[0m\n\u001b[0m\u001b[1;32m     10\u001b[0m     \u001b[0;32mfrom\u001b[0m \u001b[0;34m.\u001b[0m\u001b[0mxml_parser\u001b[0m \u001b[0;32mimport\u001b[0m \u001b[0mXMLParser\u001b[0m\u001b[0;34m\u001b[0m\u001b[0;34m\u001b[0m\u001b[0m\n",
      "\u001b[0;32m~/DocumentLocal/workspace/hfm/scripts_in_progress/xml_parser/music_xml_parser/core/plot.py\u001b[0m in \u001b[0;36m<module>\u001b[0;34m\u001b[0m\n\u001b[1;32m      9\u001b[0m \u001b[0;32mexcept\u001b[0m\u001b[0;34m:\u001b[0m\u001b[0;34m\u001b[0m\u001b[0;34m\u001b[0m\u001b[0m\n\u001b[0;32m---> 10\u001b[0;31m     \u001b[0;32mfrom\u001b[0m \u001b[0mparser_utils\u001b[0m \u001b[0;32mimport\u001b[0m \u001b[0mZoomPan\u001b[0m\u001b[0;34m\u001b[0m\u001b[0;34m\u001b[0m\u001b[0m\n\u001b[0m\u001b[1;32m     11\u001b[0m     \u001b[0;32mfrom\u001b[0m \u001b[0mutils\u001b[0m \u001b[0;32mimport\u001b[0m \u001b[0mstr2midi\u001b[0m\u001b[0;34m,\u001b[0m \u001b[0mmidi2str\u001b[0m\u001b[0;34m,\u001b[0m \u001b[0mmidi2pitchclass\u001b[0m\u001b[0;34m\u001b[0m\u001b[0;34m\u001b[0m\u001b[0m\n",
      "\u001b[0;31mModuleNotFoundError\u001b[0m: No module named 'parser_utils'",
      "\nDuring handling of the above exception, another exception occurred:\n",
      "\u001b[0;31mModuleNotFoundError\u001b[0m                       Traceback (most recent call last)",
      "\u001b[0;32m<ipython-input-1-e22cb8c700c8>\u001b[0m in \u001b[0;36m<module>\u001b[0;34m\u001b[0m\n\u001b[1;32m      3\u001b[0m \u001b[0msys\u001b[0m\u001b[0;34m.\u001b[0m\u001b[0mpath\u001b[0m\u001b[0;34m.\u001b[0m\u001b[0mappend\u001b[0m\u001b[0;34m(\u001b[0m\u001b[0mos\u001b[0m\u001b[0;34m.\u001b[0m\u001b[0mgetcwd\u001b[0m\u001b[0;34m(\u001b[0m\u001b[0;34m)\u001b[0m\u001b[0;34m.\u001b[0m\u001b[0mreplace\u001b[0m\u001b[0;34m(\u001b[0m\u001b[0mos\u001b[0m\u001b[0;34m.\u001b[0m\u001b[0mpath\u001b[0m\u001b[0;34m.\u001b[0m\u001b[0mjoin\u001b[0m\u001b[0;34m(\u001b[0m\u001b[0;34m'music_xml_parser'\u001b[0m\u001b[0;34m,\u001b[0m \u001b[0;34m'ipynb'\u001b[0m\u001b[0;34m)\u001b[0m\u001b[0;34m,\u001b[0m \u001b[0;34m''\u001b[0m\u001b[0;34m)\u001b[0m\u001b[0;34m)\u001b[0m\u001b[0;34m\u001b[0m\u001b[0;34m\u001b[0m\u001b[0m\n\u001b[1;32m      4\u001b[0m \u001b[0;34m\u001b[0m\u001b[0m\n\u001b[0;32m----> 5\u001b[0;31m \u001b[0;32mimport\u001b[0m \u001b[0mmusic_xml_parser\u001b[0m \u001b[0;32mas\u001b[0m \u001b[0mmp\u001b[0m\u001b[0;34m\u001b[0m\u001b[0;34m\u001b[0m\u001b[0m\n\u001b[0m\u001b[1;32m      6\u001b[0m \u001b[0;32mimport\u001b[0m \u001b[0mcsv\u001b[0m\u001b[0;34m\u001b[0m\u001b[0;34m\u001b[0m\u001b[0m\n\u001b[1;32m      7\u001b[0m \u001b[0;32mfrom\u001b[0m \u001b[0mIPython\u001b[0m\u001b[0;34m.\u001b[0m\u001b[0mdisplay\u001b[0m \u001b[0;32mimport\u001b[0m \u001b[0mHTML\u001b[0m\u001b[0;34m,\u001b[0m \u001b[0mdisplay\u001b[0m\u001b[0;34m\u001b[0m\u001b[0;34m\u001b[0m\u001b[0m\n",
      "\u001b[0;32m~/DocumentLocal/workspace/hfm/scripts_in_progress/xml_parser/music_xml_parser/__init__.py\u001b[0m in \u001b[0;36m<module>\u001b[0;34m\u001b[0m\n\u001b[1;32m      1\u001b[0m \u001b[0;31m#!/usr/bin/python\u001b[0m\u001b[0;34m\u001b[0m\u001b[0;34m\u001b[0m\u001b[0m\n\u001b[1;32m      2\u001b[0m \u001b[0;34m\u001b[0m\u001b[0m\n\u001b[0;32m----> 3\u001b[0;31m \u001b[0;32mfrom\u001b[0m \u001b[0;34m.\u001b[0m\u001b[0mcore\u001b[0m \u001b[0;32mimport\u001b[0m \u001b[0manalyse\u001b[0m\u001b[0;34m,\u001b[0m \u001b[0mparse\u001b[0m\u001b[0;34m,\u001b[0m \u001b[0mdownload_xml\u001b[0m\u001b[0;34m,\u001b[0m \u001b[0mparser_utils\u001b[0m\u001b[0;34m,\u001b[0m \u001b[0msearch_database\u001b[0m\u001b[0;34m,\u001b[0m \u001b[0mutils\u001b[0m\u001b[0;34m,\u001b[0m \u001b[0mweb_scrapper\u001b[0m\u001b[0;34m,\u001b[0m \u001b[0mxml_parser\u001b[0m\u001b[0;34m\u001b[0m\u001b[0;34m\u001b[0m\u001b[0m\n\u001b[0m",
      "\u001b[0;32m~/DocumentLocal/workspace/hfm/scripts_in_progress/xml_parser/music_xml_parser/core/__init__.py\u001b[0m in \u001b[0;36m<module>\u001b[0;34m\u001b[0m\n\u001b[1;32m     11\u001b[0m \u001b[0;34m\u001b[0m\u001b[0m\n\u001b[1;32m     12\u001b[0m \u001b[0;34m\u001b[0m\u001b[0m\n\u001b[0;32m---> 13\u001b[0;31m \u001b[0;32mfrom\u001b[0m \u001b[0;34m.\u001b[0m\u001b[0mparse\u001b[0m \u001b[0;32mimport\u001b[0m \u001b[0mpianoroll_parts\u001b[0m\u001b[0;34m\u001b[0m\u001b[0;34m\u001b[0m\u001b[0m\n\u001b[0m\u001b[1;32m     14\u001b[0m \u001b[0;32mfrom\u001b[0m \u001b[0;34m.\u001b[0m\u001b[0manalyse\u001b[0m \u001b[0;32mimport\u001b[0m \u001b[0mambitus\u001b[0m\u001b[0;34m,\u001b[0m\u001b[0;31m\\\u001b[0m\u001b[0;34m\u001b[0m\u001b[0;34m\u001b[0m\u001b[0m\n\u001b[1;32m     15\u001b[0m     \u001b[0mpitch_histogram\u001b[0m\u001b[0;34m,\u001b[0m\u001b[0;31m\\\u001b[0m\u001b[0;34m\u001b[0m\u001b[0;34m\u001b[0m\u001b[0m\n",
      "\u001b[0;32m~/DocumentLocal/workspace/hfm/scripts_in_progress/xml_parser/music_xml_parser/core/parse.py\u001b[0m in \u001b[0;36m<module>\u001b[0;34m\u001b[0m\n\u001b[1;32m     13\u001b[0m \u001b[0;34m\u001b[0m\u001b[0m\n\u001b[1;32m     14\u001b[0m \u001b[0;32mexcept\u001b[0m\u001b[0;34m:\u001b[0m\u001b[0;34m\u001b[0m\u001b[0;34m\u001b[0m\u001b[0m\n\u001b[0;32m---> 15\u001b[0;31m     \u001b[0;32mfrom\u001b[0m \u001b[0mparser_utils\u001b[0m \u001b[0;32mimport\u001b[0m \u001b[0;34m*\u001b[0m\u001b[0;34m\u001b[0m\u001b[0;34m\u001b[0m\u001b[0m\n\u001b[0m\u001b[1;32m     16\u001b[0m     \u001b[0;32mfrom\u001b[0m \u001b[0mparser_utils\u001b[0m \u001b[0;32mimport\u001b[0m \u001b[0m_get_file_path\u001b[0m\u001b[0;34m\u001b[0m\u001b[0;34m\u001b[0m\u001b[0m\n\u001b[1;32m     17\u001b[0m     \u001b[0;32mfrom\u001b[0m \u001b[0mplot\u001b[0m \u001b[0;32mimport\u001b[0m \u001b[0mpianoroll_parts\u001b[0m\u001b[0;34m\u001b[0m\u001b[0;34m\u001b[0m\u001b[0m\n",
      "\u001b[0;31mModuleNotFoundError\u001b[0m: No module named 'parser_utils'"
     ]
    }
   ],
   "source": [
    "import sys\n",
    "import os\n",
    "sys.path.append(os.getcwd().replace(os.path.join('music_xml_parser', 'ipynb'), ''))\n",
    "\n",
    "import music_xml_parser as mp\n",
    "import csv\n",
    "from IPython.display import HTML, display\n",
    "import numpy as np\n",
    "import pandas as pd\n",
    "import matplotlib.pyplot as plt\n",
    "\n",
    "# Mit diesen Befehlen wird nicht nur 'music21', \n",
    "# sondern darüber hinaus die Bibliotheken 'numpy' und 'pandas' für statische Auswertungen \n",
    "# sowie 'matplotlib' für grafische Darstellungen geladen. \n",
    "\n",
    "# mit den folgenden Befehlen wird die Formtierung für die Tabellen festgelegt, \n",
    "# die weiter unten dargestellt werden: \n",
    "\n",
    "pd.set_option('display.max_rows', 9999)\n",
    "pd.set_option('display.max_columns', 9999)\n",
    "pd.set_option('display.width', 9999)\n",
    "\n",
    "\n",
    "\n",
    "\n"
   ]
  },
  {
   "cell_type": "markdown",
   "id": "2fef3266",
   "metadata": {},
   "source": [
    "Anschließend müssen Sie die Datei laden, die Sie untersuchen wollen (aus dem Internet oder von Ihrer Festplatte bzw. aus dem Notenordner) und den xml-parser aktivieren. Dabei wird aus der xml-Datei ein neuer dataframe ('m_df') erzeugt, der den folgenden statistischen Abfragen zugrunde liegt. \n",
    "\n",
    "Wir wählen für unser Tutorial als Beispiel den ersten Satz aus dem Streichquartett KV. 171 von Wolfgang Amadeus Mozart. "
   ]
  },
  {
   "cell_type": "code",
   "execution_count": null,
   "id": "82fe1f01",
   "metadata": {
    "scrolled": false
   },
   "outputs": [],
   "source": [
    "# xml_file = 'PrJode_Jos1102_COM_1-5_MissaLasol_002_00137.xml'\n",
    "#xml_file = 'BaJoSe_BWV18_COM_5-5_CantataGle_004_00110.xml'\n",
    "# xml_file = 'BeLuva_Op59_1-3_1-4_StringQuar_003_00129.xml'\n",
    "\n",
    "#xml_file = 'MoWo_K279_COM_1-3_PianoSonat_003_00920.xml'\n",
    "#xml_file = 'https://analyse.hfm-weimar.de/database/03/BoMaEn_Op115_11-22_COM_ThemeetVar_003_00181.xml'\n",
    "# xml_file = 'https://analyse.hfm-weimar.de/database/03/MoWo_K279_COM_1-3_PianoSonat_003_00920.xml'\n",
    "xml_file = 'https://analyse.hfm-weimar.de/database/03/MoWo_K171_COM_1-4_StringQuar_003_00867.xml'\n",
    "\n",
    "m_df = mp.parse.with_xml_file(file=xml_file,\n",
    "                                    save_at=None,\n",
    "                                    save_file_name=None,\n",
    "                                    do_save=False, \n",
    "                                    x_axis_res=2)\n",
    "\n",
    "# 'm_df' wird als Variable für den Pandas-Dataframe definiert. \n",
    "# Dabei können verschiedene arameter festgelegt werden (in der Regel mit True/False oder True/None)\n",
    "\n",
    "# save_at \n",
    "# save_file_name\n",
    "# do_save\n",
    "# x_axis_res - Auflösung der X-Achse als Teiler der Viertelnote (2=0.5 Viertelnote)\n",
    "# get_measure_onset "
   ]
  },
  {
   "cell_type": "markdown",
   "id": "ec86d3f8",
   "metadata": {},
   "source": [
    "@ Egor: Könntest Du bitte noch die einzelnen Parameter kurz erläutern? (Oder löschen, falls Sie hier nicht relevant sind. "
   ]
  },
  {
   "cell_type": "markdown",
   "id": "dc8ce4ae",
   "metadata": {},
   "source": [
    "### 1. Abfrage von einfachen statistischen Angaben"
   ]
  },
  {
   "cell_type": "markdown",
   "id": "57664065",
   "metadata": {},
   "source": [
    "Wir beginnen mit einfachen statistischen Abfragen: Anzahl der Stimmen, Anzahl der Töne (insgesamt und pro Stimmen), Länge in Takten, Ambitus:"
   ]
  },
  {
   "cell_type": "code",
   "execution_count": null,
   "id": "c46bf967",
   "metadata": {},
   "outputs": [],
   "source": [
    "v = m_df[['PartID','PartName']].drop_duplicates().to_numpy()\n",
    "mp.utils.display_table(data=v, \n",
    "                       columns=['Part ID', 'PartNames'])\n",
    "\n",
    "# in der ersten Zeile wird aus der dataframe-Liste des xml-Parser ('m_df')\n",
    "# die PartIDs und PartNames, \n",
    "# also die IDs und Bezeichnungen der einzelnen Stimmen, abgefragt. \n",
    "# Hierfür wird die Variable 'v' vergeben.\n",
    "# In der zweiten Zeile wird die Darstellung der Tabelle festgelegt. "
   ]
  },
  {
   "cell_type": "code",
   "execution_count": null,
   "id": "27e7c47a",
   "metadata": {},
   "outputs": [],
   "source": [
    "m = m_df['Measure'].to_numpy(dtype=int)\n",
    "max(m)\n",
    "# Abfrage der Stückänge in Takten"
   ]
  },
  {
   "cell_type": "code",
   "execution_count": null,
   "id": "b70ddec4",
   "metadata": {},
   "outputs": [],
   "source": [
    "n_notes, c_notes = np.unique(m_df['PartID'], return_counts=True)\n",
    "data = [[i, c] for i, c in zip(n_notes, c_notes) ]\n",
    "mp.utils.display_table(data=data, \n",
    "                       columns=['PartID', '# Notes'])\n",
    " \n",
    "# Abfrage der Anzahl der Töne per Stimme \n",
    "# (wobei übergebundene Noten jeweils als eine Note gezählt werden). \n",
    "# Falls die Stimmen verschiedene Bezeichnungen besitzen, \n",
    "# kann 'Part ID' durch 'Part Name' ersetzt werden. "
   ]
  },
  {
   "cell_type": "code",
   "execution_count": null,
   "id": "543e26be",
   "metadata": {},
   "outputs": [],
   "source": [
    "ambitus = mp.analyse.ambitus(m_df,output_as_midi=True)\n",
    "mp.utils.display_table(data=ambitus, \n",
    "                       columns=['Part ID', 'min', 'max', 'Ambitus'])\n",
    "\n",
    "# Der Ambitus per Stimme errechnet sich aus der Differenz zwischen \n",
    "# dem niedrigsten (min) und höchsten (max) Ton, hier angegeben in MIDI-Werten. "
   ]
  },
  {
   "cell_type": "code",
   "execution_count": null,
   "id": "7a1cdc9b",
   "metadata": {},
   "outputs": [],
   "source": [
    "ambitus = mp.analyse.ambitus(m_df,output_as_midi=False)\n",
    "mp.utils.display_table(data=ambitus, \n",
    "                       columns=['Part ID', 'min', 'max', 'Semitones Difference'])\n",
    "\n",
    "# Durch den Zusatz 'output_as_midi=False' werden die Töne mit Tonnamen angegeben. "
   ]
  },
  {
   "cell_type": "markdown",
   "id": "debe391c",
   "metadata": {},
   "source": [
    "Aufgabe: Ersetzen Sie in dem Befehl 'Part ID' durch 'Part Name' und drücken Sie im Menu auf Run. Wie verändert sich dadurch die Tabelle?"
   ]
  },
  {
   "cell_type": "markdown",
   "id": "595a6d86",
   "metadata": {},
   "source": [
    "### 2. Häufigkeiten: Tonhöhen, Tonhöhenklassen, Tondauern"
   ]
  },
  {
   "cell_type": "markdown",
   "id": "1408c885",
   "metadata": {},
   "source": [
    "Zur Charakterisierung einzelner Musikstücke und zum Vergleich zwischen verschiedenen Musikstücken kann es sinnvoll sein, die Häufigkeit bestimmter Elemente (Tonhöhen, Dauernwerte, Akkorde etc.) zu bestimmen. Für solche Fragen lassen sich Häufigkeitstabellen und grafische Darstellungen, sog. Histogramme erstellen. "
   ]
  },
  {
   "cell_type": "markdown",
   "id": "f3b846f5",
   "metadata": {},
   "source": [
    "### 2.1 Tonhöhen"
   ]
  },
  {
   "cell_type": "markdown",
   "id": "531359ea",
   "metadata": {},
   "source": [
    "Welche Töne tauchen wie häufig auf? Wie diatonisch ist der Tonraum der Komposition, wie viele zusätzliche chromatische Töne tauchen auf?"
   ]
  },
  {
   "cell_type": "code",
   "execution_count": null,
   "id": "e7b9021b",
   "metadata": {
    "scrolled": false
   },
   "outputs": [],
   "source": [
    "\n",
    "pitch_hist = mp.analyse.pitch_histogram(m_df, do_plot=True, visulize_midi_range=None)\n",
    "mp.utils.display_table(data=pitch_hist, \n",
    "                       columns=['MIDI', 'Pitch','Occurences'])\n",
    "# Mit der ersten Zeile wird die Abfrage ausgeführt \n",
    "# und die Grafik dargestellt ('do_plot=True').\n",
    "# Mit der zweiten Zeile wird die Tabelle dargestellt und beschriftet. \n"
   ]
  },
  {
   "cell_type": "markdown",
   "id": "f4bf6e51",
   "metadata": {},
   "source": [
    "Was können wir beobachten?"
   ]
  },
  {
   "cell_type": "markdown",
   "id": "85235e55",
   "metadata": {},
   "source": [
    "##### Vertiefungen:"
   ]
  },
  {
   "cell_type": "markdown",
   "id": "c5a4fb87",
   "metadata": {},
   "source": [
    "Die Grafik lässt sich auch in einem externen Pop-Up-Fenster des Programms Matplotlib darstellen und dort weiterverarbeiten, speichern etc. Dazu muss dem Code der Befehl '%matplotlib' vorangestellt werden: "
   ]
  },
  {
   "cell_type": "code",
   "execution_count": null,
   "id": "a078988e",
   "metadata": {},
   "outputs": [],
   "source": [
    "%matplotlib\n",
    "pitch_hist = mp.analyse.pitch_histogram(m_df, do_plot=True, visulize_midi_range=None)"
   ]
  },
  {
   "cell_type": "markdown",
   "id": "1bd39570",
   "metadata": {},
   "source": [
    "Anschließend muss Matplotlib durch den Befehl '%matplotlib inline' wieder ausgeschaltet werden. Ansonsten werden alle folgenden Grafiken extern dargestellt. "
   ]
  },
  {
   "cell_type": "code",
   "execution_count": null,
   "id": "9ad7667a",
   "metadata": {},
   "outputs": [],
   "source": [
    "%matplotlib inline"
   ]
  },
  {
   "cell_type": "markdown",
   "id": "273b18ad",
   "metadata": {},
   "source": [
    "Es gibt zwei weitere Möglichkeiten, die Darstellung zu verbessern: \n",
    "Einerseits kann die Darstellung auf einen bestimmten Tonhöhenbereich eingeschränkt werden. \n",
    "Andererseits können nur jene Tonhöhen ausgewählt werden, die tatsächlich auftreten. "
   ]
  },
  {
   "cell_type": "code",
   "execution_count": null,
   "id": "a5e9f8fc",
   "metadata": {},
   "outputs": [],
   "source": [
    "ph = mp.analyse.pitch_histogram(m_df, do_plot=True, visulize_midi_range=[50, 90])\n",
    "\n",
    "# Durch den Zusatz 'visulize_midi_range=[50, 90]' wurde der dargestellte Ausschnitt\n",
    "# auf den Bereich zwischen MIDI-Pitch 50 (= D3) und 90 (= F6) eingegrenzt."
   ]
  },
  {
   "cell_type": "code",
   "execution_count": null,
   "id": "28b25bb6",
   "metadata": {},
   "outputs": [],
   "source": [
    "\n",
    "ph2 = mp.analyse.pitch_histogram(m_df, do_plot=True, do_plot_full_axis=False, visulize_midi_range=None)\n",
    "\n",
    "# Durch den Zusatz 'do_plot_full_axis=False,' werden bei der folgenden Grafik \n",
    "# nur die Häufigkeiten von Tönen angezeigt, die auch tatsächlich auftauchen. \n",
    "# Alle anderen Töne werden auf der x-Achse gelöscht. "
   ]
  },
  {
   "cell_type": "markdown",
   "id": "a44af4d5",
   "metadata": {},
   "source": [
    "Durch den folgenden Befehl wird eine Liste der Tonhöhenhäufigkeiten angezeigt und als csv-Datei exportiert (csv = comma separated variables; lesbar und weiterverarbeitbar u.a. in Excel oder im Text-Editor). Durch den Export lassen sich Tabellen zum Stückvergleich und zur Korpusanalyse generieren. Die csv-Datei wird in dem Ordner gespeichert, den Sie in Ihren Settings als \"settings['directoryScratch']\" festgelegt haben und kann mit einem Texteditor oder einem Tabellenkalkulationsprogramm (z.B. Excel) geöffnet werden. "
   ]
  },
  {
   "cell_type": "code",
   "execution_count": null,
   "id": "f7be7be1",
   "metadata": {},
   "outputs": [],
   "source": [
    "mp.utils.export_as_csv(data=pitch_hist, \n",
    "                       columns=['MIDI','Pitch','Occurrences'],\n",
    "                       save_file_name ='pitch_histogram.csv',  # Sie können auch einen anderen Dateinamen festlegen.\n",
    "                       do_save=True,    # Befehl für die Speicherung\n",
    "                       do_print=False,  # bei 'True' wird die Datei nochmals im Browser angezeigt.\n",
    "                       do_return_pd=False,\n",
    "                       sep=';',         # Als Trennzeichen wird ein Semikolon verwendet. \n",
    "                       index=False, \n",
    "                       header=True)\n",
    "\n",
    "# Die Datei pitch_histogram.csv wird automatisch im Ordner music_xml_parser\\data\\exports\\ gespeichert. \n",
    "\n",
    "# \"do_save=True\" nicht vergessen, dann wird csv im demselben Ordner wie der Jupyter-Notebook gespeichert\n",
    "# Wenn Sie in einem anderen Ordner abspeichern wollen, so müssen Sie unter \n",
    "# save_file_name einen Pfad eingeben (z.B. 'C:/pitch_histogram.csv')"
   ]
  },
  {
   "cell_type": "markdown",
   "id": "7763cfe1",
   "metadata": {},
   "source": [
    "@Egor: Bitte noch die restlichen Variablen (do_return_pd, index, header) kurz erläutern!!"
   ]
  },
  {
   "cell_type": "markdown",
   "id": "a562513c",
   "metadata": {},
   "source": [
    "### 2.2 Tonhöhenklassen"
   ]
  },
  {
   "cell_type": "markdown",
   "id": "38228ca7",
   "metadata": {},
   "source": [
    "Die Tönhöhen lassen sich in einem zweiten Schritt zu Tonhöhenklassen zusammenfassen. Dadurch wird das Ergebnis übersichtlicher. "
   ]
  },
  {
   "cell_type": "code",
   "execution_count": null,
   "id": "cb2007ba",
   "metadata": {},
   "outputs": [],
   "source": [
    "pitchclass_hist = mp.analyse.pitch_class_histogram(m_df, do_plot=True)\n",
    "\n",
    "# Die Häufigkeiten werden mit dem folgenden Befehl abgespeichert: \n",
    "\n",
    "mp.utils.export_as_csv(data=pitchclass_hist, \n",
    "                       columns=['Pitch Class','Occurrences'],\n",
    "                       save_file_name ='pitch_class_hist.csv', \n",
    "                       do_save=False,\n",
    "                       do_print=True, \n",
    "                       do_return_pd=False,\n",
    "                       sep=';', \n",
    "                       index=False, \n",
    "                       header=True)\n"
   ]
  },
  {
   "cell_type": "markdown",
   "id": "ae731fe2",
   "metadata": {},
   "source": [
    "To do: Interpretation?"
   ]
  },
  {
   "cell_type": "markdown",
   "id": "a8e8b7ad",
   "metadata": {},
   "source": [
    "### 2.3 Tondauern "
   ]
  },
  {
   "cell_type": "markdown",
   "id": "3cb15b66",
   "metadata": {},
   "source": [
    "Welche Dauernwerte werden in der Komposition verwendet und wie häufig kommen diese jeweils vor?"
   ]
  },
  {
   "cell_type": "code",
   "execution_count": null,
   "id": "18989765",
   "metadata": {},
   "outputs": [],
   "source": [
    "# Für das Dauernwerte-Histogram muss eine andere Befehlsmethode angewendet werden.\n",
    "# Der graph-Befehl muss mit dem run-Befehl kombiniert werden. \n",
    "\n",
    "quarter_dur_hist = mp.analyse.quarterlength_duration_histogram(m_df,\n",
    "                                                               with_pitch=False, \n",
    "                                                               with_pitchclass=False,\n",
    "                                                               do_plot=True)\n",
    "\n",
    "mp.utils.export_as_csv(data=quarter_dur_hist, \n",
    "                       columns=['Duration', 'Occurrences'],\n",
    "                       save_file_name ='quarter_duration_hist.csv', \n",
    "                       do_save=False,         \n",
    "                       do_print=True, \n",
    "                       do_return_pd=False,\n",
    "                       sep=';', \n",
    "                       index=False, \n",
    "                       header=True)"
   ]
  },
  {
   "cell_type": "markdown",
   "id": "5d00ff25",
   "metadata": {},
   "source": [
    "Die Notenwerte werden als Vielfache und Bruchteile einer Viertelnote (Quarter Length) gezählt. "
   ]
  },
  {
   "cell_type": "markdown",
   "id": "053bb09f",
   "metadata": {},
   "source": [
    "@ Christon: how could the bar chart be adjusted in a way that the bars (for the quarter length subdivisions) don't overlap?"
   ]
  },
  {
   "cell_type": "markdown",
   "id": "0f1ec6a9",
   "metadata": {},
   "source": [
    "### 2.4 Metrisches Profil "
   ]
  },
  {
   "cell_type": "markdown",
   "id": "d6263317",
   "metadata": {},
   "source": [
    "Wie deutlich wird das Metrum in den einzelnen Stimmen einer Komposition – durch die Platzierung der Töne auf Taktanfängen und den metrisch wichtigen Positionen innerhalb des Taktes (z.B. der Taktmitte oder auf den Viertelpositionen)? Hierzu lässt sich in eine Liste der Häufigkeiten von Tönen auf den verschiedenen metrischen Positionen in den einzelnen Stimmen anzeigen. \n",
    "Ein solches Profil hat natürlich zur Voraussetzung, dass das untersuchte Stück in einem einzigen Metrum steht und keine Taktwechsel hat. Das überprüft man mit dem folgenden Befehl: "
   ]
  },
  {
   "cell_type": "code",
   "execution_count": null,
   "id": "63c85a51",
   "metadata": {},
   "outputs": [],
   "source": [
    "ts_hist = mp.analyse.time_signature_histogram(m_df, do_plot=False,do_adjusted=False)\n",
    "mp.utils.display_table(data=ts_hist, \n",
    "                       columns=['Time Signature', 'Occurences'])"
   ]
  },
  {
   "cell_type": "markdown",
   "id": "56342b17",
   "metadata": {},
   "source": [
    "@ Christon: Is it possible to list not occurences (= note elements?) but measures instead?"
   ]
  },
  {
   "cell_type": "markdown",
   "id": "d9d5c080",
   "metadata": {},
   "source": [
    "Es tauchen also sowohl 4/4-Takte als auch 3/4-Takte in dem Stück auf, wobei der 3/4-Takt überwiegt. Mit dem folgenden Befehl werden daher zwei unterschiedliche metrische Profile erzeugt. "
   ]
  },
  {
   "cell_type": "code",
   "execution_count": null,
   "id": "b3bb9870",
   "metadata": {},
   "outputs": [],
   "source": [
    "bs_hist_list = mp.analyse.metric_profile_split_time_signature(m_df, with_pitch=False, do_plot=True)\n",
    "\n"
   ]
  },
  {
   "cell_type": "markdown",
   "id": "1fe70434",
   "metadata": {},
   "source": [
    "### 2.4 Intervalle im einstimmigen Verlauf"
   ]
  },
  {
   "cell_type": "markdown",
   "id": "d305f26f",
   "metadata": {},
   "source": [
    "Wie häufig kommen bestimmte Intervallschritte in den einzelnen Stimmen vor? Sind da alle Stimmen ähnlich gelagert – oder gibt es z.B. in den Unterstimmen mehr Sprünge, in der Melodiestimme mehr Schritte?"
   ]
  },
  {
   "cell_type": "markdown",
   "id": "90d21da2",
   "metadata": {},
   "source": [
    "Schauen wir uns zunächst die Intervallverteilung in der ersten Stimme an. "
   ]
  },
  {
   "cell_type": "code",
   "execution_count": null,
   "id": "291ac454",
   "metadata": {},
   "outputs": [],
   "source": [
    "v = m_df[['PartID','PartName']].drop_duplicates().to_numpy()\n",
    "print(v)\n",
    "\n",
    "# Durch diesen Befehl werden zunächst die Stimmen und ihre Bezeichnung angezeigt. \n",
    "\n",
    "interval_hist = mp.analyse.interval(m_df,\n",
    "                                    part='1',\n",
    "                                    do_plot=True)\n",
    "\n",
    "# Durch 'part='1'' wird die erste Stimme angezeigt. \n",
    "# Der folgende Befehl exportiert die Intervallhäufigkeiten\n",
    "# in die Datei 'interval_1.csv' (nur falls 'do_save=True')\n",
    "\n",
    "mp.utils.export_as_csv(data=interval_hist, \n",
    "                       columns=['Interval', 'Occurrences'],\n",
    "                       save_file_name ='interval_1.csv', \n",
    "                       do_save=False,\n",
    "                       do_print=True, \n",
    "                       do_return_pd=False,\n",
    "                       sep=';', \n",
    "                       index=False, \n",
    "                       header=True)"
   ]
  },
  {
   "cell_type": "markdown",
   "id": "493a6d74",
   "metadata": {},
   "source": [
    "//To Do: Interpretation//"
   ]
  },
  {
   "cell_type": "markdown",
   "id": "829aafd6",
   "metadata": {},
   "source": [
    "### 3. Zweidimensionale Häufigkeitsverteilungen"
   ]
  },
  {
   "cell_type": "markdown",
   "id": "f30628c6",
   "metadata": {},
   "source": [
    "Wir haben uns bereits die Häufigkeiten von Tonhöhen bzw. Tonhöhenklassen angeschaut. Nun könnte man sagen: Längere Töne haben natürlich mehr Gewicht als kurze Töne oder Töne zwischen den Zählzeiten. Diesen Gedanken können wir weiterverfolgen, indem wir uns kombinierte, ‚doppelte‘ oder ‚bivariate‘ Häufigkeitsverteilungen: Also z.B. die Häufigkeiten der Tonhöhen für jeweils die verschiedenen Dauernwerte oder die Häufigkeiten der Tonhöhenklasse jeweils für die verschiedenen metrischen Positionen. Hierum soll es im Folgenden anhand von zwei Beispielen gehen.  \n",
    "\n",
    "Beispiel 1: Dauern pro Tonhöhenklassen.\n",
    "Gibt es Unterschiede bei den Dauernwerten bzgl. der verschiedenen Tonhöhenklassen?\n",
    "\n",
    "Beispiel 2: Tonhöhen auf metrischen Positionen\n",
    "Gibt es Unterschiede bei den Dauernwerten bzgl. der verschiedenen Tonhöhenklassen?"
   ]
  },
  {
   "cell_type": "markdown",
   "id": "118b2097",
   "metadata": {},
   "source": [
    "@ Christon: How can we choose pitch classes instead of pitches (in section 3.1 and 3.2). Pitch classes are much more easily understandable..."
   ]
  },
  {
   "cell_type": "markdown",
   "id": "de0bd12b",
   "metadata": {},
   "source": [
    "### 3.1 Dauernwerte pro Tonhöhen"
   ]
  },
  {
   "cell_type": "code",
   "execution_count": null,
   "id": "a72b6c70",
   "metadata": {},
   "outputs": [],
   "source": [
    "dur_pc_hist = mp.analyse.quarterlength_duration_histogram(m_df,\n",
    "                                                          with_pitch=True,\n",
    "                                                          with_pitchclass=False,\n",
    "                                                          do_plot=True)\n",
    "# Durch den Zusatz 'with_pitch=True' wird eine 3D-Grafik der \n",
    "# Tonhöhen pro Dauernklasse aktiviert. "
   ]
  },
  {
   "cell_type": "markdown",
   "id": "f83dbfd4",
   "metadata": {},
   "source": [
    "Da die CD-Grafik im Browser sehr klein ist, empfiehlt es sich auch hier, sie in einem externen Fenster zu öffnen. Dies geschieht, indem der Befehl '%matplotlib' vorangestellt wird: "
   ]
  },
  {
   "cell_type": "code",
   "execution_count": null,
   "id": "1576eb2a",
   "metadata": {},
   "outputs": [],
   "source": [
    "%matplotlib\n",
    "\n",
    "dur_pc_hist = mp.analyse.quarterlength_duration_histogram(m_df,\n",
    "                                                          with_pitch=True,\n",
    "                                                          with_pitchclass=False,\n",
    "                                                          do_plot=True)"
   ]
  },
  {
   "cell_type": "markdown",
   "id": "198f6ad0",
   "metadata": {},
   "source": [
    "Nun öffnet sich die Grafik im Matplotlib-Pop-Up-Fenster und kann dort weiter bearbeitet, gedreht und vergrößert werden. Um diese Funktion bei folgenden Grafiken wieder auszuschalten, muss der Befehl '%matplotlib inline' ausgeführt werden: "
   ]
  },
  {
   "cell_type": "code",
   "execution_count": null,
   "id": "e7ea2287",
   "metadata": {},
   "outputs": [],
   "source": [
    "%matplotlib inline"
   ]
  },
  {
   "cell_type": "markdown",
   "id": "d88d35de",
   "metadata": {},
   "source": [
    "### 3.2 Tonhöhen pro metrischer Position"
   ]
  },
  {
   "cell_type": "code",
   "execution_count": null,
   "id": "977c80c2",
   "metadata": {
    "scrolled": false
   },
   "outputs": [],
   "source": [
    "metric_profile_p_hist = mp.analyse.metric_profile(m_df, with_pitch=True, do_plot=True)\n",
    "\n",
    "mp.utils.export_as_csv(data=metric_profile_p_hist, \n",
    "                       columns=['MIDI', 'Pitch','Metric Profile','Occurrences'],\n",
    "                       save_file_name ='metric_profile_hist.csv', \n",
    "                       do_save=False,\n",
    "                       do_print=True, \n",
    "                       do_return_pd=False,\n",
    "                       sep=';', \n",
    "                       index=False, \n",
    "                       header=True)"
   ]
  },
  {
   "cell_type": "markdown",
   "id": "3791153e",
   "metadata": {},
   "source": [
    "Auch hier ist es sinnvoll, sich die Grafik im externen Pop-Up-Fenster von Matplotlib anzuschauen. "
   ]
  },
  {
   "cell_type": "code",
   "execution_count": null,
   "id": "c44bb52b",
   "metadata": {
    "scrolled": false
   },
   "outputs": [],
   "source": [
    "%matplotlib\n",
    "\n",
    "# Wichtig: Matplotlib muss anschließend durch die #-Taste sowie zusätzlich\n",
    "# durch den Befehl '&matplotlib inline' wieder ausgeschaltet werden, \n",
    "# sonst werden alle folgenden Grafiken im externen Fenstergeöffnet!\n",
    "\n",
    "metric_profile_p_hist = mp.analyse.metric_profile(m_df, with_pitch=True, do_plot=True)\n",
    "\n",
    "mp.utils.export_as_csv(data=metric_profile_p_hist, \n",
    "                       columns=['MIDI', 'Pitch','Metric Profile','Occurrences'],\n",
    "                       save_file_name ='metric_profile_hist.csv', \n",
    "                       do_save=False,\n",
    "                       do_print=True, \n",
    "                       do_return_pd=False,\n",
    "                       sep=';', \n",
    "                       index=False, \n",
    "                       header=True)"
   ]
  },
  {
   "cell_type": "code",
   "execution_count": null,
   "id": "fce5b530",
   "metadata": {},
   "outputs": [],
   "source": [
    "bs_3dhist_list = mp.analyse.metric_profile_split_time_signature(m_df, with_pitch=True, do_plot=True)\n"
   ]
  },
  {
   "cell_type": "code",
   "execution_count": null,
   "id": "5ef24e93",
   "metadata": {},
   "outputs": [],
   "source": [
    "mp.utils.display_table(data=bs_3dhist_list[0], \n",
    "                       columns=['MIDI', 'Pitch', 'Metric Profile', 'Occurrences'])"
   ]
  },
  {
   "cell_type": "markdown",
   "id": "648d3b25",
   "metadata": {},
   "source": [
    "### 4. Anwendung von Takt- und Stimmenfilter"
   ]
  },
  {
   "cell_type": "markdown",
   "id": "137fa0fc",
   "metadata": {},
   "source": [
    "Alle statistischen Abfragen lassen sich durch eine einfach zu bedienende Filterfunktion auf beliebige Ausschnitte und Stimmen eingrenzen. Dazu muss man nur die entsprechenden Taktangaben und Stimmenbezeichnungen eingeben. \n",
    "\n",
    "Hier zwei Beispiele: "
   ]
  },
  {
   "cell_type": "markdown",
   "id": "exclusive-excellence",
   "metadata": {},
   "source": [
    "Mit den folgenden Befehlen lässt sich die Liste der Intervallhäufigkeiten anzeigen exportieren bzw. als Histogramm anzeigen."
   ]
  },
  {
   "cell_type": "code",
   "execution_count": null,
   "id": "protective-abuse",
   "metadata": {},
   "outputs": [],
   "source": [
    "# Ausgewählt werden die erste und zweite Stimme ('PartID':'1-2')\n",
    "# und die Takte 1-5 ('Measure':'1-5')\n",
    "# Diese Auswahl lässt sich beliebig verändern! \n",
    "\n",
    "filter_dict_interval ={'PartID':'1-2', 'Measure':'1-5'}\n",
    "interval_hist_example = mp.analyse.interval(m_df,\n",
    "                                    part='all',\n",
    "                                    do_plot=True, filter_dict = filter_dict_interval)\n",
    "\n",
    "mp.utils.export_as_csv(data=interval_hist_example, \n",
    "                       columns=['Interval', 'Occurrences'],\n",
    "                       save_file_name ='interval.csv', \n",
    "                       do_save=False,\n",
    "                       do_print=True, \n",
    "                       do_return_pd=False,\n",
    "                       sep=';', \n",
    "                       index=False, \n",
    "                       header=True)"
   ]
  },
  {
   "cell_type": "markdown",
   "id": "a13c1a3c",
   "metadata": {},
   "source": [
    "### 5. Aufgaben"
   ]
  },
  {
   "cell_type": "markdown",
   "id": "36ecae40",
   "metadata": {},
   "source": [
    "Vergleichende statistische Abfragen über mehrere Stücke:\n",
    "\n",
    "Wir haben uns die Ergebnisse bislang nur anhand jeweils eines Stückes angeschaut. Wie stellt sich nun aber die Lage dar, wenn wir mehrere Stücke, z.B. mehrere oder alle Sätze der Komposition, miteinander – und mit anderen Stücken – vergleichen? Gibt es da tatsächlich stilistische Regelmäßigkeiten – oder überwiegen die Unterschiede?\n",
    "\n",
    "Wählen Sie Kompositionen Ihrer Wahl (verschiedene Gattungen, Komponisten und Epochen) und vergleichen Sie diese Stücke hinsichtlich der Häufigkeiten von Tonhöhen, Tonhöhenklassen, Notenwerten und Intervallen. Beschreiben Sie die Ergebnisse!"
   ]
  },
  {
   "cell_type": "code",
   "execution_count": null,
   "id": "b970bbad",
   "metadata": {},
   "outputs": [],
   "source": []
  }
 ],
 "metadata": {
  "kernelspec": {
   "display_name": "Python 3",
   "language": "python",
   "name": "python3"
  },
  "language_info": {
   "codemirror_mode": {
    "name": "ipython",
    "version": 3
   },
   "file_extension": ".py",
   "mimetype": "text/x-python",
   "name": "python",
   "nbconvert_exporter": "python",
   "pygments_lexer": "ipython3",
   "version": "3.9.7"
  }
 },
 "nbformat": 4,
 "nbformat_minor": 5
}
